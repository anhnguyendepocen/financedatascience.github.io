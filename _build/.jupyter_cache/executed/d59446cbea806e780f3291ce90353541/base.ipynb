{
 "cells": [
  {
   "cell_type": "code",
   "execution_count": 1,
   "metadata": {},
   "outputs": [],
   "source": [
    "import requests"
   ]
  },
  {
   "cell_type": "code",
   "execution_count": 2,
   "metadata": {},
   "outputs": [],
   "source": [
    "output = requests.get('http://api.open-notify.org/iss-now.json')"
   ]
  },
  {
   "cell_type": "code",
   "execution_count": 3,
   "metadata": {},
   "outputs": [
    {
     "name": "stdout",
     "output_type": "stream",
     "text": [
      "{'message': 'success', 'iss_position': {'longitude': '22.6975', 'latitude': '-47.8955'}, 'timestamp': 1603231821}\n"
     ]
    }
   ],
   "source": [
    "iss = output.json()\n",
    "print(iss)"
   ]
  },
  {
   "cell_type": "code",
   "execution_count": 4,
   "metadata": {},
   "outputs": [
    {
     "name": "stdout",
     "output_type": "stream",
     "text": [
      "success\n",
      "{'longitude': '22.6975', 'latitude': '-47.8955'}\n"
     ]
    }
   ],
   "source": [
    "print(iss['message'])\n",
    "print(iss['iss_position'])"
   ]
  },
  {
   "cell_type": "code",
   "execution_count": 5,
   "metadata": {},
   "outputs": [
    {
     "name": "stdout",
     "output_type": "stream",
     "text": [
      "The latitude is: -47.8955\n",
      "The longitude is: 22.6975\n"
     ]
    }
   ],
   "source": [
    "print('The latitude is:', iss['iss_position']['latitude'])\n",
    "print('The longitude is:', iss['iss_position']['longitude'])"
   ]
  },
  {
   "cell_type": "code",
   "execution_count": 6,
   "metadata": {},
   "outputs": [
    {
     "name": "stdout",
     "output_type": "stream",
     "text": [
      "[{'word': 'sayable', 'score': 77, 'numSyllables': 3}, {'word': 'playable', 'score': 67, 'numSyllables': 3}, {'word': 'repayable', 'score': 53, 'numSyllables': 4}, {'word': 'weighable', 'score': 41, 'numSyllables': 3}, {'word': 'unpayable', 'score': 32, 'numSyllables': 4}]\n"
     ]
    }
   ],
   "source": [
    "payable_rhyme = requests.get('https://api.datamuse.com/words?rel_rhy=payable').json()\n",
    "print(payable_rhyme)"
   ]
  },
  {
   "cell_type": "code",
   "execution_count": 7,
   "metadata": {},
   "outputs": [
    {
     "name": "stdout",
     "output_type": "stream",
     "text": [
      "{'word': 'sayable', 'score': 77, 'numSyllables': 3}\n"
     ]
    }
   ],
   "source": [
    "print(payable_rhyme[0])"
   ]
  },
  {
   "cell_type": "code",
   "execution_count": 8,
   "metadata": {},
   "outputs": [
    {
     "name": "stdout",
     "output_type": "stream",
     "text": [
      "Collecting gTTS\r\n"
     ]
    },
    {
     "name": "stdout",
     "output_type": "stream",
     "text": [
      "  Downloading gTTS-2.1.1-py3-none-any.whl (25 kB)\r\n"
     ]
    },
    {
     "name": "stdout",
     "output_type": "stream",
     "text": [
      "Requirement already satisfied: beautifulsoup4 in /mnt/software/anaconda3/envs/fds/lib/python3.7/site-packages (from gTTS) (4.9.3)\r\n",
      "Requirement already satisfied: requests in /mnt/software/anaconda3/envs/fds/lib/python3.7/site-packages (from gTTS) (2.24.0)\r\n",
      "Requirement already satisfied: six in /mnt/software/anaconda3/envs/fds/lib/python3.7/site-packages (from gTTS) (1.15.0)\r\n"
     ]
    },
    {
     "name": "stdout",
     "output_type": "stream",
     "text": [
      "Collecting gtts-token>=1.1.3\r\n",
      "  Downloading gTTS-token-1.1.3.tar.gz (3.4 kB)\r\n"
     ]
    },
    {
     "name": "stdout",
     "output_type": "stream",
     "text": [
      "Requirement already satisfied: click in /mnt/software/anaconda3/envs/fds/lib/python3.7/site-packages (from gTTS) (7.1.2)\r\n",
      "Requirement already satisfied: soupsieve>1.2; python_version >= \"3.0\" in /mnt/software/anaconda3/envs/fds/lib/python3.7/site-packages (from beautifulsoup4->gTTS) (2.0.1)\r\n",
      "Requirement already satisfied: urllib3!=1.25.0,!=1.25.1,<1.26,>=1.21.1 in /mnt/software/anaconda3/envs/fds/lib/python3.7/site-packages (from requests->gTTS) (1.25.10)\r\n",
      "Requirement already satisfied: certifi>=2017.4.17 in /mnt/software/anaconda3/envs/fds/lib/python3.7/site-packages (from requests->gTTS) (2020.6.20)\r\n",
      "Requirement already satisfied: chardet<4,>=3.0.2 in /mnt/software/anaconda3/envs/fds/lib/python3.7/site-packages (from requests->gTTS) (3.0.4)\r\n",
      "Requirement already satisfied: idna<3,>=2.5 in /mnt/software/anaconda3/envs/fds/lib/python3.7/site-packages (from requests->gTTS) (2.10)\r\n",
      "Building wheels for collected packages: gtts-token\r\n"
     ]
    },
    {
     "name": "stdout",
     "output_type": "stream",
     "text": [
      "  Building wheel for gtts-token (setup.py) ... \u001b[?25l-"
     ]
    },
    {
     "name": "stdout",
     "output_type": "stream",
     "text": [
      "\b \bdone\r\n"
     ]
    },
    {
     "name": "stdout",
     "output_type": "stream",
     "text": [
      "\u001b[?25h  Created wheel for gtts-token: filename=gTTS_token-1.1.3-py3-none-any.whl size=4097 sha256=54bfb68303a6b85aeacf00eac1dee2b0bdba86b3e76853c8416aee9dc148d0fe\r\n",
      "  Stored in directory: /home/james/.cache/pip/wheels/c1/78/25/81270af5521d88ea8db7da5d4f64872673976eb9692bcb0c13\r\n",
      "Successfully built gtts-token\r\n"
     ]
    },
    {
     "name": "stdout",
     "output_type": "stream",
     "text": [
      "Installing collected packages: gtts-token, gTTS\r\n"
     ]
    },
    {
     "name": "stdout",
     "output_type": "stream",
     "text": [
      "Successfully installed gTTS-2.1.1 gtts-token-1.1.3\r\n"
     ]
    }
   ],
   "source": [
    "# https://www.geeksforgeeks.org/convert-text-speech-python/\n",
    "!pip3 install gTTS\n",
    "from gtts import gTTS"
   ]
  },
  {
   "cell_type": "code",
   "execution_count": 9,
   "metadata": {},
   "outputs": [],
   "source": [
    "mytext = 'I have a lot of accounts payable, when I get the cash is not sayable'\n",
    "language = 'en'\n",
    "myobj = gTTS(text=mytext, lang=language, slow=False)\n",
    "myobj.save(\"rap.mp3\")"
   ]
  },
  {
   "cell_type": "code",
   "execution_count": 10,
   "metadata": {},
   "outputs": [
    {
     "name": "stdout",
     "output_type": "stream",
     "text": [
      "[{'word': 'crude oil', 'score': 117457, 'tags': ['syn', 'n', 'adj']}, {'word': 'petroleum', 'score': 108426, 'tags': ['syn', 'n']}, {'word': 'unrefined', 'score': 100480, 'tags': ['syn', 'adj']}, {'word': 'vulgar', 'score': 100287, 'tags': ['syn', 'adj', 'n']}, {'word': 'coarse', 'score': 97826, 'tags': ['syn', 'adj']}, {'word': 'rude', 'score': 97072, 'tags': ['syn', 'adj']}, {'word': 'indecent', 'score': 96770, 'tags': ['syn', 'adj']}, {'word': 'earthy', 'score': 96131, 'tags': ['syn', 'adj']}, {'word': 'raw', 'score': 95837, 'tags': ['syn', 'adj', 'n']}, {'word': 'gross', 'score': 95227, 'tags': ['syn', 'adj']}]\n"
     ]
    }
   ],
   "source": [
    "crude_words = requests.get('https://api.datamuse.com/words?ml=crude').json()\n",
    "print(crude_words[0:10]) # limit output to 10 most relevant words"
   ]
  },
  {
   "cell_type": "code",
   "execution_count": 11,
   "metadata": {},
   "outputs": [
    {
     "name": "stdout",
     "output_type": "stream",
     "text": [
      "[{'word': 'reiterate', 'score': 85359, 'tags': ['syn', 'v']}, {'word': 'retell', 'score': 80375, 'tags': ['syn', 'v']}, {'word': 'repeat', 'score': 78485, 'tags': ['syn', 'v']}, {'word': 'iterate', 'score': 77694, 'tags': ['syn', 'v']}, {'word': 'ingeminate', 'score': 74015, 'tags': ['syn', 'v']}, {'word': 'reaffirm', 'score': 63993, 'tags': ['v']}, {'word': 'reconfirm', 'score': 63054, 'tags': ['v']}, {'word': 'affirm', 'score': 62752, 'tags': ['v']}, {'word': 'realign', 'score': 62542, 'tags': ['v']}, {'word': 'revise', 'score': 62412, 'tags': ['v']}]\n"
     ]
    }
   ],
   "source": [
    "restate_words = requests.get('https://api.datamuse.com/words?ml=restate').json()\n",
    "print(restate_words[0:10])"
   ]
  }
 ],
 "metadata": {
  "kernelspec": {
   "display_name": "Python 3",
   "language": "python",
   "name": "python3"
  },
  "language_info": {
   "codemirror_mode": {
    "name": "ipython",
    "version": 3
   },
   "file_extension": ".py",
   "mimetype": "text/x-python",
   "name": "python",
   "nbconvert_exporter": "python",
   "pygments_lexer": "ipython3",
   "version": "3.7.9"
  }
 },
 "nbformat": 4,
 "nbformat_minor": 4
}