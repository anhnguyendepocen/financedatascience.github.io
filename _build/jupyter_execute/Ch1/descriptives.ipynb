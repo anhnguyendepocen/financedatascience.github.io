{
 "cells": [
  {
   "cell_type": "markdown",
   "metadata": {},
   "source": [
    "## Descriptive Statistics\n",
    "\n",
    "When data contain thousands, if not millions, of observations, we need methods to summarize the data.\n",
    "\n",
    "As a working example, consider the list of values below."
   ]
  },
  {
   "cell_type": "code",
   "execution_count": 1,
   "metadata": {},
   "outputs": [],
   "source": [
    "x = [1, 38, 4, 3, 7, -10, 7, 2, 5]"
   ]
  },
  {
   "cell_type": "markdown",
   "metadata": {},
   "source": [
    "### Mean and Variance\n",
    "\n",
    "The **mean** of the data is the average value in the data. Within the sample of observations included in the data, the mean is the *expected value* of the data.  It tells us, on average, what we'd expect to observe if we picked an observation at random.  For data $x$, the mean is sometimes written $E(x)$ (the $E$ stands for expected value)."
   ]
  },
  {
   "cell_type": "code",
   "execution_count": 2,
   "metadata": {},
   "outputs": [
    {
     "data": {
      "text/plain": [
       "6.333333333333333"
      ]
     },
     "execution_count": 2,
     "metadata": {},
     "output_type": "execute_result"
    }
   ],
   "source": [
    "import numpy as np\n",
    "np.mean(x)"
   ]
  },
  {
   "cell_type": "markdown",
   "metadata": {},
   "source": [
    "Naturally, not all observations are exactly equal to the mean value.  Thus, beyond summarizing what the average value of the data is, we want some sense of how much observations deviate from the expected value.  For a list of observations, $x$, we can calculate the deviation of each of these observations from the mean by taking $x-E(x)$."
   ]
  },
  {
   "cell_type": "code",
   "execution_count": 3,
   "metadata": {},
   "outputs": [
    {
     "data": {
      "text/plain": [
       "array([ -5.33333333,  31.66666667,  -2.33333333,  -3.33333333,\n",
       "         0.66666667, -16.33333333,   0.66666667,  -4.33333333,\n",
       "        -1.33333333])"
      ]
     },
     "execution_count": 3,
     "metadata": {},
     "output_type": "execute_result"
    }
   ],
   "source": [
    "x - np.mean(x)"
   ]
  },
  {
   "cell_type": "markdown",
   "metadata": {},
   "source": [
    "Now, the average deviation from the average is zero.  So simply taking the mean of these deviations isn't useful."
   ]
  },
  {
   "cell_type": "code",
   "execution_count": 4,
   "metadata": {},
   "outputs": [
    {
     "data": {
      "text/plain": [
       "1.0855514018557087e-15"
      ]
     },
     "execution_count": 4,
     "metadata": {},
     "output_type": "execute_result"
    }
   ],
   "source": [
    "np.mean( x - np.mean(x) )"
   ]
  },
  {
   "cell_type": "markdown",
   "metadata": {},
   "source": [
    "A trick is the square each deviation first, and then take the average of those squared deviations."
   ]
  },
  {
   "cell_type": "code",
   "execution_count": 5,
   "metadata": {},
   "outputs": [
    {
     "data": {
      "text/plain": [
       "148.44444444444446"
      ]
     },
     "execution_count": 5,
     "metadata": {},
     "output_type": "execute_result"
    }
   ],
   "source": [
    "np.mean( (x-np.mean(x))**2  )"
   ]
  },
  {
   "cell_type": "markdown",
   "metadata": {},
   "source": [
    "This is what's called the **variance** of the data.  Putting the above line of code into math, the variance is computed as $E\\bigg( \\big(x-E(x)\\big)^2 \\bigg)$."
   ]
  },
  {
   "cell_type": "code",
   "execution_count": 6,
   "metadata": {},
   "outputs": [
    {
     "data": {
      "text/plain": [
       "148.44444444444446"
      ]
     },
     "execution_count": 6,
     "metadata": {},
     "output_type": "execute_result"
    }
   ],
   "source": [
    "np.var(x)"
   ]
  },
  {
   "cell_type": "markdown",
   "metadata": {},
   "source": [
    "Now, the variance in the example above looks quite large.  Often, squaring things makes them bigger, so it makes sense that the average of squared numbers looks large.  To summare how much observations tend to deviate away from the mean, an alternative to calculating the variance is to calculate the **standard deviation**, which is just the square root of the variance.  This doesn't completely un-do the earlier squaring that is included in the variance computation, but it does tend to yield a smaller number.  The formal statement of a standard deviation is $\\Bigg[E\\bigg(\\big( x - E(x)\\big)^2 \\bigg)\\Bigg]^{1/2}$."
   ]
  },
  {
   "cell_type": "code",
   "execution_count": 7,
   "metadata": {},
   "outputs": [
    {
     "data": {
      "text/plain": [
       "12.18377792166471"
      ]
     },
     "execution_count": 7,
     "metadata": {},
     "output_type": "execute_result"
    }
   ],
   "source": [
    "np.sqrt(np.var(x))"
   ]
  },
  {
   "cell_type": "code",
   "execution_count": 8,
   "metadata": {},
   "outputs": [
    {
     "data": {
      "text/plain": [
       "12.18377792166471"
      ]
     },
     "execution_count": 8,
     "metadata": {},
     "output_type": "execute_result"
    }
   ],
   "source": [
    "np.std(x)"
   ]
  },
  {
   "cell_type": "markdown",
   "metadata": {},
   "source": [
    "### Median and Skewness\n",
    "\n",
    "When we have a list of numbers, the `.sort()` command will sort that list *in place*.  Performing an operation *in place* is the alternative to *returning* a value.  For example, if we type the command `'LSU'.lower()`, Python will return a copy of the string `'LSU'` in lower case characters.  Thus if we have `s = 'LSU'` and do `s.lower()`, Python returns the value `'lsu`', but the string `s` still equals `'LSU'`.  In contrast, `x.sort()` will not return anything.  Rather, the list `x` is modified in place so that its elements get reordered from smallest to largest.  We've already seen at least one other example of an in place command: `.append()`."
   ]
  },
  {
   "cell_type": "code",
   "execution_count": 9,
   "metadata": {},
   "outputs": [
    {
     "name": "stdout",
     "output_type": "stream",
     "text": [
      "[-10, 1, 2, 3, 4, 5, 7, 7, 38]\n"
     ]
    }
   ],
   "source": [
    "x.sort()\n",
    "print(x)"
   ]
  },
  {
   "cell_type": "markdown",
   "metadata": {},
   "source": [
    "Sorting, at least for small lists of numbers, makes it easy to pick out the middle number.  The middle of a set of a numbers is called the **median**."
   ]
  },
  {
   "cell_type": "code",
   "execution_count": 10,
   "metadata": {},
   "outputs": [
    {
     "data": {
      "text/plain": [
       "4.0"
      ]
     },
     "execution_count": 10,
     "metadata": {},
     "output_type": "execute_result"
    }
   ],
   "source": [
    "import numpy as np\n",
    "np.median(x)"
   ]
  },
  {
   "cell_type": "markdown",
   "metadata": {},
   "source": [
    "If the set has an even number of elements, there isn't a precise middle element.  The default is then to take the average of the two middle numbers."
   ]
  },
  {
   "cell_type": "code",
   "execution_count": 11,
   "metadata": {},
   "outputs": [
    {
     "data": {
      "text/plain": [
       "3.5"
      ]
     },
     "execution_count": 11,
     "metadata": {},
     "output_type": "execute_result"
    }
   ],
   "source": [
    "np.median(x[:8])"
   ]
  },
  {
   "cell_type": "markdown",
   "metadata": {},
   "source": [
    "The mean is a good bit higher than the median.  Why?\n",
    "\n",
    "There is **skewness** in the distribution of numbers.  That means that the set of numbers has some outliers out to one side or the other.  Here, we have positive skewness, which means that there are some big outliers out to the right side.\n",
    "\n",
    "Formally, a calculation for skewness is given in the `scipy` module.  We won't worry too much about it here."
   ]
  },
  {
   "cell_type": "code",
   "execution_count": 12,
   "metadata": {},
   "outputs": [],
   "source": [
    "import scipy.stats"
   ]
  },
  {
   "cell_type": "code",
   "execution_count": 13,
   "metadata": {},
   "outputs": [
    {
     "data": {
      "text/plain": [
       "1.6656502035844625"
      ]
     },
     "execution_count": 13,
     "metadata": {},
     "output_type": "execute_result"
    }
   ],
   "source": [
    "scipy.stats.skew(x)"
   ]
  },
  {
   "cell_type": "markdown",
   "metadata": {},
   "source": [
    "### Outliers, Kernel Density, and Box Plots\n",
    "\n",
    "Means and medians tell us a little bit about the data at around the middle of the distribution.  Likewise variance and skewness tell us something about the spread of the distribution (how wide it is and how much it leans to one side or the other).\n",
    "\n",
    "These numbers, while extraordinarily useful for a variety of applications, are still sometimes difficult to digest.  Below, we'll see the wisdom of the old adage ''a picture is worth a thousand words.''\n",
    "\n",
    "For this analysis, we'll need more data:"
   ]
  },
  {
   "cell_type": "code",
   "execution_count": 14,
   "metadata": {},
   "outputs": [],
   "source": [
    "y = [i for i in range(100)]   # list of numbers: 0, 1, ..., 99\n",
    "y.append(200)                 # add the number 200\n",
    "y = y + [30, 30, 30, 30, 30]  # add the number 30 (five times)"
   ]
  },
  {
   "cell_type": "markdown",
   "metadata": {},
   "source": [
    "When operating in Jupyter notebooks, we gain access to a special module that isn't useful outside of a notebook environment (e.g. if you ran Python from your terminal/command window, this module would not work).  The module's name is `seaborn`.\n",
    "\n",
    "Like `numpy` (usually abbreviated as `np`) and `pandas` (usually abbreviated as `pd`) the `seaborn` module has the following cononical import statement."
   ]
  },
  {
   "cell_type": "code",
   "execution_count": 15,
   "metadata": {},
   "outputs": [],
   "source": [
    "import seaborn as sns"
   ]
  },
  {
   "cell_type": "markdown",
   "metadata": {},
   "source": [
    "The first tool to explore is the **kernel density estimate**, which plots the distribution of numbers in our data."
   ]
  },
  {
   "cell_type": "code",
   "execution_count": 16,
   "metadata": {},
   "outputs": [
    {
     "data": {
      "text/plain": [
       "<AxesSubplot:ylabel='Density'>"
      ]
     },
     "execution_count": 16,
     "metadata": {},
     "output_type": "execute_result"
    },
    {
     "data": {
      "image/png": "[encoded data removed]",
      "text/plain": [
       "<Figure size 432x288 with 1 Axes>"
      ]
     },
     "metadata": {
      "filenames": {
       "image/png": "/home/james/financedatascience.github.io/_build/jupyter_execute/Ch1/descriptives_29_1.png"
      },
      "needs_background": "light"
     },
     "output_type": "display_data"
    }
   ],
   "source": [
    "sns.kdeplot(y)"
   ]
  },
  {
   "cell_type": "markdown",
   "metadata": {},
   "source": [
    "Note that the kernel density estimate is not good at the end points.  For mathematical reasons, a kernel density estimate is not good at  end points.  Other aspects of the plot are consistent with expectations.  The density is fairly level over 0 to 99, with a slight peak at around 30.  There is also a little bump out at 200 where we placed an outlier."
   ]
  },
  {
   "cell_type": "code",
   "execution_count": 17,
   "metadata": {},
   "outputs": [
    {
     "data": {
      "text/plain": [
       "50.0"
      ]
     },
     "execution_count": 17,
     "metadata": {},
     "output_type": "execute_result"
    }
   ],
   "source": [
    "np.mean(y)"
   ]
  },
  {
   "cell_type": "code",
   "execution_count": 18,
   "metadata": {},
   "outputs": [
    {
     "data": {
      "text/plain": [
       "47.5"
      ]
     },
     "execution_count": 18,
     "metadata": {},
     "output_type": "execute_result"
    }
   ],
   "source": [
    "np.median(y)"
   ]
  },
  {
   "cell_type": "markdown",
   "metadata": {},
   "source": [
    "We again have a case of positive skewness (200 is a big outlier), and thus the mean is bigger than the median.\n",
    "\n",
    "Knowledge about how these descriptive statics characterize the data is important in financial analytics and modeling.  For instance, consider a business looking at building a new grocery store in a county.  The expected cash flows for that project are more closely related to the median of county income, rather than the mean of county income.  Why?  Hint: county income has positive skewness.\n",
    "\n",
    "As an alternative the the kernel density estimate, consder the **boxplot** below."
   ]
  },
  {
   "cell_type": "code",
   "execution_count": 19,
   "metadata": {},
   "outputs": [
    {
     "name": "stderr",
     "output_type": "stream",
     "text": [
      "/mnt/software/anaconda3/envs/fds/lib/python3.7/site-packages/seaborn/_decorators.py:43: FutureWarning: Pass the following variable as a keyword arg: x. From version 0.12, the only valid positional argument will be `data`, and passing other arguments without an explicit keyword will result in an error or misinterpretation.\n",
      "  FutureWarning\n"
     ]
    },
    {
     "data": {
      "text/plain": [
       "<AxesSubplot:>"
      ]
     },
     "execution_count": 19,
     "metadata": {},
     "output_type": "execute_result"
    },
    {
     "data": {
      "image/png": "[encoded data removed]",
      "text/plain": [
       "<Figure size 432x288 with 1 Axes>"
      ]
     },
     "metadata": {
      "filenames": {
       "image/png": "/home/james/financedatascience.github.io/_build/jupyter_execute/Ch1/descriptives_34_2.png"
      },
      "needs_background": "light"
     },
     "output_type": "display_data"
    }
   ],
   "source": [
    "sns.boxplot(y)"
   ]
  },
  {
   "cell_type": "markdown",
   "metadata": {},
   "source": [
    "The *box* (the shaded region between roughly 25 and 75) tells us where the middle 50% of the data is.  Thus, about 50% of the data falls between 25 and 75, with another 25% of the data on either side of this box.\n",
    "\n",
    "The horizontal lines extending from either side of the box and terminating with a vertical line are called the *whiskers*.  These give a sense of where approximately the other 50% of the data falls (again, 25% on each side of the box), save for a few outliers.  Above, we see that the whiskers extend out to zero on the left and one hundered on the right.  Data that do not fall within these ranges are referred to as *outliers*, and are plotted as individual points (e.g. the number 200 on the far right).\n",
    "\n",
    "Outlier identification is a good way to assess data quality.  We'll see an example of this in a later chapter."
   ]
  }
 ],
 "metadata": {
  "kernelspec": {
   "display_name": "Python 3",
   "language": "python",
   "name": "python3"
  },
  "language_info": {
   "codemirror_mode": {
    "name": "ipython",
    "version": 3
   },
   "file_extension": ".py",
   "mimetype": "text/x-python",
   "name": "python",
   "nbconvert_exporter": "python",
   "pygments_lexer": "ipython3",
   "version": "3.7.9"
  }
 },
 "nbformat": 4,
 "nbformat_minor": 4
}