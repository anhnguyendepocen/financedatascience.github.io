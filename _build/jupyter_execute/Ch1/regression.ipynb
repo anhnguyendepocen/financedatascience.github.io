{
 "cells": [
  {
   "cell_type": "markdown",
   "metadata": {},
   "source": [
    "## Regression\n",
    "\n",
    "### Linear Regression\n",
    "\n",
    "The purpose of regression is to fit a line.  This line is used to interpret some sort of relationship between one or more \"x\" variables and a \"y\" variable.  For example:\n",
    "\n",
    "$$\n",
    "y = \\alpha + \\beta x\n",
    "$$\n",
    "\n",
    "describes a straight line with intercept $\\alpha$ and slope $\\beta$.  The variable `x` is referred to as the *regressor* in this model.  Models can have multiple regressors.\n",
    "\n",
    "We can generate some data that draws such a line.  In this example, take $\\alpha=4$ and $\\beta=0.5$."
   ]
  },
  {
   "cell_type": "code",
   "execution_count": 1,
   "metadata": {},
   "outputs": [
    {
     "data": {
      "text/html": [
       "<div>\n",
       "<style scoped>\n",
       "    .dataframe tbody tr th:only-of-type {\n",
       "        vertical-align: middle;\n",
       "    }\n",
       "\n",
       "    .dataframe tbody tr th {\n",
       "        vertical-align: top;\n",
       "    }\n",
       "\n",
       "    .dataframe thead th {\n",
       "        text-align: right;\n",
       "    }\n",
       "</style>\n",
       "<table border=\"1\" class=\"dataframe\">\n",
       "  <thead>\n",
       "    <tr style=\"text-align: right;\">\n",
       "      <th></th>\n",
       "      <th>x</th>\n",
       "      <th>y</th>\n",
       "    </tr>\n",
       "  </thead>\n",
       "  <tbody>\n",
       "    <tr>\n",
       "      <th>0</th>\n",
       "      <td>2</td>\n",
       "      <td>5.0</td>\n",
       "    </tr>\n",
       "    <tr>\n",
       "      <th>1</th>\n",
       "      <td>5</td>\n",
       "      <td>6.5</td>\n",
       "    </tr>\n",
       "    <tr>\n",
       "      <th>2</th>\n",
       "      <td>-10</td>\n",
       "      <td>-1.0</td>\n",
       "    </tr>\n",
       "    <tr>\n",
       "      <th>3</th>\n",
       "      <td>-7</td>\n",
       "      <td>0.5</td>\n",
       "    </tr>\n",
       "    <tr>\n",
       "      <th>4</th>\n",
       "      <td>-7</td>\n",
       "      <td>0.5</td>\n",
       "    </tr>\n",
       "  </tbody>\n",
       "</table>\n",
       "</div>"
      ],
      "text/plain": [
       "    x    y\n",
       "0   2  5.0\n",
       "1   5  6.5\n",
       "2 -10 -1.0\n",
       "3  -7  0.5\n",
       "4  -7  0.5"
      ]
     },
     "execution_count": 1,
     "metadata": {},
     "output_type": "execute_result"
    }
   ],
   "source": [
    "import pandas as pd\n",
    "import numpy as np\n",
    "\n",
    "np.random.seed(0)\n",
    "line = pd.DataFrame(columns=['x', 'y'])\n",
    "line['x'] = np.random.randint(low=-10, high=10, size=100)\n",
    "line['y'] = 4 + 0.5*line['x']\n",
    "line.head()"
   ]
  },
  {
   "cell_type": "markdown",
   "metadata": {},
   "source": [
    "Using the `seaborn` plot function `lineplot`(), we can visualize this line."
   ]
  },
  {
   "cell_type": "code",
   "execution_count": 2,
   "metadata": {},
   "outputs": [
    {
     "data": {
      "text/plain": [
       "<AxesSubplot:xlabel='x', ylabel='y'>"
      ]
     },
     "execution_count": 2,
     "metadata": {},
     "output_type": "execute_result"
    },
    {
     "data": {
      "image/png": "[encoded data removed]",
      "text/plain": [
       "<Figure size 432x288 with 1 Axes>"
      ]
     },
     "metadata": {
      "filenames": {
       "image/png": "/home/james/financedatascience.github.io/_build/jupyter_execute/Ch1/regression_3_1.png"
      },
      "needs_background": "light"
     },
     "output_type": "display_data"
    }
   ],
   "source": [
    "import seaborn as sns\n",
    "\n",
    "sns.lineplot(x='x', y='y', data=line)"
   ]
  },
  {
   "cell_type": "markdown",
   "metadata": {},
   "source": [
    "No surprises here, we get a straight line.  The slope is one-half, and the intercept is 4.\n",
    "\n",
    "In the real world, relationships between $x$'s and $y$'s are usually complicated.  That is, there is no line that perfectly describes the connection between $x$ and $y$.  Our goal is to find the best possible approximation of a relationship.  For instance, change the above equation to\n",
    "\n",
    "$$\n",
    "y = \\alpha + \\beta x + u\n",
    "$$\n",
    "\n",
    "where $u$ is some random, un-observed phenomenon that makes any pair of values $(x,y)$ partially unpredictable.  Consider the following simulated dataset, where $y$ and $x$ have a known relationship (we know $\\alpha=4$ and $\\beta=0.5$) with some error thrown in to the mix."
   ]
  },
  {
   "cell_type": "code",
   "execution_count": 3,
   "metadata": {},
   "outputs": [
    {
     "data": {
      "text/plain": [
       "<AxesSubplot:xlabel='x', ylabel='y'>"
      ]
     },
     "execution_count": 3,
     "metadata": {},
     "output_type": "execute_result"
    },
    {
     "data": {
      "image/png": "[encoded data removed]",
      "text/plain": [
       "<Figure size 432x288 with 1 Axes>"
      ]
     },
     "metadata": {
      "filenames": {
       "image/png": "/home/james/financedatascience.github.io/_build/jupyter_execute/Ch1/regression_5_1.png"
      },
      "needs_background": "light"
     },
     "output_type": "display_data"
    }
   ],
   "source": [
    "import pandas as pd\n",
    "import numpy as np\n",
    "import seaborn as sns\n",
    "\n",
    "np.random.seed(0)\n",
    "df = pd.DataFrame(columns=['x','y'])\n",
    "df['x'] = np.random.normal(2, 1, 100)\n",
    "df['y'] = 4 + 0.5 * df['x'] + np.random.normal(0, 0.5, 100)\n",
    "sns.scatterplot(x='x', y='y', data=df)"
   ]
  },
  {
   "cell_type": "markdown",
   "metadata": {},
   "source": [
    "In this example, the random error component $u$ makes it so that $y$ is no longer perfectly described by $x$ and the parameters $\\alpha,\\beta$.\n",
    "\n",
    "When performing analytics, we'll be given data.  Suppose that data looks like what's described in `df`.  So, for example, we can see that the first few and last few rows look like:"
   ]
  },
  {
   "cell_type": "code",
   "execution_count": 4,
   "metadata": {},
   "outputs": [
    {
     "name": "stdout",
     "output_type": "stream",
     "text": [
      "           x         y\n",
      "0   3.764052  6.823602\n",
      "1   2.400157  4.526199\n",
      "2   2.978738  4.854126\n",
      "3   4.240893  6.605145\n",
      "4   3.867558  5.347217\n",
      "..       ...       ...\n",
      "95  2.706573  5.267513\n",
      "96  2.010500  5.391145\n",
      "97  3.785870  6.304687\n",
      "98  2.126912  6.145074\n",
      "99  2.401989  5.869259\n",
      "\n",
      "[100 rows x 2 columns]\n",
      "5.882026\n"
     ]
    }
   ],
   "source": [
    "print(df)\n",
    "print(4 + 0.5*3.764052)"
   ]
  },
  {
   "cell_type": "markdown",
   "metadata": {},
   "source": [
    "When all we have is the data, the values of $\\alpha$ and $\\beta$ are unknown to us.  In this case, our mission is to use linear regression so that we have the best possible linear fit between $y$ and $x$.\n",
    "\n",
    "Such a \"line of best fit\" is shown below."
   ]
  },
  {
   "cell_type": "code",
   "execution_count": 5,
   "metadata": {},
   "outputs": [
    {
     "data": {
      "text/plain": [
       "<seaborn.axisgrid.FacetGrid at 0x7ff1f1db6590>"
      ]
     },
     "execution_count": 5,
     "metadata": {},
     "output_type": "execute_result"
    },
    {
     "data": {
      "image/png": "[encoded data removed]",
      "text/plain": [
       "<Figure size 360x360 with 1 Axes>"
      ]
     },
     "metadata": {
      "filenames": {
       "image/png": "/home/james/financedatascience.github.io/_build/jupyter_execute/Ch1/regression_9_1.png"
      },
      "needs_background": "light"
     },
     "output_type": "display_data"
    }
   ],
   "source": [
    "sns.lmplot(x='x', y='y', data=df)"
   ]
  },
  {
   "cell_type": "markdown",
   "metadata": {},
   "source": [
    "This line is solved, by `seaborn`, using regression.  But `seaborn` only computes the regression fit for the purposes of making a plot.  It doesn't tell you what the *beta coefficient*, $\\beta$, is estimated to be.  Nor does it report the estimated intercept $\\alpha$.\n",
    "\n",
    "When parameters like $\\alpha$ and $\\beta$ are estimated, we usually put \"hats\" on them to denote that it's an estimated value.  Thus, the estimated relationship is given by\n",
    "\n",
    "$$\n",
    "\\hat{y} = \\hat{\\alpha} + \\hat{\\beta} x\n",
    "$$\n",
    "\n",
    "which tells us that, using the estimated values for $\\alpha$ and $\\beta$, one would estimate the value for $y$ to be $\\hat{y}$, given the value $x$.\n",
    "\n",
    "There are many commands that can be used to generate this linear regression fit, and those will be discussed in a little bit.\n",
    "\n",
    "### Outliers\n",
    "\n",
    "Let's consider the effect of an outlier on the sample, and in so doing give relevancy to earlier parts of the chapter.\n",
    "\n",
    "Let's hard-code a data error in the `pandas` `DataFrame` variable `df` by using the `.loc` function to change the `y` value for one of the rows."
   ]
  },
  {
   "cell_type": "code",
   "execution_count": 6,
   "metadata": {},
   "outputs": [],
   "source": [
    "df.loc[0, 'y'] = 100"
   ]
  },
  {
   "cell_type": "markdown",
   "metadata": {},
   "source": [
    "What we've done in the above line of code is increase the `y` value of the first observation by a factor of 10.  This is a reasonable error to consider, using real (non-simulated) data, someone could very well accidentally hit the zero key when entering in rows of `x` and `y` data by hand.\n",
    "\n",
    "First, let's look at the boxplot."
   ]
  },
  {
   "cell_type": "code",
   "execution_count": 7,
   "metadata": {},
   "outputs": [
    {
     "name": "stderr",
     "output_type": "stream",
     "text": [
      "/mnt/software/anaconda3/envs/fds/lib/python3.7/site-packages/seaborn/_decorators.py:43: FutureWarning: Pass the following variable as a keyword arg: x. From version 0.12, the only valid positional argument will be `data`, and passing other arguments without an explicit keyword will result in an error or misinterpretation.\n",
      "  FutureWarning\n"
     ]
    },
    {
     "data": {
      "text/plain": [
       "<AxesSubplot:xlabel='y'>"
      ]
     },
     "execution_count": 7,
     "metadata": {},
     "output_type": "execute_result"
    },
    {
     "data": {
      "image/png": "[encoded data removed]",
      "text/plain": [
       "<Figure size 432x288 with 1 Axes>"
      ]
     },
     "metadata": {
      "filenames": {
       "image/png": "/home/james/financedatascience.github.io/_build/jupyter_execute/Ch1/regression_13_2.png"
      },
      "needs_background": "light"
     },
     "output_type": "display_data"
    }
   ],
   "source": [
    "sns.boxplot(df['y'])"
   ]
  },
  {
   "cell_type": "markdown",
   "metadata": {},
   "source": [
    "The outlier we've entered stands out clearly.  We can verify that the outlier we're seeing is in fact the first row we modified by typing:"
   ]
  },
  {
   "cell_type": "code",
   "execution_count": 8,
   "metadata": {},
   "outputs": [
    {
     "data": {
      "text/plain": [
       "x      3.764052\n",
       "y    100.000000\n",
       "Name: 0, dtype: float64"
      ]
     },
     "execution_count": 8,
     "metadata": {},
     "output_type": "execute_result"
    }
   ],
   "source": [
    "df.iloc[0]"
   ]
  },
  {
   "cell_type": "markdown",
   "metadata": {},
   "source": [
    "and noticing that the `y` value there is indeed the point we're seeing as an outlier in the data.\n",
    "\n",
    "What happens if we don't correct for this issue when we perform an analytics task like linear regression?  Note that the scatter plot likewise shows a big problem due to the outlier."
   ]
  },
  {
   "cell_type": "code",
   "execution_count": 9,
   "metadata": {},
   "outputs": [
    {
     "data": {
      "text/plain": [
       "<AxesSubplot:xlabel='x', ylabel='y'>"
      ]
     },
     "execution_count": 9,
     "metadata": {},
     "output_type": "execute_result"
    },
    {
     "data": {
      "image/png": "[encoded data removed]",
      "text/plain": [
       "<Figure size 432x288 with 1 Axes>"
      ]
     },
     "metadata": {
      "filenames": {
       "image/png": "/home/james/financedatascience.github.io/_build/jupyter_execute/Ch1/regression_17_1.png"
      },
      "needs_background": "light"
     },
     "output_type": "display_data"
    }
   ],
   "source": [
    "sns.scatterplot(x='x', y='y', data=df)"
   ]
  },
  {
   "cell_type": "markdown",
   "metadata": {},
   "source": [
    "How can we expect Python to find a line of best fit through that scatter plot, when there is such an egregious outlier in the plot?\n",
    "\n",
    "Look what happens in the regression:"
   ]
  },
  {
   "cell_type": "code",
   "execution_count": 10,
   "metadata": {},
   "outputs": [
    {
     "data": {
      "text/plain": [
       "<seaborn.axisgrid.FacetGrid at 0x7ff1f0c32110>"
      ]
     },
     "execution_count": 10,
     "metadata": {},
     "output_type": "execute_result"
    },
    {
     "data": {
      "image/png": "[encoded data removed]",
      "text/plain": [
       "<Figure size 360x360 with 1 Axes>"
      ]
     },
     "metadata": {
      "filenames": {
       "image/png": "/home/james/financedatascience.github.io/_build/jupyter_execute/Ch1/regression_19_1.png"
      },
      "needs_background": "light"
     },
     "output_type": "display_data"
    }
   ],
   "source": [
    "sns.lmplot(x='x', y='y', data=df)"
   ]
  },
  {
   "cell_type": "markdown",
   "metadata": {},
   "source": [
    "While it may be hard to see the change, note that the line of best fit now reaches above all of the y values on the right hand side of the scatter plot, and dips below them on the left hand side.  In the earlier regression, this did not happen.  What's occurred here is the line of best fit now has a much steeper slope than it did before.  This is because the outlier point, which is towards the right side of the `x` distribution and is significantly above the rest of the `y` data, skews the line of best fit to be much more positively sloping.\n",
    "\n",
    "We'll discuss solutions to remove outliers on an ad hoc basis as we work through different case studies.  Here, we simply remove that troubly observation from the distribution."
   ]
  },
  {
   "cell_type": "code",
   "execution_count": 11,
   "metadata": {},
   "outputs": [],
   "source": [
    "df = df[df['y'] < 100]"
   ]
  },
  {
   "cell_type": "markdown",
   "metadata": {},
   "source": [
    "There are many commands that can be used to generate this linear regression fit, one such way is via the `statsmodels` module."
   ]
  },
  {
   "cell_type": "code",
   "execution_count": 12,
   "metadata": {},
   "outputs": [
    {
     "name": "stdout",
     "output_type": "stream",
     "text": [
      "                                 OLS Regression Results                                \n",
      "=======================================================================================\n",
      "Dep. Variable:                      y   R-squared (uncentered):                   0.875\n",
      "Model:                            OLS   Adj. R-squared (uncentered):              0.874\n",
      "Method:                 Least Squares   F-statistic:                              686.7\n",
      "Date:                Tue, 20 Oct 2020   Prob (F-statistic):                    4.59e-46\n",
      "Time:                        11:03:07   Log-Likelihood:                         -198.94\n",
      "No. Observations:                  99   AIC:                                      399.9\n",
      "Df Residuals:                      98   BIC:                                      402.5\n",
      "Df Model:                           1                                                  \n",
      "Covariance Type:            nonrobust                                                  \n",
      "==============================================================================\n",
      "                 coef    std err          t      P>|t|      [0.025      0.975]\n",
      "------------------------------------------------------------------------------\n",
      "x              2.1017      0.080     26.206      0.000       1.943       2.261\n",
      "==============================================================================\n",
      "Omnibus:                        0.465   Durbin-Watson:                   1.614\n",
      "Prob(Omnibus):                  0.792   Jarque-Bera (JB):                0.621\n",
      "Skew:                          -0.116   Prob(JB):                        0.733\n",
      "Kurtosis:                       2.690   Cond. No.                         1.00\n",
      "==============================================================================\n",
      "\n",
      "Notes:\n",
      "[1] R² is computed without centering (uncentered) since the model does not contain a constant.\n",
      "[2] Standard Errors assume that the covariance matrix of the errors is correctly specified.\n"
     ]
    }
   ],
   "source": [
    "import statsmodels.api as sm\n",
    "model = sm.OLS(df['y'], df['x']).fit() # sm.OLS(...).fit() returns as statsmodels variable type\n",
    "print(model.summary())"
   ]
  },
  {
   "cell_type": "markdown",
   "metadata": {},
   "source": [
    "There is a lot of output here.  Note that about halfway down the table, the printout reports that the variable `x` has a coefficient value (denote in column \"coef\") of $2.1$.  This would be the $\\beta$ coefficient, and thus $\\hat{\\beta}=2.1$.  But what about $\\hat{\\alpha}$?  There is no estimated intercept, because we did not tell `statsmodels` to include one.\n",
    "\n",
    "### Intercepts and Multiple Regressors\n",
    "\n",
    "To include an intercept term, we must tell `statsmodels` that the set of regressors includes a variable whose value is one, always.  Note that the equation $y = \\alpha + \\beta x + u$ that we want to estimate is the same thing as $y = \\alpha 1 + \\beta x + u$.  Explicitly creating a variable that is always equal to one thus allows for an intercept to be included."
   ]
  },
  {
   "cell_type": "code",
   "execution_count": 13,
   "metadata": {},
   "outputs": [
    {
     "name": "stdout",
     "output_type": "stream",
     "text": [
      "                            OLS Regression Results                            \n",
      "==============================================================================\n",
      "Dep. Variable:                      y   R-squared:                       0.531\n",
      "Model:                            OLS   Adj. R-squared:                  0.526\n",
      "Method:                 Least Squares   F-statistic:                     109.7\n",
      "Date:                Tue, 20 Oct 2020   Prob (F-statistic):           1.29e-17\n",
      "Time:                        11:03:07   Log-Likelihood:                -73.831\n",
      "No. Observations:                  99   AIC:                             151.7\n",
      "Df Residuals:                      97   BIC:                             156.9\n",
      "Df Model:                           1                                         \n",
      "Covariance Type:            nonrobust                                         \n",
      "==============================================================================\n",
      "                 coef    std err          t      P>|t|      [0.025      0.975]\n",
      "------------------------------------------------------------------------------\n",
      "cons           3.9434      0.118     33.431      0.000       3.709       4.177\n",
      "x              0.5433      0.052     10.472      0.000       0.440       0.646\n",
      "==============================================================================\n",
      "Omnibus:                        4.800   Durbin-Watson:                   1.945\n",
      "Prob(Omnibus):                  0.091   Jarque-Bera (JB):                2.945\n",
      "Skew:                           0.225   Prob(JB):                        0.229\n",
      "Kurtosis:                       2.284   Cond. No.                         6.01\n",
      "==============================================================================\n",
      "\n",
      "Notes:\n",
      "[1] Standard Errors assume that the covariance matrix of the errors is correctly specified.\n"
     ]
    }
   ],
   "source": [
    "df['cons'] = 1\n",
    "\n",
    "model = sm.OLS(df['y'], df[['cons','x']]).fit()\n",
    "print(model.summary())"
   ]
  },
  {
   "cell_type": "markdown",
   "metadata": {},
   "source": [
    "In the above output, the intercept (`cons`) is estimated to be 3.9434 and the $\\beta$ coefficient is estimated to be $0.5433$.  This is close to the true relationship that we constructed of $y = 4 + 0.5 x + u$.\n",
    "\n",
    "What function we use to estimate a relationship between $y$ and the regressor(s) depends on the data that we have.  As practice using multiple x-variables, let's simulate a dataset that is generated by the following equation\n",
    "\n",
    "$$\n",
    "y = 4 + 0.5 x + 3 x^2 + u\n",
    "$$\n",
    "\n",
    "The relationship between $y$ and $x$ in the above equation is said to be *nonlinear*."
   ]
  },
  {
   "cell_type": "code",
   "execution_count": 14,
   "metadata": {},
   "outputs": [
    {
     "name": "stdout",
     "output_type": "stream",
     "text": [
      "           x          y        x2\n",
      "0   1.764052  15.159244  3.111881\n",
      "1   0.400157   4.006576  0.160126\n",
      "2   0.978738   6.727911  0.957928\n",
      "3   2.240893  20.669952  5.021602\n",
      "4   1.867558  14.810536  3.487773\n",
      "..       ...        ...       ...\n",
      "95  0.706573   5.765250  0.499246\n",
      "96  0.010500   4.391476  0.000110\n",
      "97  1.785870  14.872688  3.189333\n",
      "98  0.126912   5.193394  0.016107\n",
      "99  0.401989   5.354045  0.161595\n",
      "\n",
      "[100 rows x 3 columns]\n"
     ]
    }
   ],
   "source": [
    "import numpy as np\n",
    "import pandas as pd\n",
    "import seaborn as sns\n",
    "import statsmodels.api as sm\n",
    "\n",
    "np.random.seed(0)\n",
    "df2 = pd.DataFrame(columns=['x','y','x2'])\n",
    "df2['x'] = np.random.normal(0, 1, 100)\n",
    "df2['x2'] = df2['x']**2\n",
    "df2['y'] = 4 + 0.5*df2['x'] + 3*df2['x2'] + np.random.normal(0, 0.5, 100)\n",
    "print(df2)"
   ]
  },
  {
   "cell_type": "markdown",
   "metadata": {},
   "source": [
    "Note that to square column `'x'` to produce `'x2'`, all we need to do is type `df2['x'] ** 2` since `**` is the command for exponentiate.\n",
    "\n",
    "Next, plot a relationship between just `y` and `x`, assuming a linear fit."
   ]
  },
  {
   "cell_type": "code",
   "execution_count": 15,
   "metadata": {},
   "outputs": [
    {
     "data": {
      "text/plain": [
       "<seaborn.axisgrid.FacetGrid at 0x7ff1eafee650>"
      ]
     },
     "execution_count": 15,
     "metadata": {},
     "output_type": "execute_result"
    },
    {
     "data": {
      "image/png": "[encoded data removed]",
      "text/plain": [
       "<Figure size 360x360 with 1 Axes>"
      ]
     },
     "metadata": {
      "filenames": {
       "image/png": "/home/james/financedatascience.github.io/_build/jupyter_execute/Ch1/regression_29_1.png"
      },
      "needs_background": "light"
     },
     "output_type": "display_data"
    }
   ],
   "source": [
    "sns.lmplot(x='x', y='y', data=df2)"
   ]
  },
  {
   "cell_type": "markdown",
   "metadata": {},
   "source": [
    "The estimated straight line gets things horribly wrong!  The line is pretty far away from a lot of the actual data points.\n",
    "\n",
    "The scatter plot of the data above makes clear that the data demonstrates a non-linear relationship.\n",
    "\n",
    "What we ought do to is fit a line given by\n",
    "\n",
    "$$\n",
    "\\hat{y} = c + \\hat{\\beta}_1 x + \\hat{\\beta}_2 x^2\n",
    "$$\n",
    "\n",
    "where there are two beta coefficients.  One for $x$, and one for $x^2$."
   ]
  },
  {
   "cell_type": "code",
   "execution_count": 16,
   "metadata": {},
   "outputs": [
    {
     "name": "stdout",
     "output_type": "stream",
     "text": [
      "                            OLS Regression Results                            \n",
      "==============================================================================\n",
      "Dep. Variable:                      y   R-squared:                       0.983\n",
      "Model:                            OLS   Adj. R-squared:                  0.983\n",
      "Method:                 Least Squares   F-statistic:                     2885.\n",
      "Date:                Tue, 20 Oct 2020   Prob (F-statistic):           3.91e-87\n",
      "Time:                        11:03:07   Log-Likelihood:                -75.005\n",
      "No. Observations:                 100   AIC:                             156.0\n",
      "Df Residuals:                      97   BIC:                             163.8\n",
      "Df Model:                           2                                         \n",
      "Covariance Type:            nonrobust                                         \n",
      "==============================================================================\n",
      "                 coef    std err          t      P>|t|      [0.025      0.975]\n",
      "------------------------------------------------------------------------------\n",
      "cons           4.0714      0.066     61.584      0.000       3.940       4.203\n",
      "x              0.5615      0.052     10.829      0.000       0.459       0.664\n",
      "x2             2.9666      0.040     73.780      0.000       2.887       3.046\n",
      "==============================================================================\n",
      "Omnibus:                        7.876   Durbin-Watson:                   2.003\n",
      "Prob(Omnibus):                  0.019   Jarque-Bera (JB):                3.580\n",
      "Skew:                           0.188   Prob(JB):                        0.167\n",
      "Kurtosis:                       2.152   Cond. No.                         2.47\n",
      "==============================================================================\n",
      "\n",
      "Notes:\n",
      "[1] Standard Errors assume that the covariance matrix of the errors is correctly specified.\n"
     ]
    }
   ],
   "source": [
    "df2['cons'] = 1\n",
    "\n",
    "model2 = sm.OLS(df2['y'], df2[['cons', 'x', 'x2']]).fit()\n",
    "print(model2.summary())"
   ]
  },
  {
   "cell_type": "markdown",
   "metadata": {},
   "source": [
    "The variable `model2` stores a lot of data.  Beyond holding summary output for the performance of the regression (which we've accessed via the `model2.summary()` command), we can reference the estimated parameters directly via `.params`.  For example:"
   ]
  },
  {
   "cell_type": "code",
   "execution_count": 17,
   "metadata": {},
   "outputs": [
    {
     "name": "stdout",
     "output_type": "stream",
     "text": [
      "4.071350754098632\n",
      "0.5615154693913407\n",
      "2.9666242239334637\n"
     ]
    }
   ],
   "source": [
    "print(model2.params['cons'])\n",
    "print(model2.params['x'])\n",
    "print(model2.params['x2'])"
   ]
  },
  {
   "cell_type": "markdown",
   "metadata": {},
   "source": [
    "As an aside, the fact that we're using square brackets to reference items inside of `squared.params` is a clue that the `.params` component of the variable `squared` was built using a dictionary-like structure.\n",
    "\n",
    "One way to tell that the estimates of `squared` are better than the estimates of `straight` is to look at the `R-squared` value in the summary output.  This measure takes a value between 0 and 1, with a score of 1 indicating perfect fit.  For comparison purposes, consider the linear fit model below:"
   ]
  },
  {
   "cell_type": "code",
   "execution_count": 18,
   "metadata": {},
   "outputs": [
    {
     "name": "stdout",
     "output_type": "stream",
     "text": [
      "                            OLS Regression Results                            \n",
      "==============================================================================\n",
      "Dep. Variable:                      y   R-squared:                       0.056\n",
      "Model:                            OLS   Adj. R-squared:                  0.046\n",
      "Method:                 Least Squares   F-statistic:                     5.767\n",
      "Date:                Tue, 20 Oct 2020   Prob (F-statistic):             0.0182\n",
      "Time:                        11:03:07   Log-Likelihood:                -277.26\n",
      "No. Observations:                 100   AIC:                             558.5\n",
      "Df Residuals:                      98   BIC:                             563.7\n",
      "Df Model:                           1                                         \n",
      "Covariance Type:            nonrobust                                         \n",
      "==============================================================================\n",
      "                 coef    std err          t      P>|t|      [0.025      0.975]\n",
      "------------------------------------------------------------------------------\n",
      "cons           7.0734      0.392     18.054      0.000       6.296       7.851\n",
      "x              0.9318      0.388      2.401      0.018       0.162       1.702\n",
      "==============================================================================\n",
      "Omnibus:                       49.717   Durbin-Watson:                   1.848\n",
      "Prob(Omnibus):                  0.000   Jarque-Bera (JB):              128.463\n",
      "Skew:                           1.877   Prob(JB):                     1.27e-28\n",
      "Kurtosis:                       7.091   Cond. No.                         1.06\n",
      "==============================================================================\n",
      "\n",
      "Notes:\n",
      "[1] Standard Errors assume that the covariance matrix of the errors is correctly specified.\n"
     ]
    }
   ],
   "source": [
    "model1 = sm.OLS(df2['y'], df2[['cons','x']]).fit()\n",
    "print(model1.summary())"
   ]
  },
  {
   "cell_type": "markdown",
   "metadata": {},
   "source": [
    "The linear-fit model produced an R-squared of 0.056 while the quadratic-fit model yielded a R-squared of 0.983.\n",
    "\n",
    "Another informative way to jude a modeled relationship is by plotting the **residuals**.  The residuals are the \"un-expected\" part of the equation.  For example, in the linear-fit model, the residual is defined as\n",
    "\n",
    "$$\n",
    "\\hat{u} := y - \\hat{y} = y - \\hat{c} - \\hat{\\beta} x\n",
    "$$\n",
    "\n",
    "and in the quadratic-fit model the residual, $\\hat{u}$, is given by\n",
    "\n",
    "$$\n",
    "\\hat{u} := y - \\hat{y} = y- \\hat{c} - \\hat{\\beta}_1 x - \\hat{\\beta}_2 x^2\n",
    "$$\n",
    "\n",
    "Using the information in `.params`, we can calculate residuals."
   ]
  },
  {
   "cell_type": "code",
   "execution_count": 19,
   "metadata": {},
   "outputs": [
    {
     "name": "stdout",
     "output_type": "stream",
     "text": [
      "          x          y        x2  cons  resid_linear     resid\n",
      "0  1.764052  15.159244  3.111881     1      6.442047  0.865570\n",
      "1  0.400157   4.006576  0.160126     1     -3.439694 -0.764502\n",
      "2  0.978738   6.727911  0.957928     1     -1.257502 -0.734829\n",
      "3  2.240893  20.669952  5.021602     1     11.508419  0.443098\n",
      "4  1.867558  14.810536  3.487773     1      5.996890 -0.656389\n"
     ]
    }
   ],
   "source": [
    "df2['resid_linear'] = df2['y'] - (model1.params['cons'] + model1.params['x']*df2['x'])\n",
    "df2['resid'] = df2['y'] - (model2.params['cons'] + model2.params['x']*df2['x'] + model2.params['x2']*df2['x2'])\n",
    "print(df2.head())"
   ]
  },
  {
   "cell_type": "markdown",
   "metadata": {},
   "source": [
    "Next, plot the two sets of residuals."
   ]
  },
  {
   "cell_type": "code",
   "execution_count": 20,
   "metadata": {},
   "outputs": [
    {
     "data": {
      "text/plain": [
       "<AxesSubplot:xlabel='x', ylabel='resid_linear'>"
      ]
     },
     "execution_count": 20,
     "metadata": {},
     "output_type": "execute_result"
    },
    {
     "data": {
      "image/png": "[encoded data removed]",
      "text/plain": [
       "<Figure size 432x288 with 1 Axes>"
      ]
     },
     "metadata": {
      "filenames": {
       "image/png": "/home/james/financedatascience.github.io/_build/jupyter_execute/Ch1/regression_39_1.png"
      },
      "needs_background": "light"
     },
     "output_type": "display_data"
    }
   ],
   "source": [
    "sns.scatterplot(x='x', y='resid_linear', data=df2)"
   ]
  },
  {
   "cell_type": "markdown",
   "metadata": {},
   "source": [
    "In the straight-line model, we can see that the errors have a noticeable pattern to them.  This is an indication that a more complicated function of $x$ would be a better description for the relationship between $x$ and $y$."
   ]
  },
  {
   "cell_type": "code",
   "execution_count": 21,
   "metadata": {},
   "outputs": [
    {
     "data": {
      "text/plain": [
       "<AxesSubplot:xlabel='x', ylabel='resid'>"
      ]
     },
     "execution_count": 21,
     "metadata": {},
     "output_type": "execute_result"
    },
    {
     "data": {
      "image/png": "[encoded data removed]",
      "text/plain": [
       "<Figure size 432x288 with 1 Axes>"
      ]
     },
     "metadata": {
      "filenames": {
       "image/png": "/home/james/financedatascience.github.io/_build/jupyter_execute/Ch1/regression_41_1.png"
      },
      "needs_background": "light"
     },
     "output_type": "display_data"
    }
   ],
   "source": [
    "sns.scatterplot(x='x', y='resid', data=df2)"
   ]
  },
  {
   "cell_type": "markdown",
   "metadata": {},
   "source": [
    "In comparison, the residuals from the squared model look more random.  Additionally, they're substantially smaller on average, with almost all residuals having an absolute value less than one.  This indicates a much better fit than the straight-line model in which the residual values were often much larger."
   ]
  },
  {
   "cell_type": "markdown",
   "metadata": {},
   "source": [
    "### Looking Beyond OLS\n",
    "\n",
    "OLS works well when the $y$ variable in our model is a linear combination of $x$ variables.  Note that the relationship between $y$ and a given regressor may be nonlinear, as in the case of $y$ being a function of $x$ and $x^2$.  However, while we may say that $y$ is a nonlinear function of $x$ in this case, the variable $y$ is still a linear function of $x$ and $x^2$.  To clarify:\n",
    "\n",
    "$$\n",
    "y = \\alpha + \\beta x + u\n",
    "$$\n",
    "\n",
    "is linear in $x$.  Likewise:\n",
    "\n",
    "$$\n",
    "y = \\alpha + \\beta_1 x + \\beta_2 x^2 + u\n",
    "$$\n",
    "\n",
    "is linear in $x$ and $x^2$.  In contrast, the function\n",
    "\n",
    "$$\n",
    "y = \\frac{e^{\\alpha + \\beta x + u}}{1 + e^{\\alpha + \\beta x + u}}\n",
    "$$ is *nonlinear*.  This last equation may look terrifyingly unnatural, but it's actually very useful.  Let's get a \n",
    "\n",
    "sense of what the equation looks like by plotting the function\n",
    "\n",
    "$$\n",
    "y = \\frac{e^{x}}{1 + e^{x}}.\n",
    "$$\n"
   ]
  },
  {
   "cell_type": "code",
   "execution_count": 22,
   "metadata": {},
   "outputs": [
    {
     "name": "stdout",
     "output_type": "stream",
     "text": [
      "    x         y\n",
      "0   2  0.880797\n",
      "1   5  0.993307\n",
      "2 -10  0.000045\n",
      "3  -7  0.000911\n",
      "4  -7  0.000911\n"
     ]
    },
    {
     "data": {
      "text/plain": [
       "<AxesSubplot:xlabel='x', ylabel='y'>"
      ]
     },
     "execution_count": 22,
     "metadata": {},
     "output_type": "execute_result"
    },
    {
     "data": {
      "image/png": "[encoded data removed]",
      "text/plain": [
       "<Figure size 432x288 with 1 Axes>"
      ]
     },
     "metadata": {
      "filenames": {
       "image/png": "/home/james/financedatascience.github.io/_build/jupyter_execute/Ch1/regression_44_2.png"
      },
      "needs_background": "light"
     },
     "output_type": "display_data"
    }
   ],
   "source": [
    "import numpy as np\n",
    "import pandas as pd\n",
    "import seaborn as sns\n",
    "import statsmodels.api as sm\n",
    "\n",
    "np.random.seed(0)\n",
    "curve = pd.DataFrame(columns=['x','y'])\n",
    "curve['x'] = np.random.randint(low=-10, high=10, size=100)\n",
    "curve['y'] = np.exp(curve['x']) / (1+np.exp(curve['x']))\n",
    "print(curve.head())\n",
    "sns.lineplot(x='x',y='y',data=curve)"
   ]
  },
  {
   "cell_type": "markdown",
   "metadata": {},
   "source": [
    "The function $y = e^{x}/(1+e^{x})$ creates an S-curve with a lower bound of $0$ and an upper bound of $1$.\n",
    "\n",
    "These bounds are useful in analytics.  Often, our task is to estimate probabilities.  For instance, what is the likelihood that a borrower defaults on their mortgage, the likelihood that a credit card transaction is fraudulent, or the likelihood that a company will violate its capital expenditure covenant on an outstanding loan?  All of these questions require us to estimate a probability.  The above function is useful because it considers a situation in which the $y$ variable is necessarily between $0$ and $1$ (i.e. $0\\%$ probability and $100\\%$ probability).\n",
    "\n",
    "Suppose that we instead took the `curve` data above and tried to fit it with linear regression."
   ]
  },
  {
   "cell_type": "code",
   "execution_count": 23,
   "metadata": {},
   "outputs": [
    {
     "data": {
      "text/plain": [
       "<seaborn.axisgrid.FacetGrid at 0x7ff1eae9b750>"
      ]
     },
     "execution_count": 23,
     "metadata": {},
     "output_type": "execute_result"
    },
    {
     "data": {
      "image/png": "[encoded data removed]",
      "text/plain": [
       "<Figure size 360x360 with 1 Axes>"
      ]
     },
     "metadata": {
      "filenames": {
       "image/png": "/home/james/financedatascience.github.io/_build/jupyter_execute/Ch1/regression_46_1.png"
      },
      "needs_background": "light"
     },
     "output_type": "display_data"
    }
   ],
   "source": [
    "sns.lmplot(x='x',y='y',data=curve)"
   ]
  },
  {
   "cell_type": "markdown",
   "metadata": {},
   "source": [
    "Note that in the above plot, there are estimated \"probabilities\" (the $\\hat{y}$ values) that are either lower than $0$ or higher than $1$.  This is statistically impossible.\n",
    "\n",
    "That fancy S-shaped function above is called the *inverse logit* function.  That is because $e^x / (1+e^x)$ is the inverse of the *logit* function given by $log(x / (1-x)$.  Just like we can invert the equation $y = f(x)$ to get $f^{-1}(y) = x$, the inverse of $y = e^x / (1+e^x)$ is given by $log(y / (1-y)) = x$.\n",
    "\n",
    "When we model probabilities, the $y$ variable will be either $0$ or $1$ for any observations.  Observations where the event occurred are recorded with $y=1$.  For instance, in a dataset about mortgage default, those borrowers who default on their mortgage would have $y=1$ and everyone else would have $y=0$.\n",
    "\n",
    "Suppose that we estimate a model given by\n",
    "\n",
    "$$\n",
    "log\\Big(\\frac{y}{1-y}\\Big) = \\alpha + \\beta x + u.\n",
    "$$\n",
    "\n",
    "Then, the estimated value $\\hat{\\alpha} + \\hat{\\beta}x$ for a given observation would be $log(\\hat{y}/(1-\\hat{y}))$.  This is what we refer to as the *log odds ratio*.  The odds ratio is the probability that $y$ equals $1$ divided by the probability that $y$ equals $0$; this is what $\\hat{y}/(1-\\hat{y})$ tells us.  Ultimately, our estimate for $\\hat{y}$ then tells us the likelihood that the true value for $y$ is equal to $1$.\n",
    "\n",
    "This type of model is called a logistic regression model.  Let's simulate some data."
   ]
  },
  {
   "cell_type": "code",
   "execution_count": 24,
   "metadata": {},
   "outputs": [],
   "source": [
    "np.random.seed(0)\n",
    "df3 = pd.DataFrame(columns=['x','y'])\n",
    "df3['x'] = np.random.normal(2, 1, 1000)\n",
    "df3['a+bx'] = -9 + 4*df3['x']\n",
    "df3['y (almost)'] = np.exp(df3['a+bx']) / (1+np.exp(df3['a+bx'])) # y (almost) is y if there was no random noise (no +u)"
   ]
  },
  {
   "cell_type": "code",
   "execution_count": 25,
   "metadata": {},
   "outputs": [],
   "source": [
    "df3['y'] = np.random.binomial(n=1, p=df3['y (almost)']) # this adds u to the model"
   ]
  },
  {
   "cell_type": "code",
   "execution_count": 26,
   "metadata": {},
   "outputs": [
    {
     "data": {
      "text/html": [
       "<div>\n",
       "<style scoped>\n",
       "    .dataframe tbody tr th:only-of-type {\n",
       "        vertical-align: middle;\n",
       "    }\n",
       "\n",
       "    .dataframe tbody tr th {\n",
       "        vertical-align: top;\n",
       "    }\n",
       "\n",
       "    .dataframe thead th {\n",
       "        text-align: right;\n",
       "    }\n",
       "</style>\n",
       "<table border=\"1\" class=\"dataframe\">\n",
       "  <thead>\n",
       "    <tr style=\"text-align: right;\">\n",
       "      <th></th>\n",
       "      <th>x</th>\n",
       "      <th>y</th>\n",
       "      <th>a+bx</th>\n",
       "      <th>y (almost)</th>\n",
       "    </tr>\n",
       "  </thead>\n",
       "  <tbody>\n",
       "    <tr>\n",
       "      <th>0</th>\n",
       "      <td>3.764052</td>\n",
       "      <td>1</td>\n",
       "      <td>6.056209</td>\n",
       "      <td>0.997662</td>\n",
       "    </tr>\n",
       "    <tr>\n",
       "      <th>1</th>\n",
       "      <td>2.400157</td>\n",
       "      <td>0</td>\n",
       "      <td>0.600629</td>\n",
       "      <td>0.645800</td>\n",
       "    </tr>\n",
       "    <tr>\n",
       "      <th>2</th>\n",
       "      <td>2.978738</td>\n",
       "      <td>1</td>\n",
       "      <td>2.914952</td>\n",
       "      <td>0.948581</td>\n",
       "    </tr>\n",
       "    <tr>\n",
       "      <th>3</th>\n",
       "      <td>4.240893</td>\n",
       "      <td>1</td>\n",
       "      <td>7.963573</td>\n",
       "      <td>0.999652</td>\n",
       "    </tr>\n",
       "    <tr>\n",
       "      <th>4</th>\n",
       "      <td>3.867558</td>\n",
       "      <td>1</td>\n",
       "      <td>6.470232</td>\n",
       "      <td>0.998454</td>\n",
       "    </tr>\n",
       "  </tbody>\n",
       "</table>\n",
       "</div>"
      ],
      "text/plain": [
       "          x  y      a+bx  y (almost)\n",
       "0  3.764052  1  6.056209    0.997662\n",
       "1  2.400157  0  0.600629    0.645800\n",
       "2  2.978738  1  2.914952    0.948581\n",
       "3  4.240893  1  7.963573    0.999652\n",
       "4  3.867558  1  6.470232    0.998454"
      ]
     },
     "execution_count": 26,
     "metadata": {},
     "output_type": "execute_result"
    }
   ],
   "source": [
    "df3.head()"
   ]
  },
  {
   "cell_type": "code",
   "execution_count": 27,
   "metadata": {},
   "outputs": [
    {
     "name": "stdout",
     "output_type": "stream",
     "text": [
      "                            OLS Regression Results                            \n",
      "==============================================================================\n",
      "Dep. Variable:                      y   R-squared:                       0.514\n",
      "Model:                            OLS   Adj. R-squared:                  0.514\n",
      "Method:                 Least Squares   F-statistic:                     1056.\n",
      "Date:                Tue, 20 Oct 2020   Prob (F-statistic):          1.41e-158\n",
      "Time:                        11:03:09   Log-Likelihood:                -346.17\n",
      "No. Observations:                1000   AIC:                             696.3\n",
      "Df Residuals:                     998   BIC:                             706.2\n",
      "Df Model:                           1                                         \n",
      "Covariance Type:            nonrobust                                         \n",
      "==============================================================================\n",
      "                 coef    std err          t      P>|t|      [0.025      0.975]\n",
      "------------------------------------------------------------------------------\n",
      "cons          -0.2928      0.024    -12.187      0.000      -0.340      -0.246\n",
      "x              0.3564      0.011     32.493      0.000       0.335       0.378\n",
      "==============================================================================\n",
      "Omnibus:                      113.684   Durbin-Watson:                   2.045\n",
      "Prob(Omnibus):                  0.000   Jarque-Bera (JB):               37.844\n",
      "Skew:                           0.207   Prob(JB):                     6.06e-09\n",
      "Kurtosis:                       2.142   Cond. No.                         5.70\n",
      "==============================================================================\n",
      "\n",
      "Notes:\n",
      "[1] Standard Errors assume that the covariance matrix of the errors is correctly specified.\n"
     ]
    }
   ],
   "source": [
    "df3['cons'] = 1\n",
    "lpm = sm.OLS(df3['y'], df3[['cons','x']]).fit()\n",
    "print(lpm.summary())"
   ]
  },
  {
   "cell_type": "code",
   "execution_count": 28,
   "metadata": {},
   "outputs": [
    {
     "name": "stdout",
     "output_type": "stream",
     "text": [
      "Optimization terminated successfully.\n",
      "         Current function value: 0.292801\n",
      "         Iterations 8\n",
      "                           Logit Regression Results                           \n",
      "==============================================================================\n",
      "Dep. Variable:                      y   No. Observations:                 1000\n",
      "Model:                          Logit   Df Residuals:                      998\n",
      "Method:                           MLE   Df Model:                            1\n",
      "Date:                Tue, 20 Oct 2020   Pseudo R-squ.:                  0.5660\n",
      "Time:                        11:03:09   Log-Likelihood:                -292.80\n",
      "converged:                       True   LL-Null:                       -674.60\n",
      "Covariance Type:            nonrobust   LLR p-value:                4.432e-168\n",
      "==============================================================================\n",
      "                 coef    std err          z      P>|z|      [0.025      0.975]\n",
      "------------------------------------------------------------------------------\n",
      "cons          -8.5975      0.567    -15.154      0.000      -9.709      -7.486\n",
      "x              3.8987      0.259     15.062      0.000       3.391       4.406\n",
      "==============================================================================\n"
     ]
    }
   ],
   "source": [
    "logit = sm.Logit(df3['y'], df3[['cons','x']]).fit()\n",
    "print(logit.summary())"
   ]
  },
  {
   "cell_type": "markdown",
   "metadata": {},
   "source": [
    "### Ceteris Paribus\n",
    "\n",
    "In your microeconomics class, you probably encountered the phrase *ceteris paribus*.  This is Latin for \"all else equal\".  At the time, it may have seemed like economists were just trying to be fancy.  In actuality, the ceteris paribus assumption is key to all analytics.\n",
    "\n",
    "Take the laws of supply and demand as an example.  The law of demand says that when the price of an item, for instance a cell phone is higher, there will be a lower quantity demanded of that item.  But this is implicitly a certeris paribus statement.  The Palm Centro launched in 2007 at a price of $\\$100$, and sold a million units in six months.  In contrast, the original iPhone launched at around the same time, at a release price of $499.  Does the higher price mean that fewer iPhones were sold compared to Palm Centros?  No.  The iPhone sold over a million units in under a third the time it took Palm to do so.  The reason why is the *quality* of the product being offered.\n",
    "\n",
    "Hence, consider the equation\n",
    "\n",
    "$$\n",
    "Q = c + \\beta P + u\n",
    "$$\n",
    "\n",
    "where $Q$ is the quantity of phones demanded and $P$ is the price.  In economics, the ceteris paribus assumption means that we want to predict the quantity demanded of a good given the price of a good, holding *all else equal*.\n",
    "\n",
    "When it comes to real world data, the ceteris paribus assumption is violated.  When we observe the price for an item and the amount demanded of it, there are other things at play that make the estimation of the relationship between price and quantity difficult.\n",
    "\n",
    "Another way to think of this is to say that the error-term, $u$, in the equation is not a purely random phenomenon.  Rather, we might have something like\n",
    "\n",
    "$$\n",
    "Q = c + \\beta P + u\n",
    "$$\n",
    "\n",
    "$$\n",
    "Q = c + \\beta P + (\\gamma F + v)\n",
    "$$\n",
    "\n",
    "$$\n",
    "\\text{for }u := \\gamma F + v\n",
    "$$\n",
    "\n",
    "where $F$ is some other feature (e.g. quality) of the phone we should that consider because it has an effect on how many people demand the phone.  The symbol $:=$ implies a definitional equality (e.g. read \"y := x+1\" as \"y is defined to equal x plus 1\").\n",
    "\n",
    "In this case, we say that the equation $Q = c + \\beta P + u$ has **omitted variable bias** because there is some omitted variable $F$ that we do not include in the regression.  Strictly speaking, if there is any correlation between $P$ and $F$, the estimated coefficient for $\\beta$ in a regression specification that omits $F$ will be biased.  This means that the estimated value for $\\beta$ is guaranteed to be inaccurate, no matter how much data you may have.\n",
    "\n",
    "When we move on to case studies, this concept will be very important.\n",
    "\n",
    "### Application: Equity $\\beta$\n",
    "\n",
    "When we use something like the `ols()` function above to calculate the slope of a straight line, the equation being modeled looks like:\n",
    "\n",
    "$$\n",
    "y = c + \\beta x + u.\n",
    "$$\n",
    "\n",
    "Recall that the CAPM equation states:\n",
    "\n",
    "$$\n",
    "R_{i,t} = R_{f,t} + \\beta_i (R_{m,t} - R_{f,t})\n",
    "$$\n",
    "\n",
    "which we can re-arrange to form:\n",
    "\n",
    "$$\n",
    "R_{i,t} - R_{f,t} = \\beta_i (R_{m,t} - R_{f,t}).\n",
    "$$\n",
    "\n",
    "Note the similarities between this equation and the equation for a straight line.  We can use linear regression to fit the re-arranged CAPM equation by writing $y=R_{i,t}-R_{f,t}$, $c=0$, and $x=R_{m,t}-R_{f,t}$.  The CAPM formula tells us that the *excess* return on the stock, $y$, is equal to the stock's $beta$ times the market risk premium, $x$, on average.  There are random deviations from this average relationship between $x$ and $y$, and we model this with the error term $u$.\n",
    "\n",
    "The CAPM equation is based on a theoretical relationship between a stock's excess return and the market risk premium.  Per the equation derived by the theory, there is no intercept (equivalently: the intercept is zero).  This is why `statsmodels` does not automatically assume for you that there should be an intercept.  Some theoretical relationships between a `y` variable and `x` variable(s) imply that the intercept should be zero.\n",
    "\n",
    "Below, we will simulate stock return data according to CAPM.  Thus, no intercept will be included.  After, we will run a regression with an intercept variable added, and see that including an intercept in this case is actually quite harmless.\n",
    "\n",
    "Assume that the market return has an average annual return of $8\\%$ and annual volatility of $10\\%$, the risk free rate is constant at $0.03$, and let $\\beta=1.2$.  Simulate one year of returns."
   ]
  },
  {
   "cell_type": "code",
   "execution_count": 29,
   "metadata": {},
   "outputs": [],
   "source": [
    "import numpy as np\n",
    "import pandas as pd\n",
    "import statsmodels.api as sm\n",
    "import seaborn as sns\n",
    "\n",
    "np.random.seed(0)\n",
    "\n",
    "annual_mean = 0.08\n",
    "annual_vol = 0.1\n",
    "annual_rf = 0.03\n",
    "\n",
    "mean = (1+annual_mean)**(1/252) - 1\n",
    "vol = annual_vol / np.sqrt(252)\n",
    "rf = (1+annual_rf)**(1/252) - 1\n",
    "\n",
    "mkt_ret = np.random.normal(mean, vol, 252)\n",
    "mrp = mkt_ret - rf\n",
    "\n",
    "beta = 1.2\n",
    "stk_ret = rf + beta*mrp + np.random.normal(0, 0.01, 252)\n",
    "excess_ret = stk_ret - rf"
   ]
  },
  {
   "cell_type": "code",
   "execution_count": 30,
   "metadata": {},
   "outputs": [
    {
     "name": "stderr",
     "output_type": "stream",
     "text": [
      "/mnt/software/anaconda3/envs/fds/lib/python3.7/site-packages/seaborn/distributions.py:2551: FutureWarning: `distplot` is a deprecated function and will be removed in a future version. Please adapt your code to use either `displot` (a figure-level function with similar flexibility) or `histplot` (an axes-level function for histograms).\n",
      "  warnings.warn(msg, FutureWarning)\n"
     ]
    },
    {
     "data": {
      "text/plain": [
       "<AxesSubplot:ylabel='Density'>"
      ]
     },
     "execution_count": 30,
     "metadata": {},
     "output_type": "execute_result"
    },
    {
     "data": {
      "image/png": "[encoded data removed]",
      "text/plain": [
       "<Figure size 432x288 with 1 Axes>"
      ]
     },
     "metadata": {
      "filenames": {
       "image/png": "/home/james/financedatascience.github.io/_build/jupyter_execute/Ch1/regression_55_2.png"
      },
      "needs_background": "light"
     },
     "output_type": "display_data"
    }
   ],
   "source": [
    "sns.distplot(stk_ret)"
   ]
  },
  {
   "cell_type": "code",
   "execution_count": 31,
   "metadata": {},
   "outputs": [
    {
     "data": {
      "text/plain": [
       "<AxesSubplot:>"
      ]
     },
     "execution_count": 31,
     "metadata": {},
     "output_type": "execute_result"
    },
    {
     "data": {
      "image/png": "[encoded data removed]",
      "text/plain": [
       "<Figure size 432x288 with 1 Axes>"
      ]
     },
     "metadata": {
      "filenames": {
       "image/png": "/home/james/financedatascience.github.io/_build/jupyter_execute/Ch1/regression_56_1.png"
      },
      "needs_background": "light"
     },
     "output_type": "display_data"
    }
   ],
   "source": [
    "price = np.cumprod(1+stk_ret)\n",
    "sns.lineplot(x=range(252), y=price)"
   ]
  },
  {
   "cell_type": "markdown",
   "metadata": {},
   "source": [
    "Now, estimate a linear model.  Do not add an intercept term."
   ]
  },
  {
   "cell_type": "code",
   "execution_count": 32,
   "metadata": {},
   "outputs": [
    {
     "name": "stdout",
     "output_type": "stream",
     "text": [
      "                                 OLS Regression Results                                \n",
      "=======================================================================================\n",
      "Dep. Variable:                      y   R-squared (uncentered):                   0.347\n",
      "Model:                            OLS   Adj. R-squared (uncentered):              0.344\n",
      "Method:                 Least Squares   F-statistic:                              133.3\n",
      "Date:                Tue, 20 Oct 2020   Prob (F-statistic):                    5.14e-25\n",
      "Time:                        11:03:09   Log-Likelihood:                          803.52\n",
      "No. Observations:                 252   AIC:                                     -1605.\n",
      "Df Residuals:                     251   BIC:                                     -1602.\n",
      "Df Model:                           1                                                  \n",
      "Covariance Type:            nonrobust                                                  \n",
      "==============================================================================\n",
      "                 coef    std err          t      P>|t|      [0.025      0.975]\n",
      "------------------------------------------------------------------------------\n",
      "x1             1.1597      0.100     11.546      0.000       0.962       1.357\n",
      "==============================================================================\n",
      "Omnibus:                        0.790   Durbin-Watson:                   2.083\n",
      "Prob(Omnibus):                  0.674   Jarque-Bera (JB):                0.548\n",
      "Skew:                          -0.092   Prob(JB):                        0.760\n",
      "Kurtosis:                       3.135   Cond. No.                         1.00\n",
      "==============================================================================\n",
      "\n",
      "Notes:\n",
      "[1] R² is computed without centering (uncentered) since the model does not contain a constant.\n",
      "[2] Standard Errors assume that the covariance matrix of the errors is correctly specified.\n"
     ]
    }
   ],
   "source": [
    "capm = sm.OLS(excess_ret, mrp).fit()\n",
    "print(capm.summary())"
   ]
  },
  {
   "cell_type": "markdown",
   "metadata": {},
   "source": [
    "Now repeat the estimation, but include an intercept term."
   ]
  },
  {
   "cell_type": "code",
   "execution_count": 33,
   "metadata": {},
   "outputs": [
    {
     "name": "stdout",
     "output_type": "stream",
     "text": [
      "                            OLS Regression Results                            \n",
      "==============================================================================\n",
      "Dep. Variable:                      y   R-squared:                       0.350\n",
      "Model:                            OLS   Adj. R-squared:                  0.348\n",
      "Method:                 Least Squares   F-statistic:                     134.7\n",
      "Date:                Tue, 20 Oct 2020   Prob (F-statistic):           3.34e-25\n",
      "Time:                        11:03:09   Log-Likelihood:                 804.25\n",
      "No. Observations:                 252   AIC:                            -1604.\n",
      "Df Residuals:                     250   BIC:                            -1597.\n",
      "Df Model:                           1                                         \n",
      "Covariance Type:            nonrobust                                         \n",
      "==============================================================================\n",
      "                 coef    std err          t      P>|t|      [0.025      0.975]\n",
      "------------------------------------------------------------------------------\n",
      "const         -0.0008      0.001     -1.198      0.232      -0.002       0.000\n",
      "x1             1.1671      0.101     11.608      0.000       0.969       1.365\n",
      "==============================================================================\n",
      "Omnibus:                        0.801   Durbin-Watson:                   2.095\n",
      "Prob(Omnibus):                  0.670   Jarque-Bera (JB):                0.555\n",
      "Skew:                          -0.092   Prob(JB):                        0.758\n",
      "Kurtosis:                       3.139   Cond. No.                         160.\n",
      "==============================================================================\n",
      "\n",
      "Notes:\n",
      "[1] Standard Errors assume that the covariance matrix of the errors is correctly specified.\n"
     ]
    }
   ],
   "source": [
    "cons = [1 for i in range(252)]\n",
    "\n",
    "capm_int = sm.OLS(excess_ret, np.column_stack( (cons, mrp) ) ).fit()\n",
    "print(capm_int.summary())"
   ]
  },
  {
   "cell_type": "markdown",
   "metadata": {},
   "source": [
    "Note that, because the true intercept is actually zero, Python ends up estimating an intercept that is in fact very close to zero.\n",
    "\n",
    "Hence, we should always include an intercept when running a regression model.  If an intercept is irrelevant (i.e. close to zero), then let Python estimate it.  Do not exclude an intercept under the assumption that it should be irrelevant, because you may be wrong."
   ]
  }
 ],
 "metadata": {
  "kernelspec": {
   "display_name": "Python 3",
   "language": "python",
   "name": "python3"
  },
  "language_info": {
   "codemirror_mode": {
    "name": "ipython",
    "version": 3
   },
   "file_extension": ".py",
   "mimetype": "text/x-python",
   "name": "python",
   "nbconvert_exporter": "python",
   "pygments_lexer": "ipython3",
   "version": "3.7.9"
  }
 },
 "nbformat": 4,
 "nbformat_minor": 4
}