{
 "cells": [
  {
   "cell_type": "markdown",
   "metadata": {},
   "source": [
    "## Using APIs\n",
    "\n",
    "### American Community Survey\n",
    "\n",
    "The [American Community Survey](https://www.census.gov/programs-surveys/acs)(ACS) is the largest survey conducted by the U.S. Census Bureau.  It collects basic demographic information about people living across the United States.\n",
    "\n",
    "The survey is conducted every year, and, due to processing time, releases with a lag.  For instance, the 2018 survey data is released in the latter part of 2019.  The ACS data is relased not only in one-year estimates (e.g. 2018 survey data) but also in five-year estimates (e.g. 2014-2018 survey data).  The one-year estimates are, naturally, more recent.  However, five-year estimates may be necessary in some applications.  The Census Bureau does not release survey information for small populations, due to anonymity concerns, every year.  Rather, some information is available exclusively in the five-year survey data (which averages over a five year period).\n",
    "\n",
    "A brief overview of the data available through the ACS is available [here](https://www.census.gov/acs/www/data/data-tables-and-tools/).  Note that the ACS data includes things like age, marital status, income, employment status, and educational attainment."
   ]
  },
  {
   "cell_type": "markdown",
   "metadata": {},
   "source": [
    "The full list of ACS data is available [here](https://api.census.gov/data/2018/acs/acs1/profile/variables/)."
   ]
  },
  {
   "cell_type": "markdown",
   "metadata": {},
   "source": [
    "Register for an API key with the U.S. Census Bureau [here](https://api.census.gov/data/key_signup.html).  This step is **required** to continue with the lecture notes!\n",
    "\n",
    "Enter your API key as a string here:"
   ]
  },
  {
   "cell_type": "code",
   "execution_count": 1,
   "metadata": {},
   "outputs": [],
   "source": [
    "api_key = ''"
   ]
  },
  {
   "cell_type": "markdown",
   "metadata": {},
   "source": [
    "To keep my key secret, I've pickled the string that stores it, and will re-load it here.  *Do not* attempt to run the following block."
   ]
  },
  {
   "cell_type": "code",
   "execution_count": 2,
   "metadata": {},
   "outputs": [],
   "source": [
    "import pickle\n",
    "with open('census_key.p', 'rb') as f:\n",
    "    api_key = pickle.load(f)"
   ]
  },
  {
   "cell_type": "markdown",
   "metadata": {},
   "source": [
    "The formula to get data from the ACS is:\n",
    "\n",
    "```\n",
    "'https://api.census.gov/data/'\n",
    "+ <year>\n",
    "+ '/acs/acs1?get=NAME,'\n",
    "+ <variable name>\n",
    "+ '&for='\n",
    "+ <geography>\n",
    "+ ':*&key='\n",
    "+ <API key>\n",
    "```\n",
    "\n",
    "For instance, to get median household income (which has `<variable name> = B19013_001E`) for `<year> = 2010` over the entire U.S. (`<geography> = us`), we would use the string\n",
    "\n",
    "`'https://api.census.gov/data/' + '2010' + '/acs/acs1?get=NAME,' + 'B19013_001E' + '&for=' + 'us' + ':*&key=' + api_key`\n",
    "\n",
    "as our URL.  An example request is shown below:"
   ]
  },
  {
   "cell_type": "code",
   "execution_count": 3,
   "metadata": {},
   "outputs": [
    {
     "name": "stdout",
     "output_type": "stream",
     "text": [
      "[['NAME', 'B19013_001E', 'us'], ['United States', '50046', '1']]\n"
     ]
    }
   ],
   "source": [
    "import requests\n",
    "r = requests.get('https://api.census.gov/data/2010/acs/acs1?get=NAME,B19013_001E&for=us:*&key='+api_key).json()\n",
    "print(r)"
   ]
  },
  {
   "cell_type": "markdown",
   "metadata": {},
   "source": [
    "Likewise, to get data for *every* county in the country, we would replace `us` with `county` following the `for=` piece of the string.  This will return data on many counties.  Instead of printing them all, below, we've printed just a sample, as well as the total number of counties for which median household income data is available via ACS."
   ]
  },
  {
   "cell_type": "code",
   "execution_count": 4,
   "metadata": {},
   "outputs": [
    {
     "name": "stdout",
     "output_type": "stream",
     "text": [
      "[['NAME', 'B19013_001E', 'state', 'county'], ['Baldwin County, Alabama', '47502', '01', '003'], ['Calhoun County, Alabama', '36675', '01', '015'], ['Cullman County, Alabama', '35786', '01', '043'], ['DeKalb County, Alabama', '35967', '01', '049'], ['Elmore County, Alabama', '52222', '01', '051'], ['Etowah County, Alabama', '35897', '01', '055'], ['Houston County, Alabama', '38579', '01', '069'], ['Jefferson County, Alabama', '41583', '01', '073'], ['Lauderdale County, Alabama', '38661', '01', '077']]\n",
      "819\n"
     ]
    }
   ],
   "source": [
    "r = requests.get('https://api.census.gov/data/2010/acs/acs1?get=NAME,B19013_001E&for=county:*&key='+api_key).json()\n",
    "print(r[0:10])\n",
    "print(len(r))"
   ]
  },
  {
   "cell_type": "markdown",
   "metadata": {},
   "source": [
    "Note that the first item in this list is:"
   ]
  },
  {
   "cell_type": "code",
   "execution_count": 5,
   "metadata": {},
   "outputs": [
    {
     "name": "stdout",
     "output_type": "stream",
     "text": [
      "['NAME', 'B19013_001E', 'state', 'county']\n"
     ]
    }
   ],
   "source": [
    "print(r[0])"
   ]
  },
  {
   "cell_type": "markdown",
   "metadata": {},
   "source": [
    "which is simply a set of headers.  That is, for each additional item in the list, the data in position 0 is the county name and the data in position 1 corresponds to the value for the variable `B19013_001E`.  The numbers in positions 2 and 3 are the county's FIPS code.  States have 2-digit FIPS codes, and counties have 3-digit FIPS codes.  If we put the state code and county code together to a 5-digit number (state code then county code), we have a unique identifier for the county.  This FIPS code is used by many different data providers.\n",
    "\n",
    "Recall that we can remove an element from a list with the `.pop()` function.  For instance, let's remove the first element of our requested ACS data (the set of headers)."
   ]
  },
  {
   "cell_type": "code",
   "execution_count": 6,
   "metadata": {},
   "outputs": [],
   "source": [
    "headers = r.pop(0)"
   ]
  },
  {
   "cell_type": "markdown",
   "metadata": {},
   "source": [
    "Do not run the above line of code multiple times!  Python will continue popping out elements of your list.\n",
    "\n",
    "The value for `headers` is thus:"
   ]
  },
  {
   "cell_type": "code",
   "execution_count": 7,
   "metadata": {},
   "outputs": [
    {
     "name": "stdout",
     "output_type": "stream",
     "text": [
      "['NAME', 'B19013_001E', 'state', 'county']\n"
     ]
    }
   ],
   "source": [
    "print(headers)"
   ]
  },
  {
   "cell_type": "markdown",
   "metadata": {},
   "source": [
    "as expected.  Now, the requested ACS data no longer has that element.  Rather, what is left is"
   ]
  },
  {
   "cell_type": "code",
   "execution_count": 8,
   "metadata": {},
   "outputs": [
    {
     "name": "stdout",
     "output_type": "stream",
     "text": [
      "[['Baldwin County, Alabama', '47502', '01', '003'], ['Calhoun County, Alabama', '36675', '01', '015'], ['Cullman County, Alabama', '35786', '01', '043'], ['DeKalb County, Alabama', '35967', '01', '049'], ['Elmore County, Alabama', '52222', '01', '051'], ['Etowah County, Alabama', '35897', '01', '055'], ['Houston County, Alabama', '38579', '01', '069'], ['Jefferson County, Alabama', '41583', '01', '073'], ['Lauderdale County, Alabama', '38661', '01', '077'], ['Lee County, Alabama', '39381', '01', '081']]\n"
     ]
    }
   ],
   "source": [
    "print(r[0:10])"
   ]
  },
  {
   "cell_type": "markdown",
   "metadata": {},
   "source": [
    "simply data.  This is useful, because we can not store all of the data we have in a DataFrame.  The command to do this is `pd.DataFrame()`.  This function takes two arguments.  First, Python expects to receive a list of lists.  This list of lists should correspond to the data that we want to store.  The list of list is a list of rows of data, where each row may be a list of multiple values (multiple columns).  The second argument is a list of column names."
   ]
  },
  {
   "cell_type": "code",
   "execution_count": 9,
   "metadata": {},
   "outputs": [
    {
     "data": {
      "text/html": [
       "<div>\n",
       "<style scoped>\n",
       "    .dataframe tbody tr th:only-of-type {\n",
       "        vertical-align: middle;\n",
       "    }\n",
       "\n",
       "    .dataframe tbody tr th {\n",
       "        vertical-align: top;\n",
       "    }\n",
       "\n",
       "    .dataframe thead th {\n",
       "        text-align: right;\n",
       "    }\n",
       "</style>\n",
       "<table border=\"1\" class=\"dataframe\">\n",
       "  <thead>\n",
       "    <tr style=\"text-align: right;\">\n",
       "      <th></th>\n",
       "      <th>NAME</th>\n",
       "      <th>B19013_001E</th>\n",
       "      <th>state</th>\n",
       "      <th>county</th>\n",
       "    </tr>\n",
       "  </thead>\n",
       "  <tbody>\n",
       "    <tr>\n",
       "      <th>0</th>\n",
       "      <td>Baldwin County, Alabama</td>\n",
       "      <td>47502</td>\n",
       "      <td>01</td>\n",
       "      <td>003</td>\n",
       "    </tr>\n",
       "    <tr>\n",
       "      <th>1</th>\n",
       "      <td>Calhoun County, Alabama</td>\n",
       "      <td>36675</td>\n",
       "      <td>01</td>\n",
       "      <td>015</td>\n",
       "    </tr>\n",
       "    <tr>\n",
       "      <th>2</th>\n",
       "      <td>Cullman County, Alabama</td>\n",
       "      <td>35786</td>\n",
       "      <td>01</td>\n",
       "      <td>043</td>\n",
       "    </tr>\n",
       "    <tr>\n",
       "      <th>3</th>\n",
       "      <td>DeKalb County, Alabama</td>\n",
       "      <td>35967</td>\n",
       "      <td>01</td>\n",
       "      <td>049</td>\n",
       "    </tr>\n",
       "    <tr>\n",
       "      <th>4</th>\n",
       "      <td>Elmore County, Alabama</td>\n",
       "      <td>52222</td>\n",
       "      <td>01</td>\n",
       "      <td>051</td>\n",
       "    </tr>\n",
       "  </tbody>\n",
       "</table>\n",
       "</div>"
      ],
      "text/plain": [
       "                      NAME B19013_001E state county\n",
       "0  Baldwin County, Alabama       47502    01    003\n",
       "1  Calhoun County, Alabama       36675    01    015\n",
       "2  Cullman County, Alabama       35786    01    043\n",
       "3   DeKalb County, Alabama       35967    01    049\n",
       "4   Elmore County, Alabama       52222    01    051"
      ]
     },
     "execution_count": 9,
     "metadata": {},
     "output_type": "execute_result"
    }
   ],
   "source": [
    "import pandas as pd\n",
    "census = pd.DataFrame(r, columns=headers)\n",
    "census.head()"
   ]
  },
  {
   "cell_type": "code",
   "execution_count": 10,
   "metadata": {},
   "outputs": [],
   "source": [
    "census['state'] = census['state'].astype(int)\n",
    "census['county'] = census['county'].astype(int)"
   ]
  },
  {
   "cell_type": "code",
   "execution_count": 11,
   "metadata": {},
   "outputs": [
    {
     "data": {
      "text/plain": [
       "NAME           object\n",
       "B19013_001E    object\n",
       "state           int64\n",
       "county          int64\n",
       "dtype: object"
      ]
     },
     "execution_count": 11,
     "metadata": {},
     "output_type": "execute_result"
    }
   ],
   "source": [
    "census.dtypes"
   ]
  },
  {
   "cell_type": "code",
   "execution_count": 12,
   "metadata": {},
   "outputs": [],
   "source": [
    "census['B19013_001E'] = census['B19013_001E'].astype(int)"
   ]
  },
  {
   "cell_type": "markdown",
   "metadata": {},
   "source": [
    "### Zillow Home Values\n",
    "\n",
    "County median incomes give a sense of the economic well-being of a geographic area.  Suppose that our interest is in how home prices (for most households, the most valuable asset that the household owns), correlates with income.\n",
    "\n",
    "Housing data is available from Zillow [here](https://www.zillow.com/research/data/).\n",
    "\n",
    "The URL for data on all home prices in a county (single-family residential and condos) is `'http://files.zillowstatic.com/research/public_v2/zhvi/County_zhvi_uc_sfr_tier_0.33_0.67_sm_sa_mon.csv'`.  Pandas can read online csv files directly in to Python."
   ]
  },
  {
   "cell_type": "code",
   "execution_count": 13,
   "metadata": {},
   "outputs": [],
   "source": [
    "zhvi = pd.read_csv('http://files.zillowstatic.com/research/public_v2/zhvi/County_zhvi_uc_sfr_tier_0.33_0.67_sm_sa_mon.csv')"
   ]
  },
  {
   "cell_type": "markdown",
   "metadata": {},
   "source": [
    "The `.shape` property of a Pandas DataFrame reports the numbers of rows and columns."
   ]
  },
  {
   "cell_type": "code",
   "execution_count": 14,
   "metadata": {},
   "outputs": [
    {
     "data": {
      "text/plain": [
       "(2850, 306)"
      ]
     },
     "execution_count": 14,
     "metadata": {},
     "output_type": "execute_result"
    }
   ],
   "source": [
    "zhvi.shape"
   ]
  },
  {
   "cell_type": "markdown",
   "metadata": {},
   "source": [
    "There are a lot of columns on this file!  Recall that the `.columns` property of a DataFrame returns a list of columns.  Recall too that we can subset a list named `x` to items `m` through `n` via `x[m:n]`.  Thus, print out only the first 20 columns of the DataFrame below (to get a sense of what's included on this DataFrame)."
   ]
  },
  {
   "cell_type": "code",
   "execution_count": 15,
   "metadata": {},
   "outputs": [
    {
     "data": {
      "text/plain": [
       "Index(['RegionID', 'SizeRank', 'RegionName', 'RegionType', 'StateName',\n",
       "       'State', 'Metro', 'StateCodeFIPS', 'MunicipalCodeFIPS', '1996-01-31',\n",
       "       '1996-02-29', '1996-03-31', '1996-04-30', '1996-05-31', '1996-06-30',\n",
       "       '1996-07-31', '1996-08-31', '1996-09-30', '1996-10-31', '1996-11-30'],\n",
       "      dtype='object')"
      ]
     },
     "execution_count": 15,
     "metadata": {},
     "output_type": "execute_result"
    }
   ],
   "source": [
    "zhvi.columns[:20]"
   ]
  },
  {
   "cell_type": "markdown",
   "metadata": {},
   "source": [
    "Likewise, the *last* `n` items of list `x` are accessible via `x[-n:]`."
   ]
  },
  {
   "cell_type": "code",
   "execution_count": 16,
   "metadata": {},
   "outputs": [
    {
     "data": {
      "text/plain": [
       "Index(['2019-02-28', '2019-03-31', '2019-04-30', '2019-05-31', '2019-06-30',\n",
       "       '2019-07-31', '2019-08-31', '2019-09-30', '2019-10-31', '2019-11-30',\n",
       "       '2019-12-31', '2020-01-31', '2020-02-29', '2020-03-31', '2020-04-30',\n",
       "       '2020-05-31', '2020-06-30', '2020-07-31', '2020-08-31', '2020-09-30'],\n",
       "      dtype='object')"
      ]
     },
     "execution_count": 16,
     "metadata": {},
     "output_type": "execute_result"
    }
   ],
   "source": [
    "zhvi.columns[-20:]"
   ]
  },
  {
   "cell_type": "markdown",
   "metadata": {},
   "source": [
    "Given what we observe about the data, define a list of column names to keep.  All other columns outside of this list will be removed."
   ]
  },
  {
   "cell_type": "code",
   "execution_count": 17,
   "metadata": {},
   "outputs": [
    {
     "name": "stdout",
     "output_type": "stream",
     "text": [
      "['RegionID', 'SizeRank', 'RegionName', 'RegionType', 'StateName', 'State', 'Metro', 'StateCodeFIPS', 'MunicipalCodeFIPS', '2018-12-31']\n"
     ]
    }
   ],
   "source": [
    "keep_list = [col for col in zhvi.columns[:9]] + ['2018-12-31']\n",
    "print(keep_list)"
   ]
  },
  {
   "cell_type": "code",
   "execution_count": 18,
   "metadata": {},
   "outputs": [],
   "source": [
    "zhvi = zhvi[keep_list]"
   ]
  },
  {
   "cell_type": "code",
   "execution_count": 19,
   "metadata": {},
   "outputs": [
    {
     "name": "stdout",
     "output_type": "stream",
     "text": [
      "   RegionID  SizeRank          RegionName RegionType StateName State  \\\n",
      "0      3101         0  Los Angeles County     County        CA    CA   \n",
      "1       139         1         Cook County     County        IL    IL   \n",
      "2      1090         2       Harris County     County        TX    TX   \n",
      "3      2402         3     Maricopa County     County        AZ    AZ   \n",
      "4      2841         4    San Diego County     County        CA    CA   \n",
      "\n",
      "                              Metro  StateCodeFIPS  MunicipalCodeFIPS  \\\n",
      "0    Los Angeles-Long Beach-Anaheim              6                 37   \n",
      "1          Chicago-Naperville-Elgin             17                 31   \n",
      "2  Houston-The Woodlands-Sugar Land             48                201   \n",
      "3           Phoenix-Mesa-Scottsdale              4                 13   \n",
      "4                San Diego-Carlsbad              6                 73   \n",
      "\n",
      "   2018-12-31  \n",
      "0    640852.0  \n",
      "1    256662.0  \n",
      "2    198043.0  \n",
      "3    282261.0  \n",
      "4    610196.0  \n"
     ]
    }
   ],
   "source": [
    "print(zhvi.head())"
   ]
  },
  {
   "cell_type": "markdown",
   "metadata": {},
   "source": [
    "We will combine datasets using state and county codes.  Check that the ZHVI data imported as numbers."
   ]
  },
  {
   "cell_type": "code",
   "execution_count": 20,
   "metadata": {},
   "outputs": [
    {
     "data": {
      "text/plain": [
       "RegionID               int64\n",
       "SizeRank               int64\n",
       "RegionName            object\n",
       "RegionType            object\n",
       "StateName             object\n",
       "State                 object\n",
       "Metro                 object\n",
       "StateCodeFIPS          int64\n",
       "MunicipalCodeFIPS      int64\n",
       "2018-12-31           float64\n",
       "dtype: object"
      ]
     },
     "execution_count": 20,
     "metadata": {},
     "output_type": "execute_result"
    }
   ],
   "source": [
    "zhvi.dtypes"
   ]
  },
  {
   "cell_type": "markdown",
   "metadata": {},
   "source": [
    "Now we can merge.  The format for merging `df1` and `df2` is to use `df1.merge(df2, left_on=, right_on=)`.  The `left_on` and `right_on` specify variables on the left (`df11)` and right (`df2`) datasets that should link the datasets together.  Note that `df1` is the left dataset because it appears before `.merge`, whereas `df2` is the right data because it appears after `.merge`.  It is also possible to use `df2.merge(df1, left_on=, right_on=)`.  In this scenario, the lists passed to `left_on` and `right_on` would flip from the earlier usage (since now `df2` is the left dataset)."
   ]
  },
  {
   "cell_type": "code",
   "execution_count": 21,
   "metadata": {},
   "outputs": [],
   "source": [
    "df = zhvi.merge(census, left_on=['StateCodeFIPS','MunicipalCodeFIPS'], right_on=['state','county'])"
   ]
  },
  {
   "cell_type": "code",
   "execution_count": 22,
   "metadata": {},
   "outputs": [
    {
     "data": {
      "text/html": [
       "<div>\n",
       "<style scoped>\n",
       "    .dataframe tbody tr th:only-of-type {\n",
       "        vertical-align: middle;\n",
       "    }\n",
       "\n",
       "    .dataframe tbody tr th {\n",
       "        vertical-align: top;\n",
       "    }\n",
       "\n",
       "    .dataframe thead th {\n",
       "        text-align: right;\n",
       "    }\n",
       "</style>\n",
       "<table border=\"1\" class=\"dataframe\">\n",
       "  <thead>\n",
       "    <tr style=\"text-align: right;\">\n",
       "      <th></th>\n",
       "      <th>RegionID</th>\n",
       "      <th>SizeRank</th>\n",
       "      <th>RegionName</th>\n",
       "      <th>RegionType</th>\n",
       "      <th>StateName</th>\n",
       "      <th>State</th>\n",
       "      <th>Metro</th>\n",
       "      <th>StateCodeFIPS</th>\n",
       "      <th>MunicipalCodeFIPS</th>\n",
       "      <th>2018-12-31</th>\n",
       "      <th>NAME</th>\n",
       "      <th>B19013_001E</th>\n",
       "      <th>state</th>\n",
       "      <th>county</th>\n",
       "    </tr>\n",
       "  </thead>\n",
       "  <tbody>\n",
       "    <tr>\n",
       "      <th>0</th>\n",
       "      <td>3101</td>\n",
       "      <td>0</td>\n",
       "      <td>Los Angeles County</td>\n",
       "      <td>County</td>\n",
       "      <td>CA</td>\n",
       "      <td>CA</td>\n",
       "      <td>Los Angeles-Long Beach-Anaheim</td>\n",
       "      <td>6</td>\n",
       "      <td>37</td>\n",
       "      <td>640852.0</td>\n",
       "      <td>Los Angeles County, California</td>\n",
       "      <td>52684</td>\n",
       "      <td>6</td>\n",
       "      <td>37</td>\n",
       "    </tr>\n",
       "    <tr>\n",
       "      <th>1</th>\n",
       "      <td>139</td>\n",
       "      <td>1</td>\n",
       "      <td>Cook County</td>\n",
       "      <td>County</td>\n",
       "      <td>IL</td>\n",
       "      <td>IL</td>\n",
       "      <td>Chicago-Naperville-Elgin</td>\n",
       "      <td>17</td>\n",
       "      <td>31</td>\n",
       "      <td>256662.0</td>\n",
       "      <td>Cook County, Illinois</td>\n",
       "      <td>51466</td>\n",
       "      <td>17</td>\n",
       "      <td>31</td>\n",
       "    </tr>\n",
       "    <tr>\n",
       "      <th>2</th>\n",
       "      <td>1090</td>\n",
       "      <td>2</td>\n",
       "      <td>Harris County</td>\n",
       "      <td>County</td>\n",
       "      <td>TX</td>\n",
       "      <td>TX</td>\n",
       "      <td>Houston-The Woodlands-Sugar Land</td>\n",
       "      <td>48</td>\n",
       "      <td>201</td>\n",
       "      <td>198043.0</td>\n",
       "      <td>Harris County, Texas</td>\n",
       "      <td>50422</td>\n",
       "      <td>48</td>\n",
       "      <td>201</td>\n",
       "    </tr>\n",
       "    <tr>\n",
       "      <th>3</th>\n",
       "      <td>2402</td>\n",
       "      <td>3</td>\n",
       "      <td>Maricopa County</td>\n",
       "      <td>County</td>\n",
       "      <td>AZ</td>\n",
       "      <td>AZ</td>\n",
       "      <td>Phoenix-Mesa-Scottsdale</td>\n",
       "      <td>4</td>\n",
       "      <td>13</td>\n",
       "      <td>282261.0</td>\n",
       "      <td>Maricopa County, Arizona</td>\n",
       "      <td>50410</td>\n",
       "      <td>4</td>\n",
       "      <td>13</td>\n",
       "    </tr>\n",
       "    <tr>\n",
       "      <th>4</th>\n",
       "      <td>2841</td>\n",
       "      <td>4</td>\n",
       "      <td>San Diego County</td>\n",
       "      <td>County</td>\n",
       "      <td>CA</td>\n",
       "      <td>CA</td>\n",
       "      <td>San Diego-Carlsbad</td>\n",
       "      <td>6</td>\n",
       "      <td>73</td>\n",
       "      <td>610196.0</td>\n",
       "      <td>San Diego County, California</td>\n",
       "      <td>59923</td>\n",
       "      <td>6</td>\n",
       "      <td>73</td>\n",
       "    </tr>\n",
       "  </tbody>\n",
       "</table>\n",
       "</div>"
      ],
      "text/plain": [
       "   RegionID  SizeRank          RegionName RegionType StateName State  \\\n",
       "0      3101         0  Los Angeles County     County        CA    CA   \n",
       "1       139         1         Cook County     County        IL    IL   \n",
       "2      1090         2       Harris County     County        TX    TX   \n",
       "3      2402         3     Maricopa County     County        AZ    AZ   \n",
       "4      2841         4    San Diego County     County        CA    CA   \n",
       "\n",
       "                              Metro  StateCodeFIPS  MunicipalCodeFIPS  \\\n",
       "0    Los Angeles-Long Beach-Anaheim              6                 37   \n",
       "1          Chicago-Naperville-Elgin             17                 31   \n",
       "2  Houston-The Woodlands-Sugar Land             48                201   \n",
       "3           Phoenix-Mesa-Scottsdale              4                 13   \n",
       "4                San Diego-Carlsbad              6                 73   \n",
       "\n",
       "   2018-12-31                            NAME  B19013_001E  state  county  \n",
       "0    640852.0  Los Angeles County, California        52684      6      37  \n",
       "1    256662.0           Cook County, Illinois        51466     17      31  \n",
       "2    198043.0            Harris County, Texas        50422     48     201  \n",
       "3    282261.0        Maricopa County, Arizona        50410      4      13  \n",
       "4    610196.0    San Diego County, California        59923      6      73  "
      ]
     },
     "execution_count": 22,
     "metadata": {},
     "output_type": "execute_result"
    }
   ],
   "source": [
    "df.head()"
   ]
  },
  {
   "cell_type": "markdown",
   "metadata": {},
   "source": [
    "This merged dataset has both county median income and an index of home values in the area.  Are income and home prices correlated?  We can quickly visualize the question with `seaborn`."
   ]
  },
  {
   "cell_type": "code",
   "execution_count": 23,
   "metadata": {},
   "outputs": [],
   "source": [
    "import seaborn as sns"
   ]
  },
  {
   "cell_type": "code",
   "execution_count": 24,
   "metadata": {},
   "outputs": [
    {
     "data": {
      "text/plain": [
       "<seaborn.axisgrid.FacetGrid at 0x7f898ae77910>"
      ]
     },
     "execution_count": 24,
     "metadata": {},
     "output_type": "execute_result"
    },
    {
     "data": {
      "image/png": "[encoded data removed]",
      "text/plain": [
       "<Figure size 360x360 with 1 Axes>"
      ]
     },
     "metadata": {
      "filenames": {
       "image/png": "/home/james/financedatascience.github.io/_build/jupyter_execute/Ch2/using_apis_42_1.png"
      },
      "needs_background": "light"
     },
     "output_type": "display_data"
    }
   ],
   "source": [
    "sns.lmplot(x='B19013_001E', y='2018-12-31', data=df)"
   ]
  },
  {
   "cell_type": "markdown",
   "metadata": {},
   "source": [
    "There do appear to be some outliers here.  To check, try a boxplot."
   ]
  },
  {
   "cell_type": "code",
   "execution_count": 25,
   "metadata": {},
   "outputs": [
    {
     "name": "stderr",
     "output_type": "stream",
     "text": [
      "/mnt/software/anaconda3/envs/fds/lib/python3.7/site-packages/seaborn/_decorators.py:43: FutureWarning: Pass the following variable as a keyword arg: x. From version 0.12, the only valid positional argument will be `data`, and passing other arguments without an explicit keyword will result in an error or misinterpretation.\n",
      "  FutureWarning\n"
     ]
    },
    {
     "data": {
      "text/plain": [
       "<AxesSubplot:xlabel='2018-12-31'>"
      ]
     },
     "execution_count": 25,
     "metadata": {},
     "output_type": "execute_result"
    },
    {
     "data": {
      "image/png": "[encoded data removed]",
      "text/plain": [
       "<Figure size 432x288 with 1 Axes>"
      ]
     },
     "metadata": {
      "filenames": {
       "image/png": "/home/james/financedatascience.github.io/_build/jupyter_execute/Ch2/using_apis_44_2.png"
      },
      "needs_background": "light"
     },
     "output_type": "display_data"
    }
   ],
   "source": [
    "sns.boxplot(zhvi['2018-12-31'])"
   ]
  },
  {
   "cell_type": "markdown",
   "metadata": {},
   "source": [
    "Additionally, print out a description of the home value index data."
   ]
  },
  {
   "cell_type": "code",
   "execution_count": 26,
   "metadata": {},
   "outputs": [
    {
     "data": {
      "text/plain": [
       "count    2.850000e+03\n",
       "mean     1.667050e+05\n",
       "std      1.307382e+05\n",
       "min      2.544400e+04\n",
       "25%      9.602900e+04\n",
       "50%      1.330440e+05\n",
       "75%      1.979808e+05\n",
       "max      2.925333e+06\n",
       "Name: 2018-12-31, dtype: float64"
      ]
     },
     "execution_count": 26,
     "metadata": {},
     "output_type": "execute_result"
    }
   ],
   "source": [
    "zhvi['2018-12-31'].describe()"
   ]
  },
  {
   "cell_type": "markdown",
   "metadata": {},
   "source": [
    "One method of removing outliers is to ignore (i.e. delete) the data that is \"far out\" on the boxplot (i.e., well beyond the whiskers).\n",
    "\n",
    "The `numpy` module has a `quantile()` function to retrieve the 25th and 75th percentiles, as reported above in the summary statistics."
   ]
  },
  {
   "cell_type": "code",
   "execution_count": 27,
   "metadata": {},
   "outputs": [
    {
     "name": "stdout",
     "output_type": "stream",
     "text": [
      "[ 96029.   197980.75]\n"
     ]
    }
   ],
   "source": [
    "import numpy as np\n",
    "quantiles = np.quantile(zhvi['2018-12-31'], q=[.25, .75])\n",
    "print(quantiles)"
   ]
  },
  {
   "cell_type": "markdown",
   "metadata": {},
   "source": [
    "The interquartile range (IQR) is defined as the difference between the 75th and 25th percentiles of data.  One reasonable way to remove outliers is to eliminate observations that exceed the 75th percentile by more than 1.5\\*IQR or are less than the 25th percentile by more than 1.5\\*IQR."
   ]
  },
  {
   "cell_type": "code",
   "execution_count": 28,
   "metadata": {},
   "outputs": [
    {
     "data": {
      "text/plain": [
       "<seaborn.axisgrid.FacetGrid at 0x7f89893476d0>"
      ]
     },
     "execution_count": 28,
     "metadata": {},
     "output_type": "execute_result"
    },
    {
     "data": {
      "image/png": "[encoded data removed]",
      "text/plain": [
       "<Figure size 360x360 with 1 Axes>"
      ]
     },
     "metadata": {
      "filenames": {
       "image/png": "/home/james/financedatascience.github.io/_build/jupyter_execute/Ch2/using_apis_50_1.png"
      },
      "needs_background": "light"
     },
     "output_type": "display_data"
    }
   ],
   "source": [
    "iqr = quantiles[1]-quantiles[0]\n",
    "sns.lmplot(x='B19013_001E', y='2018-12-31', data=df[ (df['2018-12-31'] < quantiles[1]+1.5*iqr) &\n",
    "                                                   (df['2018-12-31'] > quantiles[0]-1.5*iqr) ])"
   ]
  }
 ],
 "metadata": {
  "kernelspec": {
   "display_name": "Python 3",
   "language": "python",
   "name": "python3"
  },
  "language_info": {
   "codemirror_mode": {
    "name": "ipython",
    "version": 3
   },
   "file_extension": ".py",
   "mimetype": "text/x-python",
   "name": "python",
   "nbconvert_exporter": "python",
   "pygments_lexer": "ipython3",
   "version": "3.7.9"
  }
 },
 "nbformat": 4,
 "nbformat_minor": 4
}