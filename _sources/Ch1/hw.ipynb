{
 "cells": [
  {
   "cell_type": "markdown",
   "metadata": {},
   "source": [
    "## Homework Assignment\n",
    "\n",
    "### Equity Sensitivity to Recapitalization\n",
    "\n",
    "Run the below cell to get started.  Then, respond to each question."
   ]
  },
  {
   "cell_type": "code",
   "execution_count": null,
   "metadata": {},
   "outputs": [],
   "source": [
    "import numpy as np\n",
    "import pandas as pd\n",
    "from scipy.stats import beta, truncnorm\n",
    "import seaborn as sns\n",
    "\n",
    "np.random.seed(0)\n",
    "\n",
    "df = pd.DataFrame(columns=['leverage', 'debt beta', 'equity beta'])\n",
    "df['leverage'] = beta.rvs(1, 3, scale = 1.75,  size = 1000)/2\n",
    "df['debt beta'] = truncnorm.rvs(.05, .07, size = 1000) + df['leverage']*0.0001\n",
    "df['equity beta'] = np.random.normal(1, 0.25, size = 1000)\n",
    "df.head()"
   ]
  },
  {
   "cell_type": "markdown",
   "metadata": {},
   "source": [
    "**Question 1:**\n",
    "\n",
    "Print out summary statistics for the column ``'leverage'``.  Based on the output you observe, add a comment to your code block labeling the data as either left or right skewed, and explain your reasoning."
   ]
  },
  {
   "cell_type": "code",
   "execution_count": null,
   "metadata": {},
   "outputs": [],
   "source": [
    "# your code here"
   ]
  },
  {
   "cell_type": "markdown",
   "metadata": {},
   "source": [
    "**Question 2:**\n",
    "\n",
    "Print out the distribution and histogram of `leverage`."
   ]
  },
  {
   "cell_type": "code",
   "execution_count": null,
   "metadata": {},
   "outputs": [],
   "source": [
    "# your code here"
   ]
  },
  {
   "cell_type": "markdown",
   "metadata": {},
   "source": [
    "**Question 3**\n",
    "\n",
    "Use the fact that $\\beta_{\\text{Asset}} = \\frac{\\text{Equity Value}}{\\text{Firm Value}} \\beta_{\\text{Equity}} + \\frac{\\text{Debt Value}}{\\text{Firm Value}} \\beta_{\\text{Debt}}$ to compute the unlevered, asset beta of each company in the dataset.\n",
    "\n",
    "Hint: $\\frac{E}{V} = \\Big(1 + \\frac{E}{D}\\Big)^{-1}$."
   ]
  },
  {
   "cell_type": "code",
   "execution_count": null,
   "metadata": {},
   "outputs": [],
   "source": [
    "# your code here"
   ]
  },
  {
   "cell_type": "markdown",
   "metadata": {},
   "source": [
    "**Question 4**\n",
    "\n",
    "Suppose that every firm in the database increases their leverage by 5%.  This is a relatively small increase, so you should assume that the debt beta of each firm remains the same.  Equity, in contrast, is rather sensitive to changes in firm financial policies (given that it is the residual claim on the firm's cash).  Thus, calculate a new equity beta that corresponds to the higher leverage rate.  \n",
    "\n",
    "Hint: re-arrange the above equation to solve for $\\beta_{\\text{Equity}}$."
   ]
  },
  {
   "cell_type": "code",
   "execution_count": null,
   "metadata": {},
   "outputs": [],
   "source": [
    "# your code here"
   ]
  },
  {
   "cell_type": "markdown",
   "metadata": {},
   "source": [
    "**Question 5**\n",
    "\n",
    "Suppose that the market risk premium is $8\\%$ and that the risk free rate is $2\\%$.  Using CAPM, compute the percent increase in each firm's cost of equity associated with the leverage increase."
   ]
  },
  {
   "cell_type": "code",
   "execution_count": null,
   "metadata": {},
   "outputs": [],
   "source": [
    "# your code here"
   ]
  },
  {
   "cell_type": "markdown",
   "metadata": {},
   "source": [
    "**Question 6**\n",
    "\n",
    "Plot a line of best fit that shows the relationship between a firm's equity sensitivity (the percent change in cost of equity calculated in question five), plotted on the y-axis, and a firm's starting leverage (as summarized in question 1), plotted on the x-axis."
   ]
  },
  {
   "cell_type": "code",
   "execution_count": null,
   "metadata": {},
   "outputs": [],
   "source": [
    "# your code here"
   ]
  },
  {
   "cell_type": "markdown",
   "metadata": {},
   "source": [
    "**Question 7**\n",
    "\n",
    "Nowhere above was random noise (the $+u$ part of the line $y = \\alpha + \\beta x + u$ as described in the notes) added to how firm's cost of equity changes with respect to an increase in financial leverage.  In the below cell, as a comment, explain why the line plotted in response to question 6 is not a perfect fit."
   ]
  },
  {
   "cell_type": "code",
   "execution_count": null,
   "metadata": {},
   "outputs": [],
   "source": [
    "# your answer here"
   ]
  },
  {
   "cell_type": "markdown",
   "metadata": {},
   "source": [
    "**Bonus**\n",
    "\n",
    "Given that:\n",
    "1. change in cost of equity, $\\Delta(r)$, is given by $\\Big(r_e^{\\text{new}} - r_e^{\\text{old}}\\Big)\\Big/\\Big(r_e^{\\text{old}}\\Big)$ (question 7)\n",
    "2. cost of equity, $r_e$, is a function of equity beta, $\\beta_e$ (question 6)\n",
    "3. equity beta is a function of leverage, $L$ (question 4)\n",
    "4. an increase in leverage can be written as $L^{\\text{old}}(1+x)$ (question 4)\n",
    "\n",
    "Solve: $\\partial \\Delta(r) / \\partial x$ and enter your answer in the below markdown cell.  Use the symbols as defined in this cell and Latex typesetting to specify your answer."
   ]
  },
  {
   "cell_type": "markdown",
   "metadata": {},
   "source": [
    "< enter your answer here >"
   ]
  }
 ],
 "metadata": {
  "kernelspec": {
   "display_name": "Python 3",
   "language": "python",
   "name": "python3"
  },
  "language_info": {
   "codemirror_mode": {
    "name": "ipython",
    "version": 3
   },
   "file_extension": ".py",
   "mimetype": "text/x-python",
   "name": "python",
   "nbconvert_exporter": "python",
   "pygments_lexer": "ipython3",
   "version": "3.8.3"
  }
 },
 "nbformat": 4,
 "nbformat_minor": 4
}
