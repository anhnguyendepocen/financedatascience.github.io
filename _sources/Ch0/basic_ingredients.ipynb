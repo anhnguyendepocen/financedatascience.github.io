{
 "cells": [
  {
   "cell_type": "markdown",
   "metadata": {},
   "source": [
    "## Basic Ingredients\n",
    "\n",
    "Python is one of the most popular, general-purpose programming languages in the world.\n",
    "\n",
    "It is powerful, flexible, and *easy to learn*.\n",
    "\n",
    "### Variables and Data\n",
    "\n",
    "Variables store information.  Below, variable `a` is defined to store the number 5.  Next, variable `b` is defined to store 5 (the value of `a`) plus 2, which is 7."
   ]
  },
  {
   "cell_type": "code",
   "execution_count": 1,
   "metadata": {},
   "outputs": [
    {
     "name": "stdout",
     "output_type": "stream",
     "text": [
      "7\n"
     ]
    }
   ],
   "source": [
    "a = 5\n",
    "b = a + 2\n",
    "print(b)"
   ]
  },
  {
   "cell_type": "markdown",
   "metadata": {},
   "source": [
    "Variable names must start with a letter, and can contain letters, numbers, and underscores.  In general, variables should be named in a descriptive manner.  That is, if you have a variable that contains a firm's cost of capital as its information, it is better to name this something like `cost_of_capital` or `costOfCapital` rather than a non-descriptive name like `a` or `b`.\n",
    "\n",
    "Note that you can use `#` to add comments to your code.\n",
    "\n",
    "Python will ignore everything on a line following a `#` symbol."
   ]
  },
  {
   "cell_type": "code",
   "execution_count": 2,
   "metadata": {},
   "outputs": [
    {
     "name": "stdout",
     "output_type": "stream",
     "text": [
      "14\n"
     ]
    }
   ],
   "source": [
    "c = b + 7 # + 10\n",
    "print(c)"
   ]
  },
  {
   "cell_type": "markdown",
   "metadata": {},
   "source": [
    "There are a handful of basic variable types.\n",
    "\n",
    "Note that the character `#` begins a **comment**.  Python ignores the `#` character and everything that follows it.  Use this to take notes about what's happening in the code."
   ]
  },
  {
   "cell_type": "code",
   "execution_count": 3,
   "metadata": {},
   "outputs": [],
   "source": [
    "a = 5        # a is an integer (there is no decimal point)\n",
    "b = 1.5      # floating point number (in general, don't worry about integer vs. floating point)\n",
    "c = False    # c is a Boolean\n",
    "d = 'banana' # d is a string"
   ]
  },
  {
   "cell_type": "markdown",
   "metadata": {},
   "source": [
    "Programming is useful because variables can store *lots* of information (more than just a single number or word!)."
   ]
  },
  {
   "cell_type": "code",
   "execution_count": 4,
   "metadata": {},
   "outputs": [],
   "source": [
    "e = [1,2,3]  # e is a list\n",
    "f = {'word 1':'definition 1', 'word 2':'definition 2'} # f is a dictionary"
   ]
  },
  {
   "cell_type": "markdown",
   "metadata": {},
   "source": [
    "Above, variable `e` stores information about multiple numbers.  Lists can store lots of things, not just numbers.  For example, the list `fang = ['FB', 'AMZN', 'NFLX', 'GOOG']` stores a list of string variables, where each string corresponds to one of the ticker symbols for the FANG stocks.\n",
    "\n",
    "Above, variable `f` stores information about words and their meanings.  Like lists, dictionaries can store lots of things.  For example `FB = {'3/23/20':148.10, '3/24/20':160.98, '3/25/20':156.21, '3/26/20':163.34, '3/27/20':156.79}` records daily stock price information for Facebook, Inc. for the week of March 23, 2020.  Dictionary variables hold *keys* (e.g. a word to look up) and *values* (e.g. the definition of the word).  Here, the key is a string that records the date, and the value is a floating point number that corresponds to the stock price.\n",
    "\n",
    "We'll return to lists and dictionaries later, including a discussion of how to modify/update data inside the list/dictionary, as well as instructions for accessing single items within a list/dictionary.  For now, we'll work with variables that hold single pieces of information for the sake of simplicity.  But note that variables can store lots of data simultaneously, and that's what makes programming truly useful for financial practioners.\n",
    "\n",
    "Amongst the above variable types, integer and floating point numbers are a nice place to start because there are a number of straight forward operations that can be applied to these variables.  For instance, as shown above, we can add numbers together with `+`.  Subtraction, multiplication, and division work in similar ways:\n",
    "\n",
    "Operation | Operator | Example | Result\n",
    "- | - | - | -\n",
    "Addition | `+` | `2+3` | `5`\n",
    "Subtraction | `-` | `5-3` | `2`\n",
    "Multiplication | `*` | `2*3` | `6`\n",
    "Division | `/` | `6/3` | `2`\n",
    "\n",
    "Beyond these four basic arithmatic operations, there are two extra operations to know:\n",
    "\n",
    "Operation | Operator | Example | Result\n",
    "- | - | - | -\n",
    "Exponentiation | `**` | `3**3` | `9`\n",
    "Modulus | `%` | `4%3` | `1`\n",
    "\n",
    "The former, exponentiation, is key to many financial applications (e.g. time value of money).  Do not mistake `**` and `^`!  While `^` may look more familiar as an exponentiation symbol, it has an entirely different meaning in Python.\n",
    "\n",
    "These arithmatic operators perform basic tasks with stored data.  For instance, if we have variables corresponding to debt and equity, we can calculate leverage."
   ]
  },
  {
   "cell_type": "code",
   "execution_count": 5,
   "metadata": {},
   "outputs": [
    {
     "name": "stdout",
     "output_type": "stream",
     "text": [
      "0.2\n"
     ]
    }
   ],
   "source": [
    "debt = 20\n",
    "equity = 80\n",
    "\n",
    "leverage = (debt) / (debt+equity)\n",
    "print(leverage)"
   ]
  },
  {
   "cell_type": "markdown",
   "metadata": {},
   "source": [
    "Similarly, if we needed to know the holding period return of an investment of $\\$500$ that earns $2\\%$ per year for $3$ years, we could use these Python operators to find that out."
   ]
  },
  {
   "cell_type": "code",
   "execution_count": 6,
   "metadata": {},
   "outputs": [
    {
     "data": {
      "text/plain": [
       "0.06120800000000015"
      ]
     },
     "execution_count": 6,
     "metadata": {},
     "output_type": "execute_result"
    }
   ],
   "source": [
    "500 * (1+.02)**3  / 500 - 1"
   ]
  },
  {
   "cell_type": "markdown",
   "metadata": {},
   "source": [
    "### Tests of (In)Equality\n",
    "\n",
    "We can compare the relative value of two number variables.  For example, define two variables, `debt_longterm` and `debt_shortterm`, that store information about a company's long term and short term debt, respectively."
   ]
  },
  {
   "cell_type": "code",
   "execution_count": 7,
   "metadata": {},
   "outputs": [],
   "source": [
    "debt_longterm = 1000\n",
    "debt_shortterm = 2000"
   ]
  },
  {
   "cell_type": "markdown",
   "metadata": {},
   "source": [
    "We can check for whether long term debt exceeds short term debt with the `>` character.  This test returns a *boolean* value (True or False)."
   ]
  },
  {
   "cell_type": "code",
   "execution_count": 8,
   "metadata": {},
   "outputs": [
    {
     "data": {
      "text/plain": [
       "False"
      ]
     },
     "execution_count": 8,
     "metadata": {},
     "output_type": "execute_result"
    }
   ],
   "source": [
    "debt_longterm > debt_shortterm"
   ]
  },
  {
   "cell_type": "markdown",
   "metadata": {},
   "source": [
    "As you might expect, we can also use `<` and `=` characters for other tests.  For instance:"
   ]
  },
  {
   "cell_type": "code",
   "execution_count": 9,
   "metadata": {},
   "outputs": [
    {
     "data": {
      "text/plain": [
       "True"
      ]
     },
     "execution_count": 9,
     "metadata": {},
     "output_type": "execute_result"
    }
   ],
   "source": [
    "debt_longterm <= debt_shortterm"
   ]
  },
  {
   "cell_type": "markdown",
   "metadata": {},
   "source": [
    "We have to be careful with tests of equality, however.  Remember, we used `=` to tell Python what information a variable should store.  For example, `x=7` tells Python that the variable `x` should store the number seven.  Thus, if we want to test for whether the information stored in `x` equals seven, we type\n",
    "```Python3\n",
    "x == 7\n",
    "```\n",
    "with a double `==` to denote that we're testing for equality.\n",
    "\n",
    "Related to the `<`, `>`, and `=` characters is the word `in`.  In Python, the word `in` has a special meaning, so you can't define a variable with the name `in`.  The word `in` is used to check for whether a value appears in a list.  Use of the word `in`, like the `>` or other tests of (in)equality, results in Python returning a Boolean value.\n",
    "\n",
    "As an example, define `tic` to be one stock ticker of interest and `tickers` to be a list of stock tickers."
   ]
  },
  {
   "cell_type": "code",
   "execution_count": 10,
   "metadata": {},
   "outputs": [],
   "source": [
    "tic = 'AAPL'\n",
    "tickers = ['AAPL','MSFT','AMD','NVDA','INTC']"
   ]
  },
  {
   "cell_type": "markdown",
   "metadata": {},
   "source": [
    "We can check for whether the value stored in `tic` appears in the list of items held in `tickers` by using the word `in`."
   ]
  },
  {
   "cell_type": "code",
   "execution_count": 11,
   "metadata": {},
   "outputs": [
    {
     "data": {
      "text/plain": [
       "True"
      ]
     },
     "execution_count": 11,
     "metadata": {},
     "output_type": "execute_result"
    }
   ],
   "source": [
    "tic in tickers"
   ]
  },
  {
   "cell_type": "markdown",
   "metadata": {},
   "source": [
    "Now that we can test for equality, we can use this information to test an important point: strings and numbers (either integers or floating points) are different.  That is, if we type"
   ]
  },
  {
   "cell_type": "code",
   "execution_count": 12,
   "metadata": {},
   "outputs": [
    {
     "data": {
      "text/plain": [
       "True"
      ]
     },
     "execution_count": 12,
     "metadata": {},
     "output_type": "execute_result"
    }
   ],
   "source": [
    "2 == 1+1"
   ]
  },
  {
   "cell_type": "markdown",
   "metadata": {},
   "source": [
    "we get the value `True`, whereas if we type"
   ]
  },
  {
   "cell_type": "code",
   "execution_count": 13,
   "metadata": {},
   "outputs": [
    {
     "data": {
      "text/plain": [
       "False"
      ]
     },
     "execution_count": 13,
     "metadata": {},
     "output_type": "execute_result"
    }
   ],
   "source": [
    "2 == '2'"
   ]
  },
  {
   "cell_type": "markdown",
   "metadata": {},
   "source": [
    "we get the value `False`.\n",
    "\n",
    "### Functions\n",
    "\n",
    "Variables are one of the two fundamental components of any programming language.  Now that we know what variables are (they things that store data) and how to work with them, we can introduce the the other fundamental component of programming: functions.\n",
    "\n",
    "Functions give us the ability to write some code that we reference over and over again without having to retype things.  Ultimately, programming is about making your life easier!  We work hard (say, for one semester of our lives) learning how to give a computer instructions (using Python) and then, for the rest of our lives, everything else is easier and more convenient because we can instruct a computer to do lots of the heavy lifting for us.  <u>In financial terms, we spend a little time now for a bunch of time saved later, and thus the net present value of learning to program is positive.</u>\n",
    "\n",
    "Functions have three parts:\n",
    "1. Function defintion (name the function and determine what *inputs* we need, if any)\n",
    "2. Operations (execute some code)\n",
    "3. Return statement (define what want we want to get back from the function)\n",
    "\n",
    "As an example, let's compute the weighted average cost of capital, defined as\n",
    "\n",
    "$$\n",
    "r_{\\text{WACC}} = \\frac{E}{V}\\times r_E + \\frac{D}{V}\\times r_D\\times (1-\\tau_C).\n",
    "$$\n",
    "\n",
    "That is, the weighted average cost of capital for a firm is the proportion of equity in the firm times the equity cost of capital plus the proportion of debt in the firm times the debt cost of capital.  We adjust the latter for the tax shield of debt using the corporate tax rate $\\tau_C$.\n",
    "\n",
    "**Part 1: definition**\n",
    "\n",
    "A function defintion begins with the keyword `def` followed by the function name and then a colon.\n",
    "\n",
    "Functions can use information passed to it via input arguments (inputs are named in the parentheses, which appear before the colon).\n",
    "\n",
    "```python3\n",
    "def wacc(E, D, rE, rD, tC):\n",
    "```\n",
    "\n",
    "Note that in this function definition, we expect `E` and `D` as inputs.  We do not require `V` to be an input to the function, since `V` is easily calculated as `V = E + D`.  This calculation is included in part 2.\n",
    "\n",
    "**Part 2: operations**\n",
    "\n",
    "Functions run the code written inside of the function (operations) when the function is *called*.  A function call occurs when a programmer ''uses'' the function, and we'll see an example of this shortly.\n",
    "\n",
    "<u>NOTE</u>: indentation keeps track of whether code is ''inside'' a function\n",
    "\n",
    "```python3\n",
    "def wacc(E, D, rE, rD, tC):\n",
    "    V = E + D\n",
    "    cost_of_capital = E / V * rE + D / V * rD * (1 - tC)\n",
    "```\n",
    "\n",
    "**Part 3: return value**\n",
    "\n",
    "Functions can be many, many lines of code.\n",
    "\n",
    "The last line, starting with the keyword `return` specifies what value comes back when you run the function.\n",
    "\n",
    "```python3\n",
    "def wacc(E, D, rE, rD, tC):\n",
    "    V = E + D\n",
    "    cost_of_capital = E / V * rE + D / V * rD * (1 - tC)\n",
    "    return cost_of_capital\n",
    "```\n",
    "\n",
    "When a function is created, Python becomes ''aware'' of the function, but nothing else happens at that time."
   ]
  },
  {
   "cell_type": "code",
   "execution_count": 14,
   "metadata": {},
   "outputs": [],
   "source": [
    "def wacc(E, D, rE, rD, tC):\n",
    "    V = E + D\n",
    "    cost_of_capital = E / V * rE + D / V * rD * (1-tC)\n",
    "    return cost_of_capital"
   ]
  },
  {
   "cell_type": "markdown",
   "metadata": {},
   "source": [
    "For functions to be used, they need to be *called*.  For example:"
   ]
  },
  {
   "cell_type": "code",
   "execution_count": 15,
   "metadata": {},
   "outputs": [
    {
     "data": {
      "text/plain": [
       "0.06753846153846155"
      ]
     },
     "execution_count": 15,
     "metadata": {},
     "output_type": "execute_result"
    }
   ],
   "source": [
    "wacc(100,30,.08,.04,.35)"
   ]
  },
  {
   "cell_type": "markdown",
   "metadata": {},
   "source": [
    "tells Python to compute the weighted average cost of capital for a firm with an equity value of $100$, a debt value of $30$, an equity cost of capital of $8\\%$, a debt cost of capital of $4\\%$, and a tax rate of $35\\%$.  The returned value of `0.0675` tells us that the firm's WACC is $6.75\\%$.\n",
    "\n",
    "In the above example, Python *assumes* the first number ($100$) should be given to the input variable `E`, it *assumes* that the second number ($30$) should be given to the input variable `D`, etc.  This is bad practice!  It's much better to use the input variable names:"
   ]
  },
  {
   "cell_type": "code",
   "execution_count": 16,
   "metadata": {},
   "outputs": [
    {
     "data": {
      "text/plain": [
       "0.06753846153846155"
      ]
     },
     "execution_count": 16,
     "metadata": {},
     "output_type": "execute_result"
    }
   ],
   "source": [
    "wacc(E=100,D=30,rE=.08,rD=.04,tC=.35)"
   ]
  },
  {
   "cell_type": "markdown",
   "metadata": {},
   "source": [
    "because then the ordering of how you enter the inputs doesn't matter."
   ]
  },
  {
   "cell_type": "code",
   "execution_count": 17,
   "metadata": {},
   "outputs": [
    {
     "data": {
      "text/plain": [
       "0.06753846153846155"
      ]
     },
     "execution_count": 17,
     "metadata": {},
     "output_type": "execute_result"
    }
   ],
   "source": [
    "wacc(rE=.08,rD=.04,tC=.35,E=100,D=30)"
   ]
  },
  {
   "cell_type": "markdown",
   "metadata": {},
   "source": [
    "This is useful to keep in mind because, realistically, you won't remember the default ordering of inputs (the order of input variables in the `def` line of the function definition).\n",
    "\n",
    "The `return` line is important because variables that live inside a function are stuck inside that function.\n",
    "\n",
    "E.g. the below will throw an error because `cost_of_capital` is only *accessible* inside the function `wacc`."
   ]
  },
  {
   "cell_type": "code",
   "execution_count": 18,
   "metadata": {},
   "outputs": [
    {
     "ename": "NameError",
     "evalue": "name 'cost_of_capital' is not defined",
     "output_type": "error",
     "traceback": [
      "\u001b[0;31m---------------------------------------------------------------------------\u001b[0m",
      "\u001b[0;31mNameError\u001b[0m                                 Traceback (most recent call last)",
      "\u001b[0;32m<ipython-input-18-967605eceae6>\u001b[0m in \u001b[0;36m<module>\u001b[0;34m\u001b[0m\n\u001b[0;32m----> 1\u001b[0;31m \u001b[0mcost_of_capital\u001b[0m\u001b[0;34m\u001b[0m\u001b[0;34m\u001b[0m\u001b[0m\n\u001b[0m",
      "\u001b[0;31mNameError\u001b[0m: name 'cost_of_capital' is not defined"
     ]
    }
   ],
   "source": [
    "cost_of_capital"
   ]
  },
  {
   "cell_type": "markdown",
   "metadata": {},
   "source": [
    "### Conditionals\n",
    "\n",
    "Conditionals specify that a certain bit of code should run *conditional* on a statement being true or false.\n",
    "\n",
    "Like user-written functions, the block of code that runs conditionally is indented.\n",
    "\n",
    "In the example below, we define information about a firm's current assets and current liabilities.  Then we calculate the current ratio to see if the firm has enough current assets to cover its current liabilities.  The code incorporates a rule of thumb and tells the user that a current ratio above $1.5$ is okay, a current ratio below $1.5$ but above $1$ is risky, and a current ratio below $1$ is dangerous."
   ]
  },
  {
   "cell_type": "code",
   "execution_count": 19,
   "metadata": {},
   "outputs": [
    {
     "name": "stdout",
     "output_type": "stream",
     "text": [
      "1.6666666666666667\n",
      "Firm is okay!\n"
     ]
    }
   ],
   "source": [
    "current_assets = 100\n",
    "current_liabilities = 60\n",
    "current_ratio = current_assets / current_liabilities\n",
    "\n",
    "print(current_ratio)\n",
    "if current_ratio > 1.5:\n",
    "    print('Firm is okay!')\n",
    "elif current_ratio <= 1.5 and current_ratio > 1:\n",
    "    print('Firm looks risky')\n",
    "else:\n",
    "    print('Danger!  Firm needs some cash')"
   ]
  },
  {
   "cell_type": "markdown",
   "metadata": {},
   "source": [
    "In the above example, several calls were made to the `print()` function.  The function `print()` is a built-in function that tells Python to print out the input to the user."
   ]
  }
 ],
 "metadata": {
  "kernelspec": {
   "display_name": "Python 3",
   "language": "python",
   "name": "python3"
  },
  "language_info": {
   "codemirror_mode": {
    "name": "ipython",
    "version": 3
   },
   "file_extension": ".py",
   "mimetype": "text/x-python",
   "name": "python",
   "nbconvert_exporter": "python",
   "pygments_lexer": "ipython3",
   "version": "3.8.3"
  }
 },
 "nbformat": 4,
 "nbformat_minor": 4
}
