{
 "cells": [
  {
   "cell_type": "markdown",
   "metadata": {},
   "source": [
    "# Python Preliminaries\n",
    "\n",
    "## Basic Ingredients\n",
    "\n",
    "Python is one of the most popular, general-purpose programming languages in the world.\n",
    "\n",
    "It is powerful, flexible, and *easy to learn*.\n",
    "\n",
    "### Variables and Data\n",
    "\n",
    "Variables store information.  Below, variable `a` is defined to store the number 5.  Next, variable `b` is defined to store 5 (the value of `a`) plus 2, which is 7."
   ]
  },
  {
   "cell_type": "code",
   "execution_count": 1,
   "metadata": {},
   "outputs": [
    {
     "name": "stdout",
     "output_type": "stream",
     "text": [
      "7\n"
     ]
    }
   ],
   "source": [
    "a = 5\n",
    "b = a + 2\n",
    "print(b)"
   ]
  },
  {
   "cell_type": "markdown",
   "metadata": {},
   "source": [
    "Variable names must start with a letter, and can contain letters, numbers, and underscores.  In general, variables should be named in a descriptive manner.  That is, if you have a variable that contains a firm's cost of capital as its information, it is better to name this something like `cost_of_capital` or `costOfCapital` rather than a non-descriptive name like `a` or `b`.\n",
    "\n",
    "Note that you can use `#` to add comments to your code.\n",
    "\n",
    "Python will ignore everything on a line following a `#` symbol."
   ]
  },
  {
   "cell_type": "code",
   "execution_count": 2,
   "metadata": {},
   "outputs": [
    {
     "name": "stdout",
     "output_type": "stream",
     "text": [
      "14\n"
     ]
    }
   ],
   "source": [
    "c = b + 7 # + 10\n",
    "print(c)"
   ]
  },
  {
   "cell_type": "markdown",
   "metadata": {},
   "source": [
    "There are a handful of basic variable types.\n",
    "\n",
    "Note that the character `#` begins a **comment**.  Python ignores the `#` character and everything that follows it.  Use this to take notes about what's happening in the code."
   ]
  },
  {
   "cell_type": "code",
   "execution_count": 3,
   "metadata": {},
   "outputs": [],
   "source": [
    "a = 5        # a is an integer (there is no decimal point)\n",
    "b = 1.5      # floating point number (in general, don't worry about integer vs. floating point)\n",
    "c = False    # c is a Boolean\n",
    "d = 'banana' # d is a string"
   ]
  },
  {
   "cell_type": "markdown",
   "metadata": {},
   "source": [
    "Programming is useful because variables can store *lots* of information (more than just a single number or word!)."
   ]
  },
  {
   "cell_type": "code",
   "execution_count": 4,
   "metadata": {},
   "outputs": [],
   "source": [
    "e = [1,2,3]  # e is a list\n",
    "f = {'word 1':'definition 1', 'word 2':'definition 2'} # f is a dictionary"
   ]
  },
  {
   "cell_type": "markdown",
   "metadata": {},
   "source": [
    "Above, variable `e` stores information about multiple numbers.  Lists can store lots of things, not just numbers.  For example, the list `fang = ['FB', 'AMZN', 'NFLX', 'GOOG']` stores a list of string variables, where each string corresponds to one of the ticker symbols for the FANG stocks.\n",
    "\n",
    "Above, variable `f` stores information about words and their meanings.  Like lists, dictionaries can store lots of things.  For example `FB = {'3/23/20':148.10, '3/24/20':160.98, '3/25/20':156.21, '3/26/20':163.34, '3/27/20':156.79}` records daily stock price information for Facebook, Inc. for the week of March 23, 2020.  Dictionary variables hold *keys* (e.g. a word to look up) and *values* (e.g. the definition of the word).  Here, the key is a string that records the date, and the value is a floating point number that corresponds to the stock price.\n",
    "\n",
    "We'll return to lists and dictionaries later, including a discussion of how to modify/update data inside the list/dictionary, as well as instructions for accessing single items within a list/dictionary.  For now, we'll work with variables that hold single pieces of information for the sake of simplicity.  But note that variables can store lots of data simultaneously, and that's what makes programming truly useful for financial practioners.\n",
    "\n",
    "Amongst the above variable types, integer and floating point numbers are a nice place to start because there are a number of straight forward operations that can be applied to these variables.  For instance, as shown above, we can add numbers together with `+`.  Subtraction, multiplication, and division work in similar ways:\n",
    "\n",
    "Operation | Operator | Example | Result\n",
    "- | - | - | -\n",
    "Addition | `+` | `2+3` | `5`\n",
    "Subtraction | `-` | `5-3` | `2`\n",
    "Multiplication | `*` | `2*3` | `6`\n",
    "Division | `/` | `6/3` | `2`\n",
    "\n",
    "Beyond these four basic arithmatic operations, there are two extra operations to know:\n",
    "\n",
    "Operation | Operator | Example | Result\n",
    "- | - | - | -\n",
    "Exponentiation | `**` | `3**3` | `9`\n",
    "Modulus | `%` | `4%3` | `1`\n",
    "\n",
    "The former, exponentiation, is key to many financial applications (e.g. time value of money).  Do not mistake `**` and `^`!  While `^` may look more familiar as an exponentiation symbol, it has an entirely different meaning in Python.\n",
    "\n",
    "These arithmatic operators perform basic tasks with stored data.  For instance, if we have variables corresponding to debt and equity, we can calculate leverage."
   ]
  },
  {
   "cell_type": "code",
   "execution_count": 5,
   "metadata": {},
   "outputs": [
    {
     "name": "stdout",
     "output_type": "stream",
     "text": [
      "0.2\n"
     ]
    }
   ],
   "source": [
    "debt = 20\n",
    "equity = 80\n",
    "\n",
    "leverage = (debt) / (debt+equity)\n",
    "print(leverage)"
   ]
  },
  {
   "cell_type": "markdown",
   "metadata": {},
   "source": [
    "Similarly, if we needed to know the holding period return of an investment of $\\$500$ that earns $2\\%$ per year for $3$ years, we could use these Python operators to find that out."
   ]
  },
  {
   "cell_type": "code",
   "execution_count": 6,
   "metadata": {},
   "outputs": [
    {
     "data": {
      "text/plain": [
       "0.06120800000000015"
      ]
     },
     "execution_count": 6,
     "metadata": {},
     "output_type": "execute_result"
    }
   ],
   "source": [
    "500 * (1+.02)**3  / 500 - 1"
   ]
  },
  {
   "cell_type": "markdown",
   "metadata": {},
   "source": [
    "### Tests of (In)Equality\n",
    "\n",
    "We can compare the relative value of two number variables.  For example, define two variables, `debt_longterm` and `debt_shortterm`, that store information about a company's long term and short term debt, respectively."
   ]
  },
  {
   "cell_type": "code",
   "execution_count": 7,
   "metadata": {},
   "outputs": [],
   "source": [
    "debt_longterm = 1000\n",
    "debt_shortterm = 2000"
   ]
  },
  {
   "cell_type": "markdown",
   "metadata": {},
   "source": [
    "We can check for whether long term debt exceeds short term debt with the `>` character.  This test returns a *boolean* value (True or False)."
   ]
  },
  {
   "cell_type": "code",
   "execution_count": 8,
   "metadata": {},
   "outputs": [
    {
     "data": {
      "text/plain": [
       "False"
      ]
     },
     "execution_count": 8,
     "metadata": {},
     "output_type": "execute_result"
    }
   ],
   "source": [
    "debt_longterm > debt_shortterm"
   ]
  },
  {
   "cell_type": "markdown",
   "metadata": {},
   "source": [
    "As you might expect, we can also use `<` and `=` characters for other tests.  For instance:"
   ]
  },
  {
   "cell_type": "code",
   "execution_count": 9,
   "metadata": {},
   "outputs": [
    {
     "data": {
      "text/plain": [
       "True"
      ]
     },
     "execution_count": 9,
     "metadata": {},
     "output_type": "execute_result"
    }
   ],
   "source": [
    "debt_longterm <= debt_shortterm"
   ]
  },
  {
   "cell_type": "markdown",
   "metadata": {},
   "source": [
    "We have to be careful with tests of equality, however.  Remember, we used `=` to tell Python what information a variable should store.  For example, `x=7` tells Python that the variable `x` should store the number seven.  Thus, if we want to test for whether the information stored in `x` equals seven, we type\n",
    "```Python3\n",
    "x == 7\n",
    "```\n",
    "with a double `==` to denote that we're testing for equality.\n",
    "\n",
    "Related to the `<`, `>`, and `=` characters is the word `in`.  In Python, the word `in` has a special meaning, so you can't define a variable with the name `in`.  The word `in` is used to check for whether a value appears in a list.  Use of the word `in`, like the `>` or other tests of (in)equality, results in Python returning a Boolean value.\n",
    "\n",
    "As an example, define `tic` to be one stock ticker of interest and `tickers` to be a list of stock tickers."
   ]
  },
  {
   "cell_type": "code",
   "execution_count": 10,
   "metadata": {},
   "outputs": [],
   "source": [
    "tic = 'AAPL'\n",
    "tickers = ['AAPL','MSFT','AMD','NVDA','INTC']"
   ]
  },
  {
   "cell_type": "markdown",
   "metadata": {},
   "source": [
    "We can check for whether the value stored in `tic` appears in the list of items held in `tickers` by using the word `in`."
   ]
  },
  {
   "cell_type": "code",
   "execution_count": 11,
   "metadata": {},
   "outputs": [
    {
     "data": {
      "text/plain": [
       "True"
      ]
     },
     "execution_count": 11,
     "metadata": {},
     "output_type": "execute_result"
    }
   ],
   "source": [
    "tic in tickers"
   ]
  },
  {
   "cell_type": "markdown",
   "metadata": {},
   "source": [
    "Now that we can test for equality, we can use this information to test an important point: strings and numbers (either integers or floating points) are different.  That is, if we type"
   ]
  },
  {
   "cell_type": "code",
   "execution_count": 12,
   "metadata": {},
   "outputs": [
    {
     "data": {
      "text/plain": [
       "True"
      ]
     },
     "execution_count": 12,
     "metadata": {},
     "output_type": "execute_result"
    }
   ],
   "source": [
    "2 == 1+1"
   ]
  },
  {
   "cell_type": "markdown",
   "metadata": {},
   "source": [
    "we get the value `True`, whereas if we type"
   ]
  },
  {
   "cell_type": "code",
   "execution_count": 13,
   "metadata": {},
   "outputs": [
    {
     "data": {
      "text/plain": [
       "False"
      ]
     },
     "execution_count": 13,
     "metadata": {},
     "output_type": "execute_result"
    }
   ],
   "source": [
    "2 == '2'"
   ]
  },
  {
   "cell_type": "markdown",
   "metadata": {},
   "source": [
    "we get the value `False`.\n",
    "\n",
    "### Functions\n",
    "\n",
    "Variables are one of the two fundamental components of any programming language.  Now that we know what variables are (they things that store data) and how to work with them, we can introduce the the other fundamental component of programming: functions.\n",
    "\n",
    "Functions give us the ability to write some code that we reference over and over again without having to retype things.  Ultimately, programming is about making your life easier!  We work hard (say, for one semester of our lives) learning how to give a computer instructions (using Python) and then, for the rest of our lives, everything else is easier and more convenient because we can instruct a computer to do lots of the heavy lifting for us.  <u>In financial terms, we spend a little time now for a bunch of time saved later, and thus the net present value of learning to program is positive.</u>\n",
    "\n",
    "Functions have three parts:\n",
    "1. Function defintion (name the function and determine what *inputs* we need, if any)\n",
    "2. Operations (execute some code)\n",
    "3. Return statement (define what want we want to get back from the function)\n",
    "\n",
    "As an example, let's compute the weighted average cost of capital, defined as\n",
    "$$\n",
    "r_{\\text{WACC}} = \\frac{E}{V}\\times r_E + \\frac{D}{V}\\times r_D\\times (1-\\tau_C).\n",
    "$$\n",
    "That is, the weighted average cost of capital for a firm is the proportion of equity in the firm times the equity cost of capital plus the proportion of debt in the firm times the debt cost of capital.  We adjust the latter for the tax shield of debt using the corporate tax rate $\\tau_C$.\n",
    "\n",
    "**Part 1: definition**\n",
    "\n",
    "A function defintion begins with the keyword `def` followed by the function name and then a colon.\n",
    "\n",
    "Functions can use information passed to it via input arguments (inputs are named in the parentheses, which appear before the colon).\n",
    "\n",
    "```python3\n",
    "def wacc(E, D, rE, rD, tC):\n",
    "```\n",
    "\n",
    "Note that in this function definition, we expect `E` and `D` as inputs.  We do not require `V` to be an input to the function, since `V` is easily calculated as `V = E + D`.  This calculation is included in part 2.\n",
    "\n",
    "**Part 2: operations**\n",
    "\n",
    "Functions run the code written inside of the function (operations) when the function is *called*.  A function call occurs when a programmer ''uses'' the function, and we'll see an example of this shortly.\n",
    "\n",
    "<u>NOTE</u>: indentation keeps track of whether code is ''inside'' a function\n",
    "\n",
    "```python3\n",
    "def wacc(E, D, rE, rD, tC):\n",
    "    V = E + D\n",
    "    cost_of_capital = E / V * rE + D / V * rD * (1 - tC)\n",
    "```\n",
    "\n",
    "**Part 3: return value**\n",
    "\n",
    "Functions can be many, many lines of code.\n",
    "\n",
    "The last line, starting with the keyword `return` specifies what value comes back when you run the function.\n",
    "\n",
    "```python3\n",
    "def wacc(E, D, rE, rD, tC):\n",
    "    V = E + D\n",
    "    cost_of_capital = E / V * rE + D / V * rD * (1 - tC)\n",
    "    return cost_of_capital\n",
    "```\n",
    "\n",
    "When a function is created, Python becomes ''aware'' of the function, but nothing else happens at that time."
   ]
  },
  {
   "cell_type": "code",
   "execution_count": 14,
   "metadata": {},
   "outputs": [],
   "source": [
    "def wacc(E, D, rE, rD, tC):\n",
    "    V = E + D\n",
    "    cost_of_capital = E / V * rE + D / V * rD * (1-tC)\n",
    "    return cost_of_capital"
   ]
  },
  {
   "cell_type": "markdown",
   "metadata": {},
   "source": [
    "For functions to be used, they need to be *called*.  For example:"
   ]
  },
  {
   "cell_type": "code",
   "execution_count": 15,
   "metadata": {},
   "outputs": [
    {
     "data": {
      "text/plain": [
       "0.06753846153846155"
      ]
     },
     "execution_count": 15,
     "metadata": {},
     "output_type": "execute_result"
    }
   ],
   "source": [
    "wacc(100,30,.08,.04,.35)"
   ]
  },
  {
   "cell_type": "markdown",
   "metadata": {},
   "source": [
    "tells Python to compute the weighted average cost of capital for a firm with an equity value of $100$, a debt value of $30$, an equity cost of capital of $8\\%$, a debt cost of capital of $4\\%$, and a tax rate of $35\\%$.  The returned value of `0.0675` tells us that the firm's WACC is $6.75\\%$.\n",
    "\n",
    "In the above example, Python *assumes* the first number ($100$) should be given to the input variable `E`, it *assumes* that the second number ($30$) should be given to the input variable `D`, etc.  This is bad practice!  It's much better to use the input variable names:"
   ]
  },
  {
   "cell_type": "code",
   "execution_count": 16,
   "metadata": {},
   "outputs": [
    {
     "data": {
      "text/plain": [
       "0.06753846153846155"
      ]
     },
     "execution_count": 16,
     "metadata": {},
     "output_type": "execute_result"
    }
   ],
   "source": [
    "wacc(E=100,D=30,rE=.08,rD=.04,tC=.35)"
   ]
  },
  {
   "cell_type": "markdown",
   "metadata": {},
   "source": [
    "because then the ordering of how you enter the inputs doesn't matter."
   ]
  },
  {
   "cell_type": "code",
   "execution_count": 17,
   "metadata": {},
   "outputs": [
    {
     "data": {
      "text/plain": [
       "0.06753846153846155"
      ]
     },
     "execution_count": 17,
     "metadata": {},
     "output_type": "execute_result"
    }
   ],
   "source": [
    "wacc(rE=.08,rD=.04,tC=.35,E=100,D=30)"
   ]
  },
  {
   "cell_type": "markdown",
   "metadata": {},
   "source": [
    "This is useful to keep in mind because, realistically, you won't remember the default ordering of inputs (the order of input variables in the `def` line of the function definition).\n",
    "\n",
    "The `return` line is important because variables that live inside a function are stuck inside that function.\n",
    "\n",
    "E.g. the below will throw an error because `cost_of_capital` is only *accessible* inside the function `wacc`."
   ]
  },
  {
   "cell_type": "code",
   "execution_count": 18,
   "metadata": {},
   "outputs": [
    {
     "ename": "NameError",
     "evalue": "name 'cost_of_capital' is not defined",
     "output_type": "error",
     "traceback": [
      "\u001b[0;31m---------------------------------------------------------------------------\u001b[0m",
      "\u001b[0;31mNameError\u001b[0m                                 Traceback (most recent call last)",
      "\u001b[0;32m<ipython-input-18-967605eceae6>\u001b[0m in \u001b[0;36m<module>\u001b[0;34m\u001b[0m\n\u001b[0;32m----> 1\u001b[0;31m \u001b[0mcost_of_capital\u001b[0m\u001b[0;34m\u001b[0m\u001b[0;34m\u001b[0m\u001b[0m\n\u001b[0m",
      "\u001b[0;31mNameError\u001b[0m: name 'cost_of_capital' is not defined"
     ]
    }
   ],
   "source": [
    "cost_of_capital"
   ]
  },
  {
   "cell_type": "markdown",
   "metadata": {},
   "source": [
    "### Conditionals\n",
    "\n",
    "Conditionals specify that a certain bit of code should run *conditional* on a statement being true or false.\n",
    "\n",
    "Like user-written functions, the block of code that runs conditionally is indented.\n",
    "\n",
    "In the example below, we define information about a firm's current assets and current liabilities.  Then we calculate the current ratio to see if the firm has enough current assets to cover its current liabilities.  The code incorporates a rule of thumb and tells the user that a current ratio above $1.5$ is okay, a current ratio below $1.5$ but above $1$ is risky, and a current ratio below $1$ is dangerous."
   ]
  },
  {
   "cell_type": "code",
   "execution_count": 19,
   "metadata": {},
   "outputs": [
    {
     "name": "stdout",
     "output_type": "stream",
     "text": [
      "1.6666666666666667\n",
      "Firm is okay!\n"
     ]
    }
   ],
   "source": [
    "current_assets = 100\n",
    "current_liabilities = 60\n",
    "current_ratio = current_assets / current_liabilities\n",
    "\n",
    "print(current_ratio)\n",
    "if current_ratio > 1.5:\n",
    "    print('Firm is okay!')\n",
    "elif current_ratio <= 1.5 and current_ratio > 1:\n",
    "    print('Firm looks risky')\n",
    "else:\n",
    "    print('Danger!  Firm needs some cash')"
   ]
  },
  {
   "cell_type": "markdown",
   "metadata": {},
   "source": [
    "In the above example, several calls were made to the `print()` function.  The function `print()` is a built-in function that tells Python to print out the input to the user."
   ]
  },
  {
   "cell_type": "markdown",
   "metadata": {},
   "source": [
    "## Loops and Lists\n",
    "\n",
    "### `for` Loops and Lifetime Savings\n",
    "\n",
    "Because Python is quick and easy (once you have a handle of it), it serves as a useful tool for playing out ideas.  For example, suppose that we want to visualize a savings decision:\n",
    "\n",
    "> Once you begin contributing to a savings account, assume that you put away $x$ dollars per year and expect an annual return of $r$.  How much money will you have saved in $55$ years?\n",
    "\n",
    "Begin by defining the *variables* you need"
   ]
  },
  {
   "cell_type": "code",
   "execution_count": 1,
   "metadata": {},
   "outputs": [],
   "source": [
    "x = 5000\n",
    "r = 0.06"
   ]
  },
  {
   "cell_type": "markdown",
   "metadata": {},
   "source": [
    "Now, *compound* the returns you get over the next $55$ years.  Imagine that today is year 0.  At the end of year 0, you'll have saved $x \\times (1+r)$.  Then, after another, you're year zero savings grow by another $(1+r)$, and your year one savings (since you put away $x$ more each year), also grows by $(1+r)$.  The following table helps visualize the idea:\n",
    "\n",
    "Time | Value of Money Saved at Year 0 | Value of Money Saved at Year 1 | Value of Money Saved at Year 2 | Value of Money Saved at Year 3\n",
    "- | - | - | - | -\n",
    "0 | $x$ | . | . | .\n",
    "1 | $x(1+r)$ | $x$ | . | .\n",
    "2 | $x(1+r)^2$ | $x(1+r)$ | $x$ | .\n",
    "3 | $x(1+r)^3$ | $x(1+r)^2$ | $x(1+r)$ | $x$\n",
    "\n",
    "Add up the values across each column to get the total savings at the *beginning* of a given year.  This sum is reported in the following table:\n",
    "\n",
    "Time | Total Savings (beginning of year) | Total Savings (algebraically re-arranged)\n",
    "- | - | -\n",
    "0 | $x$ | $x$\n",
    "1 | <span style=\"color:blue\">$x(1+r)+x$</span> | $x(1+r)+x$\n",
    "2 | <span style=\"color:red\">$x(1+r)^2+x(1+r)+x$</span> | $\\Big[$<span style=\"color:blue\">$x(1+r)+x$</span>$\\Big](1+r)+x$\n",
    "3 | $x(1+r)^3+x(1+r)^2+x(1+r)+x$ | $\\Big[$<span style=\"color:red\">$x(1+r)^2+x(1+r)+x$</span>$\\Big](1+r)+x$\n",
    "\n",
    "Comparing values across columns two and three of the above table, a convenient pattern emerges.  For instance, the value in year 2, column three equals $x$ plus $(1+r)$ times the value in year 1, column two.\n",
    "\n",
    "If we want to calculate the value of your savings acount at the beginning of year $55$, we need to tell Python to compound returns for $55$ years.  The really awful way to do this is to tell Python to calculate $x(1+r)^{55}+x(1+r)^{54}+x(1+r)^{53}+...+x(1+r)^2+x(1+r)+x$.  The programmer's way to do this is to use the pattern we pointed out in the above table, and make use of a *for loop* that operates over a range of years.\n",
    "\n",
    "If we wanted to loop over years $0$ through $3$, we could tell Python to use a `for` loop to iterate over a list of the numbers $0$ through $3$.  A `for` loop has four components to it:\n",
    "- the word `for` : tells Python to execute a `for` loop\n",
    "- a variable name : this serves as a *loop index*.  You'll see in a moment what this index does.  A common name used here is the letter `i`\n",
    "- the word `in` : tells Python that the loop index will be contained within ''something''.\n",
    "- a list : this is the ''something'' that we loop over.  Every item in the list gets used once."
   ]
  },
  {
   "cell_type": "code",
   "execution_count": 2,
   "metadata": {},
   "outputs": [
    {
     "name": "stdout",
     "output_type": "stream",
     "text": [
      "0\n",
      "1\n",
      "2\n",
      "3\n"
     ]
    }
   ],
   "source": [
    "for i in [0, 1, 2, 3]:\n",
    "    print(i)"
   ]
  },
  {
   "cell_type": "markdown",
   "metadata": {},
   "source": [
    "What a `for` loop does is tells Python to loop over the list specified (in this case, the list of numbers $0$ through $4$).  For each item in that list, Python sets the loop index variable (in this case, we defined the index variable to be named `i`) equal to that value of the list and then executes every step within the for loop (all of the indented lines of code underneath the line `for`.  Here, our for loop only specifies one action: print out the value of the loop index.\n",
    "\n",
    "In our motivating example, we want Python to work over a long range of years.  In this case, years $0$ through $55$.\n",
    "This would be tedious to type out explicitly into `[0, 1, 2, ..., 54, 55]`.  Python has a trick for this, but there's one caveat to keep in mind.  As children, we learn to start counting with the number $1$.  Python, like most programming languages, starts counting with the number $0$.  Thus, the built-in function `range()` uses this starts-at-zero convention."
   ]
  },
  {
   "cell_type": "code",
   "execution_count": 3,
   "metadata": {},
   "outputs": [
    {
     "name": "stdout",
     "output_type": "stream",
     "text": [
      "0\n",
      "1\n",
      "2\n",
      "3\n",
      "4\n"
     ]
    }
   ],
   "source": [
    "for t in range(5):\n",
    "    print(t)"
   ]
  },
  {
   "cell_type": "markdown",
   "metadata": {},
   "source": [
    "As demonstrated above, `range(5)` tells Python that the loop should iterate over numbers $0$ through $4$.  Generally, we use `range(n)` to obtain numbers $0$ through $n-1$ (*not* $0$ through $n$).  Thus, we get $n$ numbers out of `range(n)`.  If we want to iterate up through year $55$, we would therefore use the statement `range(56)`.\n",
    "\n",
    "To calculate the value of your savings after $55$ years, we simply have to type out:"
   ]
  },
  {
   "cell_type": "code",
   "execution_count": 4,
   "metadata": {},
   "outputs": [
    {
     "name": "stdout",
     "output_type": "stream",
     "text": [
      "2094111.7408149564\n"
     ]
    }
   ],
   "source": [
    "savings = 0 # initially, 0 dollars in savings account\n",
    "for i in range(56):\n",
    "    savings = savings*(1+r) + x # each year, pre-existings savings grows by (1+r) and an additional x is added\n",
    "print(savings)"
   ]
  },
  {
   "cell_type": "markdown",
   "metadata": {},
   "source": [
    "### Lists\n",
    "\n",
    "A Python `list` holds a list of items in an ordered way.  For example, a list of favorite things might include\n",
    "```python3\n",
    "favorite_things1 = ['raindrops on roses', 'whiskers on kittens', 'bright copper kettles', 'warm woolen mittens']\n",
    "```\n",
    "for Julie Andrews, or\n",
    "```python3\n",
    "favorite_things2 = [\"breakfast at Tiffany's\", 'bottles of bubbles', 'girls with tattoos who like getting in trouble']\n",
    "```\n",
    "for Ariana Grande.\n",
    "\n",
    "When we say lists are ordered, it's because we can enter `favorite_things1[0]` and get back `'raindrops on roses'` as Julie Andrew's first favorite thing.  Likewise `favorite_things2[1]` tells us that `'bottles of bubbles'` is Ariana Grande's second favorite thing.  Remember, Python starts counting at zero!"
   ]
  },
  {
   "cell_type": "markdown",
   "metadata": {},
   "source": [
    "Lists can hold whatever you want.  It could be strings (as shown above), numbers, or even other variables.  Consider a list of daily stock returns\n",
    "```python3\n",
    "daily_stock_returns = [0.03, 0.01, -0.02, 0.01, -0.01]\n",
    "```\n",
    "Let's input this into the following code block for use throughout this section."
   ]
  },
  {
   "cell_type": "code",
   "execution_count": 5,
   "metadata": {},
   "outputs": [],
   "source": [
    "daily_stock_returns = [0.03, 0.01, -0.02, 0.01, -0.01]"
   ]
  },
  {
   "cell_type": "markdown",
   "metadata": {},
   "source": [
    "If we want the stock return for day 0, we simply type"
   ]
  },
  {
   "cell_type": "code",
   "execution_count": 6,
   "metadata": {},
   "outputs": [
    {
     "data": {
      "text/plain": [
       "0.03"
      ]
     },
     "execution_count": 6,
     "metadata": {},
     "output_type": "execute_result"
    }
   ],
   "source": [
    "daily_stock_returns[0]"
   ]
  },
  {
   "cell_type": "markdown",
   "metadata": {},
   "source": [
    "and Python gives us back the value.  Now suppose that the five daily stock returns corresponded to a week of stock return data.  How do we convert this data into a weekly return?\n",
    "$$\n",
    "\\text{weekly return} = (-1) + \\Pi_{t=1}^5 (1 + \\text{daily return}_t)\n",
    "$$\n",
    "\n",
    "In case the $\\Pi$ symbol is unfamiliar, it means multiply.  Just like $\\sum_{i=1}^3 x_i$ means $x_1 + x_2 + x_3$, the statement $\\Pi_{i=1}^3 x_i$ means $x_1 * x_2 * x_3$.\n",
    "\n",
    "The simple way to do this is"
   ]
  },
  {
   "cell_type": "code",
   "execution_count": 7,
   "metadata": {},
   "outputs": [
    {
     "data": {
      "text/plain": [
       "0.019392050600000044"
      ]
     },
     "execution_count": 7,
     "metadata": {},
     "output_type": "execute_result"
    }
   ],
   "source": [
    "(-1) + (1+daily_stock_returns[0]) * (1+daily_stock_returns[1]) * (1+daily_stock_returns[2]) * (1+daily_stock_returns[3]) * (1+daily_stock_returns[4])"
   ]
  },
  {
   "cell_type": "markdown",
   "metadata": {},
   "source": [
    "That looks annoying to type out, doesn't it?  Now imagine calculating an annual return from 252 days of daily trading data.  This would be prohbitively tedious.\n",
    "\n",
    "Luckily, we're learning how to program, which means we can take advantage of useful things like `for` loops to make our lives easier."
   ]
  },
  {
   "cell_type": "code",
   "execution_count": 8,
   "metadata": {},
   "outputs": [
    {
     "name": "stdout",
     "output_type": "stream",
     "text": [
      "0.019392050600000044\n"
     ]
    }
   ],
   "source": [
    "weekly_return = 1\n",
    "for i in range(0,5):\n",
    "    weekly_return = weekly_return*(1+daily_stock_returns[i])\n",
    "weekly_return -= 1\n",
    "print(weekly_return)"
   ]
  },
  {
   "cell_type": "markdown",
   "metadata": {},
   "source": [
    "Stop to think for a moment about why we set `weekly_return` equal to $1$ before beginning the `for` loop.\n",
    "\n",
    "Most, if not all, variable types in Python have special functions that exist for those variable types.  For example, string variables contain text, and so these variables have `.upper()` and `.lower()` functions that can be used with them."
   ]
  },
  {
   "cell_type": "code",
   "execution_count": 9,
   "metadata": {},
   "outputs": [
    {
     "name": "stdout",
     "output_type": "stream",
     "text": [
      "FINANCE DATA SCIENCE\n"
     ]
    }
   ],
   "source": [
    "my_str = 'Finance Data Science'\n",
    "print(my_str.upper())"
   ]
  },
  {
   "cell_type": "code",
   "execution_count": 10,
   "metadata": {},
   "outputs": [
    {
     "name": "stdout",
     "output_type": "stream",
     "text": [
      "finance data science\n"
     ]
    }
   ],
   "source": [
    "print(my_str.lower())"
   ]
  },
  {
   "cell_type": "markdown",
   "metadata": {},
   "source": [
    "For list variables, two important functions are `.append()` and `.pop()`.  These functions add and remove data from the list, respectively."
   ]
  },
  {
   "cell_type": "code",
   "execution_count": 11,
   "metadata": {},
   "outputs": [
    {
     "name": "stdout",
     "output_type": "stream",
     "text": [
      "[1, 2, 3, 4]\n"
     ]
    }
   ],
   "source": [
    "my_list = [1, 2, 3]\n",
    "my_list.append(4)\n",
    "print(my_list)"
   ]
  },
  {
   "cell_type": "markdown",
   "metadata": {},
   "source": [
    "The `.append()` function takes as an argument the data that you want to append to a list, and then adds that data to the end of an existing list.  Note that, as with `.upper()` or `.lower()` for strings, here the function starts with a `.` and follows the variable name.  This is different than using a function like `print()` or, from earlier in this chapter, `wacc()`.  The difference exists because `.append()` is a function defined specifically for list variable types."
   ]
  },
  {
   "cell_type": "code",
   "execution_count": 12,
   "metadata": {},
   "outputs": [
    {
     "name": "stdout",
     "output_type": "stream",
     "text": [
      "[1, 2]\n"
     ]
    }
   ],
   "source": [
    "my_list = [1, 2, 3]\n",
    "my_list.pop()\n",
    "print(my_list)"
   ]
  },
  {
   "cell_type": "markdown",
   "metadata": {},
   "source": [
    "Because `.pop()` removes data from a list, you don't necessarily need to say *what* data gets deleted.  By default, if you do not supply an argument to `.pop()` Python will delete the last item from the list.  To specify an element to delete, select it based on that elements position in the list."
   ]
  },
  {
   "cell_type": "code",
   "execution_count": 13,
   "metadata": {},
   "outputs": [
    {
     "name": "stdout",
     "output_type": "stream",
     "text": [
      "[2, 3]\n"
     ]
    }
   ],
   "source": [
    "my_list = [1, 2, 3]\n",
    "my_list.pop(0)\n",
    "print(my_list)"
   ]
  },
  {
   "cell_type": "markdown",
   "metadata": {},
   "source": [
    "In Python, `for` loops operate on lists of information.  For example, the command `for i in range(5)` tells Python to operate on the list of numbers from $0$ to $4$.  Likewise, `for i in ['cat', 'dog', 'bird']` tells Python to operate on the list of strings 'cat', 'dog', and 'bird'.  Notice, therfore, that the list of items we loop over does not have to use numbers!  For each element in the given list, Python applies certain commands to that item.  These commands are the lines of code that appear within a `for` loop (the indented section of code that follows the `for` statement.\n",
    "\n",
    "When the `for` loop operation is only a single line long, there is a special shortcut that we can use.  This shortcut is called **list comprehension**.  Consider the task of subtracting the risk free rate from the list of daily returns in order to compute an excess return.  For simplicity, assume the risk free rate is constant and equal to $0.01$.  One way of achieving this is with the following `for` loop."
   ]
  },
  {
   "cell_type": "code",
   "execution_count": 14,
   "metadata": {},
   "outputs": [
    {
     "name": "stdout",
     "output_type": "stream",
     "text": [
      "[0.019999999999999997, 0.0, -0.03, 0.0, -0.02]\n"
     ]
    }
   ],
   "source": [
    "excess_returns = []\n",
    "for i in range(5):\n",
    "    excess_returns.append( daily_stock_returns[i] - 0.01 )\n",
    "print(excess_returns)"
   ]
  },
  {
   "cell_type": "markdown",
   "metadata": {},
   "source": [
    "Before showing off list comprehension, let's stop and think about one potential issue with the above code.  In the `for` loop above, we explicity refer to the number $5$ when defining the range of the loop.  That's a bad idea.  What if we add more stock return data to our list, and then re-run the above code?  In that scenario, the `for` loop won't execute as intended, since it will still only calculate excess returns for the first five days.\n",
    "\n",
    "A better way to loop over a list is to use the `len()` function ('len' stands for 'length', but Python is nice and only expects us to type out three characters instead of six).  The function `len()` can calculate the length of a list."
   ]
  },
  {
   "cell_type": "code",
   "execution_count": 15,
   "metadata": {},
   "outputs": [
    {
     "data": {
      "text/plain": [
       "5"
      ]
     },
     "execution_count": 15,
     "metadata": {},
     "output_type": "execute_result"
    }
   ],
   "source": [
    "len(daily_stock_returns)"
   ]
  },
  {
   "cell_type": "markdown",
   "metadata": {},
   "source": [
    "Hence, we improve uppon our `for` loop above by removing the explicit reference to the number $5$."
   ]
  },
  {
   "cell_type": "code",
   "execution_count": 16,
   "metadata": {},
   "outputs": [
    {
     "name": "stdout",
     "output_type": "stream",
     "text": [
      "[0.019999999999999997, 0.0, -0.03, 0.0, -0.02]\n"
     ]
    }
   ],
   "source": [
    "excess_returns = []\n",
    "for i in range( len(daily_stock_returns) ):\n",
    "    excess_returns.append( daily_stock_returns[i] - 0.01 )\n",
    "print(excess_returns)"
   ]
  },
  {
   "cell_type": "markdown",
   "metadata": {},
   "source": [
    "Now, the above code will work as expected, regardless of how many items are in the `daily_stock_returns` list.\n",
    "\n",
    "An alternative to using `len()` and referencing list elements by their index position (i.e. doing `daily_stock_returns[i]`) is to simply tell Python that we want to loop over `daily_stock_returns`.  Thus, rather than telling Python we want to loop over `range(5)` or over `range( len(daily_stock_returns) )`, we can simply tell Python to loop over `daily_stock_returns` directly."
   ]
  },
  {
   "cell_type": "code",
   "execution_count": 17,
   "metadata": {},
   "outputs": [
    {
     "name": "stdout",
     "output_type": "stream",
     "text": [
      "0.03\n",
      "0.01\n",
      "-0.02\n",
      "0.01\n",
      "-0.01\n"
     ]
    }
   ],
   "source": [
    "for i in daily_stock_returns:\n",
    "    print(i)"
   ]
  },
  {
   "cell_type": "markdown",
   "metadata": {},
   "source": [
    "Thus, an alternative improvement to the `for` loop is to do the following."
   ]
  },
  {
   "cell_type": "code",
   "execution_count": 18,
   "metadata": {},
   "outputs": [
    {
     "name": "stdout",
     "output_type": "stream",
     "text": [
      "[0.019999999999999997, 0.0, -0.03, 0.0, -0.02]\n"
     ]
    }
   ],
   "source": [
    "excess_returns = []\n",
    "for i in daily_stock_returns:\n",
    "    excess_returns.append( i - .01 )\n",
    "print(excess_returns)"
   ]
  },
  {
   "cell_type": "markdown",
   "metadata": {},
   "source": [
    "If you don't need to use the list index position inside the `for` loop (as is the case here), it's better to loop over the list directly, rather than a list of numbers coresponding to the index positions.  The reason is that this form of the `for` loop is the cleanest.  It requires the least amount of typing, and it is the easiest to read.\n",
    "\n",
    "Now that we've seen that we can loop over a list directly (rather than looping over index positions for the list), we can explain list comprehension.  List comprehension takes a simple `for` loop (with one line of code inside the loop) and converts the loop into a neater, shorter piece of code.  Consider the following example."
   ]
  },
  {
   "cell_type": "code",
   "execution_count": 19,
   "metadata": {},
   "outputs": [
    {
     "data": {
      "text/plain": [
       "[0.03, 0.01, -0.02, 0.01, -0.01]"
      ]
     },
     "execution_count": 19,
     "metadata": {},
     "output_type": "execute_result"
    }
   ],
   "source": [
    "[i for i in daily_stock_returns]"
   ]
  },
  {
   "cell_type": "markdown",
   "metadata": {},
   "source": [
    "The statment is wrapped up in square brackets, indicating a `list` variable.  Within these square brackets, we tell Python to add to this list the value `i`, where we define `i` as any element of `daily_stock_returns`.\n",
    "\n",
    "Rather than adding simply `i` to this new list, we could add some function of `i`.  For instance, we can substract the risk free rate."
   ]
  },
  {
   "cell_type": "code",
   "execution_count": 20,
   "metadata": {},
   "outputs": [
    {
     "data": {
      "text/plain": [
       "[0.019999999999999997, 0.0, -0.03, 0.0, -0.02]"
      ]
     },
     "execution_count": 20,
     "metadata": {},
     "output_type": "execute_result"
    }
   ],
   "source": [
    "[i - .01 for i in daily_stock_returns]"
   ]
  },
  {
   "cell_type": "markdown",
   "metadata": {},
   "source": [
    "Hence, the easiest way to compute excess returns is with the simple, one-line statement:"
   ]
  },
  {
   "cell_type": "code",
   "execution_count": 21,
   "metadata": {},
   "outputs": [
    {
     "name": "stdout",
     "output_type": "stream",
     "text": [
      "[0.019999999999999997, 0.0, -0.03, 0.0, -0.02]\n"
     ]
    }
   ],
   "source": [
    "excess_returns = [i - .01 for i in daily_stock_returns]\n",
    "print(excess_returns)"
   ]
  },
  {
   "cell_type": "markdown",
   "metadata": {},
   "source": [
    "Because list comprehension is just a shortcut to writting out a simple `for` loop, a person could use Python perfectly fine without knowing how to use list comprehension.  However, it's a popular shortcut, so we highlight it here because it will be used throught this text."
   ]
  },
  {
   "cell_type": "markdown",
   "metadata": {},
   "source": [
    "### `for` Loops and Delayed Savings\n",
    "\n",
    "Consider a slightly modified version of the lifetime savings problem provided above.\n",
    "\n",
    "> Once you begin contributing to a savings account, assume that you put away $x$ dollars per year and expect an annual return of $r$.  How valuable is it to start saving now as opposed to $10$ years from now?\n",
    "\n",
    "Again, begin by defining some values for $x$ and $r$."
   ]
  },
  {
   "cell_type": "code",
   "execution_count": 22,
   "metadata": {},
   "outputs": [],
   "source": [
    "x = 5000\n",
    "r = 0.06"
   ]
  },
  {
   "cell_type": "markdown",
   "metadata": {},
   "source": [
    "Next, define two list variables.  These will store the value of savings accounts over time.  In the previous example, we updated the value for the savings account each year.  Here, we record the value of the account at each point in time.  This is useful because we can then plot the data and explore this delayed savings problem more carefully."
   ]
  },
  {
   "cell_type": "code",
   "execution_count": 23,
   "metadata": {},
   "outputs": [],
   "source": [
    "save_now = [x]    # value of saving account when savings starts immediately\n",
    "save_later = [0]  # value of saving account when savings starts 10 years from now"
   ]
  },
  {
   "cell_type": "markdown",
   "metadata": {},
   "source": [
    "These list variables store one value each (the value $x$ and the value $0$), which corresponds to the value of the savings account at the beginning of year $0$.  Under the \"save-now\" plan, $x$ is put away immediately.  Under the \"save-later\" plan, $x$ is not put away until year 10.\n",
    "\n",
    "Now, what we want to do is think about what happens each year.  In the first scenario (begin saving immediately), the savings account grows by `(1+r)` each year, plus an additional `x` that gets added in.  In the second scenario, the savings account only begins growing after year 10, and contributions only begin in year 10.  Before that, nothing happens.\n",
    "\n",
    "Using `if`/`else` logic, a `for` loop, and the `.append()` function for lists, we can evaluate these two savings plans.\n",
    "\n",
    "We'll begin with the \"save-now\" savings plan, since this is similar to the problem from the beginning of the chapter.  A difference implemented here is that we call the `.append()` function to add values to the `save_now` list."
   ]
  },
  {
   "cell_type": "code",
   "execution_count": 24,
   "metadata": {},
   "outputs": [],
   "source": [
    "for i in range(1,56): # loop over i from 1 to 55\n",
    "    account_value_last_year = save_now[i-1] # e.g. for i = 1 (year 1), loop up account value at i = 0 (year 0)\n",
    "    account_value_next_year = account_value_last_year * (1+r) + x\n",
    "    save_now.append( account_value_next_year )"
   ]
  },
  {
   "cell_type": "markdown",
   "metadata": {},
   "source": [
    "At the beginning of the chapter, we defined a variable `savings`, and updated that variable's value each loop iteration.  Here, the list variable `save_now` keeps track of *each* of the savings account values (that is, the value of the account at year 0, at year 1, ..., at year 55).  This is useful for plotting a figure, which we'll do at the end of the chapter.\n",
    "\n",
    "Next, we modify the above `for` loop to work on the \"save-later\" plan.  The important distinction here is that, for the first ten years (list index values $0-9$, since Python starts counting at $0$), no money is put in to the savings account.  Thus, we set the first ten values of the `save_later` list equal to $0$."
   ]
  },
  {
   "cell_type": "code",
   "execution_count": 25,
   "metadata": {},
   "outputs": [],
   "source": [
    "for i in range(1,56):\n",
    "    if i > 9:\n",
    "        save_later.append( save_later[i-1]*(1+r) + x )\n",
    "    else:\n",
    "        save_later.append( 0 )"
   ]
  },
  {
   "cell_type": "markdown",
   "metadata": {},
   "source": [
    "Plotting will be covered in greater detail in a later chapter, so don't worry about understanding the meaning of the following code block.  The important takeaway is what's presented in the figure it creates."
   ]
  },
  {
   "cell_type": "code",
   "execution_count": 26,
   "metadata": {},
   "outputs": [
    {
     "data": {
      "image/png": "[encoded data removed]",
      "text/plain": [
       "<Figure size 432x288 with 1 Axes>"
      ]
     },
     "execution_count": 26,
     "metadata": {
      "image/png": {
       "height": 258,
       "width": 372
      },
      "needs_background": "light"
     },
     "output_type": "execute_result"
    }
   ],
   "source": [
    "%matplotlib inline\n",
    "\n",
    "import matplotlib\n",
    "import numpy as np\n",
    "import matplotlib.pyplot as plt\n",
    "\n",
    "plt.plot(range(0,56), save_now, color='b', label='Now')\n",
    "plt.plot(range(0,56), save_later, color='r', label='Later', linestyle='--')\n",
    "plt.legend()\n",
    "plt.show()"
   ]
  },
  {
   "cell_type": "markdown",
   "metadata": {},
   "source": [
    "## Dictionaries and DataFrames\n",
    "\n",
    "### Data, Three Ways\n",
    "\n",
    "In this book, data (i.e., a collection of information) is stored as one of three variable types.  These types are:\n",
    "* list\n",
    "* dict\n",
    "* DataFrame\n",
    "\n",
    "and we will discuss the relative advantages and disadvantages of each type here.\n",
    "\n",
    "Recall from our earlier example the list of daily stock returns, re-created below."
   ]
  },
  {
   "cell_type": "code",
   "execution_count": 1,
   "metadata": {},
   "outputs": [],
   "source": [
    "daily_stock_returns = [0.03, 0.01, -0.02, 0.01, -0.01]"
   ]
  },
  {
   "cell_type": "markdown",
   "metadata": {},
   "source": [
    "Lists are the easiest way to deal with data, but they're also the most limited.  For instance, what does `daily_stock_returns[2]` refer to?  We know that it has value $-0.02$, since that's the third element of the list.  But without any other reference point, the utility of this data is low.  We don't know, for instance, what date corresponds to list index value 2.  We also don't know which stock's returns are represented in this list.\n",
    "\n",
    "Thus, lists keep track of a very limited amount of information.  They are simple and convenient, and we'll use them as appropriate.  Lists are a fundamental tool, and we'll never do away with them entirely.  However, for certain applications, better tools exist.\n",
    "\n",
    "### Dictionaries\n",
    "\n",
    "Lists are quick and convenient.  No matter how advanced you get in programming, you will always make use of lists.  However, lists aren't the best tool for every job.\n",
    "\n",
    "For example, one limitation of lists is that we have to refer to items by their position in the list.  If we type `daily_stock_returns[0]`, we'd get the stock return for the first item in the list.  But what is `0`?  Besides a relative positioning, it doesn't tell us anything.  In some cases, it would be better if we could access other information, like the date of the stock return.\n",
    "\n",
    "In python, a `dictionary` is a tool for storing information in a *key-value* structure.  Have a look at the following dictionary, and we'll use it to clarify what is meant by \"key-value.\"\n",
    "\n",
    "```python3\n",
    "finance_dict = {'debt': 'something that is owed or that one is bound to pay to or perform for another',\n",
    "                'equity': 'the monetary value of a property or business beyond any amounts owed on it in mortgages, claims, liens, etc.'\n",
    "                'mortgage': 'a conveyance of an interest in property as security for the repayment of money borrowed'}\n",
    "```\n",
    "\n",
    "These words (definitions taken from dictionary.com), make up a small dictionary variable which we've named `finance_dict`.\n",
    "\n",
    "Each word in the dictionary (`debt`, `equity`, `mortgage`) constitutes a *key*.  We \"look up\" keys in dictionaries to find their *values*.  Thus, the key is a word and the value is the definition.  The command\n",
    "```python3\n",
    "finance_dict['debt']\n",
    "```\n",
    "would return the definition for debt.\n",
    "\n",
    "Returning to the daily stock returns example, suppose that we want to keep track of the day on which each return occurs.  This is accomplished with a dictionary below."
   ]
  },
  {
   "cell_type": "code",
   "execution_count": 2,
   "metadata": {},
   "outputs": [],
   "source": [
    "daily_dict = {'7/8/19':0.03,\n",
    "             '7/9/19':0.01,\n",
    "             '7/10/19':-0.02,\n",
    "             '7/11/19':0.01,\n",
    "             '7/12/19':-0.01}"
   ]
  },
  {
   "cell_type": "markdown",
   "metadata": {},
   "source": [
    "Now, given the variable `daily_dict`, we can quickly look up the stock return from $7/8/19$ by entering\n",
    "```python3\n",
    "daily_dict['7/8/19']\n",
    "```\n",
    "\n",
    "This adds a bit of utility to the data, because now it includes additional information.  The keys and the values of a dictionary can each be returned individually.  Suppose we wish to know what dates are included in this data:"
   ]
  },
  {
   "cell_type": "code",
   "execution_count": 3,
   "metadata": {},
   "outputs": [
    {
     "data": {
      "text/plain": [
       "dict_keys(['7/8/19', '7/9/19', '7/10/19', '7/11/19', '7/12/19'])"
      ]
     },
     "execution_count": 3,
     "metadata": {},
     "output_type": "execute_result"
    }
   ],
   "source": [
    "daily_dict.keys()"
   ]
  },
  {
   "cell_type": "markdown",
   "metadata": {},
   "source": [
    "or alternatively the returns:"
   ]
  },
  {
   "cell_type": "code",
   "execution_count": 4,
   "metadata": {},
   "outputs": [
    {
     "data": {
      "text/plain": [
       "dict_values([0.03, 0.01, -0.02, 0.01, -0.01])"
      ]
     },
     "execution_count": 4,
     "metadata": {},
     "output_type": "execute_result"
    }
   ],
   "source": [
    "daily_dict.values()"
   ]
  },
  {
   "cell_type": "markdown",
   "metadata": {},
   "source": [
    "Recall that, with lists, the only reference point is the index of elements in each list.  For example, to get the first element of `daily_stock_returns`, we use `daily_stock_returns[0]`.  To add to the list, we simply need to use `.append()` and Python adds to the end of the list.  To remove items from a list, we call `.pop(i)` and Python will remove the element in position `i` of the list.\n",
    "\n",
    "Dictionaries work slightly differently, since they have more structure to them.  To add to a dictionary, we need to specify both a key (word) and a value (definition).  We do this with the `.append()` function.  The function takes as an input a dictionary of new key-value pairs that we want to add.\n",
    "\n",
    "Thus, to add one more day of return values to `daily_dict`, we'd do:"
   ]
  },
  {
   "cell_type": "code",
   "execution_count": 5,
   "metadata": {},
   "outputs": [],
   "source": [
    "daily_dict.update( {'7/15/19':0.04} )"
   ]
  },
  {
   "cell_type": "markdown",
   "metadata": {},
   "source": [
    "while for a list we'd do"
   ]
  },
  {
   "cell_type": "code",
   "execution_count": 6,
   "metadata": {},
   "outputs": [],
   "source": [
    "daily_stock_returns.append(0.04)"
   ]
  },
  {
   "cell_type": "markdown",
   "metadata": {},
   "source": [
    "Note that either lists or dictionaries allow for multiple values to be added simultaneously."
   ]
  },
  {
   "cell_type": "code",
   "execution_count": 7,
   "metadata": {},
   "outputs": [],
   "source": [
    "daily_dict.update( {'7/16/19':0.02, '7/17/19':-0.01} )\n",
    "daily_stock_returns = daily_stock_returns + [0.02, -0.01]"
   ]
  },
  {
   "cell_type": "markdown",
   "metadata": {},
   "source": [
    "Thus, to add multiple items to a dictionary, we call `.append()` and give as an argument another dictionary of key-value pairs to add.\n",
    "\n",
    "To add multiple items to a list, the syntax changes!  The `.append()` function takes whatever you put inside the parentheses and adds that input, as is, to the list.  We'll see later that lists are flexible and that makes them quite convenient to use.  However, in this case, the flexibility of a list is tricky.  Lists can store elements of different types, so if we used `.append( [.02, -.01] )` then Python would as a list element to the pre-existing list of numbers.  The following example clarifies."
   ]
  },
  {
   "cell_type": "code",
   "execution_count": 8,
   "metadata": {},
   "outputs": [
    {
     "name": "stdout",
     "output_type": "stream",
     "text": [
      "[1, 2, 3, 4, 5]\n"
     ]
    }
   ],
   "source": [
    "my_list = [1, 2, 3]\n",
    "my_list = my_list + [4, 5]\n",
    "print(my_list)"
   ]
  },
  {
   "cell_type": "code",
   "execution_count": 9,
   "metadata": {},
   "outputs": [
    {
     "name": "stdout",
     "output_type": "stream",
     "text": [
      "[1, 2, 3, [4, 5]]\n"
     ]
    }
   ],
   "source": [
    "my_list = [1, 2, 3]\n",
    "my_list.append( [4,5] )\n",
    "print(my_list)"
   ]
  },
  {
   "cell_type": "markdown",
   "metadata": {},
   "source": [
    "Deleting key-value pairs in a dictionary is straightforward.  Simply instruct Python to delete a key from the dictionary with `del`."
   ]
  },
  {
   "cell_type": "code",
   "execution_count": 11,
   "metadata": {},
   "outputs": [
    {
     "name": "stdout",
     "output_type": "stream",
     "text": [
      "{'word 2': 'dfn 2'}\n"
     ]
    }
   ],
   "source": [
    "my_dict = {'word 1': 'dfn 1', 'word 2':'dfn 2'}\n",
    "del my_dict['word 1']\n",
    "print(my_dict)"
   ]
  },
  {
   "cell_type": "markdown",
   "metadata": {},
   "source": [
    "### DataFrames\n",
    "\n",
    "Let's continue with the example of stock return data, and now suppose that we want to run a CAPM equation to estimate a firm's cost of equity.  Recall that CAPM states\n",
    "$$\n",
    "r_{i,t}-r_{f,t} = \\beta_i(r_{m,t} - r_{f,t})\n",
    "$$\n",
    "where $r_{i,t}$ is the stock return for firm $i$ at time $t$, $r_{f,t}$ is the risk-free rate at time $t$, and $r_{m,t}$ is the market return at time $t$.  The difference $r_{m,t}-r_{f,t}$ is called the *market risk premium*.\n",
    "\n",
    "For the sake of continuity, the daily stock return data will match that of the previous section, so that the keys in `daily_dict` correspond to $\\text{Date}$ and the valeus in `daily_dict` correspond to $r_{i,t}$ in the table below.  Now let's add in information on the market return and the risk free rate.\n",
    "\n",
    "| Date | $r_i$ | $r_m$ | $r_f$ |\n",
    "| --- | --- | --- | --- |\n",
    "| 7/8/19 | 0.03 | 0.02 | 0.01 |\n",
    "| 7/9/19 | 0.01 | 0.01 | 0.01 |\n",
    "| 7/10/19 | -0.02 | -0.03 | 0.01 |\n",
    "| 7/11/19 | 0.01 | 0.02 | 0.01 |\n",
    "| 7/12/19 | -0.01 | -0.03 | 0.01 |\n",
    "\n",
    "The question becomes: how do we store this information in Python?\n",
    "\n",
    "In order to estimate at a CAPM equation (which is covered in the next chapter), we will need to be able to reference $r_{i,t}$, $r_{m,t}$, and $r_{f,t}$ individually, and tell Python what to do with each of these series of returns.\n",
    "\n",
    "If we use lists to keep track of everything then we will have the following:\n",
    "```python3\n",
    "r_i = [0.03, 0.01, -0.02, 0.01, -0.01]\n",
    "r_m = [0.02, 0.01, -0.03, 0.02, -0.03]\n",
    "r_f = [0.01, 0.01, 0.01, 0.01, 0.01]\n",
    "t = ['7/8/19', '7/9/19', '7/10/19', '7/11/19', '7/12/19']\n",
    "```\n",
    "\n",
    "This is a bad practice for at least a couple of reasons.  First, one has to be extremely careful that the data line up properly so that `r_i[k]`, `r_m[k]`, and `r_f[k]` correspond to returns on the same date for every `k`.  Suppose that there is some missing data for some firm $j$ such that `r_j = [0.05, 0.02, 0.03, -0.04]`.  Without any additional information, it is impossible to track down which data point for firm $j$ is missing.  Second, it's difficult to reference returns at a particular date.  Suppose that you want to know the market return on `7/11/19`.  You would first have to determine that `t[k] = '7/11/19'` when `k = 3` and then go look up `r_m[3]` to get the market return.  Note that neither of these considerations imply that it is impossible to use lists to hold all the requisite data, it's just inconvenient for the programmer.  Remember, Python is supposed to make your life easier.\n",
    "\n",
    "Suppose instead that we use a dictionary based approach to hold all of the data.  One way to do this is to construct a *nested dictionary*.  Nested dictionaries look like:\n",
    "```python3\n",
    "nested_dict = {'finance':\n",
    "                {'verb':'to supply with money or capital',\n",
    "                 'noun':'the management of revenues'},\n",
    "               'rate':\n",
    "                {'verb':'to estimate the value or worth of',\n",
    "                 'noun':'the amount of a charge or payment with reference to some basis of calculation'}\n",
    "              }\n",
    "```\n",
    "Here there is a dictionary with keys `'finance'` and `'rate'`.  The key `'finance'` has a value which is itself a dictionary: one key named `'verb'` which has value equal to the definition of \"finance\" used as a verb and another key named `'noun'` which has value equal to the definition of \"finance\" used as a noun.  Likewise the key `'rate'` has a value which is itself a dictionary.\n",
    "\n",
    "If one enters `nested_dict['finance']`, Python will return the dictionary `{'verb':'to supply with money or capital', 'noun':'the management of revenues'}`.  Thus, to look up what the noun usage of \"finance\" is, one simply types `nested_dict['finance']['noun']`, which tells Python to look up the `noun` value to the dictionary value given by the key `'finance'`.\n",
    "\n",
    "In the conext of the current problem, a nested dictionary might look like:\n",
    "```python3\n",
    "daily_returns = {'r_i': {'7/8/19':0.03, '7/9/19':0.01, '7/10/19':-0.02, '7/11/19':0.01, '7/12/19':-0.01},\n",
    "                 'r_m': {'7/8/19':0.02, '7/9/19':0.01, '7/10/19':-0.03, '7/11/19':0.02, '7/12/19':-0.03},\n",
    "                 'r_f': {'7/8/19':0.01, '7/9/19':0.01, '7/10/19':0.01, '7/11/19':0.01, '7/12/19':0.01}}\n",
    "```\n",
    "The dictionary approach adds a convenience to the problem.  Now, if one wants to look up the market return on `7/11/19` one simply has to type `daily_returns['r_m']['7/11/19']`.\n",
    "\n",
    "Unfortunately, this approach still isn't perfect.  Remember, CAPM tells us that the excess return $r_{i,t}-r_{f,t}$ is defined by a linear function of the market risk premium $r_{m,t}-r_{f,t}$.  Therefore, what we want to do is to be able to tell Python to calculate the excess return and the market risk premium.  This is doable with a nested dictionary format, but it's a little complicated.  One would have to do something like the following (feel free to skip this code):\n",
    "```python3\n",
    "daily_returns['r_excess'] = {}\n",
    "daily_returns['r_riskpremium'] = {}\n",
    "for t in daily_returns['r_f'].values():\n",
    "    daily_returns['r_excess'].update(t:daily_returns['r_i'][t]-daily_returns['r_f'][t])\n",
    "    daily_returns['r_riskpremium'].update(t:daily_returns['r_m'][t]-daily_returns['r_f'][t])\n",
    "```\n",
    "This is five long lines of code.  That means lots of typing and plenty of room for typos.  Nested dictionaries are *not* the recommended way to hold and manage data.\n",
    "\n",
    "So what *is* the recommended way to hold data in Python?  We need to use pandas.\n",
    "\n",
    "Pandas is the standard module for working with datasets in Python, written by Wes McKinney while at AQR Capital Management.  A **module** is a collection of user-defined functions, written by one or more people, and made available for use by everyone.  The `wacc()` function from earlier in this chapter is an example of a user-defined function.  When a set of userful and related functions are created, the author(s) of these functions sometimes choose to share this set of functions with the world to make Python an even more convenient language for everyone else.\n",
    "\n",
    "Modules that are not part of the standard Python library need to be **imported** using an import statement like:\n",
    "```\n",
    "import pandas\n",
    "```\n",
    "In the above, the module `pandas` is imported.  What this means is that now the functions available under `pandas` are available for you to use.  If you do not import the pandas module, the functions inside of it are unkown to Python.\n",
    "\n",
    "To reference the functions inside of the `pandas` module, we use `pandas.<function_name>()`.  For example, `pandas` has a function called `read_csv()`, so we would use this function by typing `pandas.read_csv()`.\n",
    "\n",
    "There are some modules, like `numpy` or `pandas` that are so frequently used in Python programming, they have unofficial ''standard'' ways of importing the module with an abbreviation for our later convience.  Two examples are given below:"
   ]
  },
  {
   "cell_type": "code",
   "execution_count": 2,
   "metadata": {},
   "outputs": [],
   "source": [
    "import pandas as pd\n",
    "import numpy as np"
   ]
  },
  {
   "cell_type": "markdown",
   "metadata": {},
   "source": [
    "Basically, `import numpy as np` tells Python that we want to import `numpy`, but give it a nickname of `np` so that we can refer to the module by that nickname.\n",
    "\n",
    "Now, instead of having to type `pandas.read_csv()` as before, we simply refer to `pandas` by its nickname and type `pd.read_csv()`.  It may not seem like a huge shortcut, but it's a very common.\n",
    "\n",
    "We will use `pandas` for a lot of our work in this class.  Note that tutorials and recipes (example pieces of code to perform fairly common tasks) are easy to find [online](https://pandas.pydata.org/pandas-docs/stable/tutorials.html).\n",
    "\n",
    "The stock return data that we will use is included with this handout, so we will read the data from CoCalc.  This highlights two important features of the `read_csv()` function.  First, it can pull files from a website directly (as long as the file is formatted as a csv file).  Second, it can read compressed files (note that the file name used here ends with `.gz`, a type of file compression).  File compression is an important option because of the convenience it provides.  Note that the stock data we have here would be too large to be allowed to be hosted for free on GitHub if the file were not compressed.  Moreover, other cloud-based storage solutions like Amazon S3 will charge based on the amount of storage you request, so having the ability to use compressed files means you spend less money on storage costs.\n",
    "\n",
    "The `read_csv()` function *returns* a value.  The type of that value is not a number, string, list, or dictionary, but rather a pandas-specific variable type called a **DataFrame**.  In a moment, you'll see what one looks like.  DataFrames are essentially a nested dictionary type of structure, but with a ton of convenience features added in to make them easy to work with.  For now, use the `.read_csv()` function and then tell Python that the returned value should be set to a variable named `data`."
   ]
  },
  {
   "cell_type": "code",
   "execution_count": 3,
   "metadata": {},
   "outputs": [],
   "source": [
    "data = pd.read_csv('https://raw.githubusercontent.com/financedatascience/data/master/stocks/all_stocks_5yr.csv.gz')"
   ]
  },
  {
   "cell_type": "markdown",
   "metadata": {},
   "source": [
    "The `data` variable is a pandas DataFrame.  Just like string variables have the `.upper()` function to translate them into all upper case, and dictionary variables have the `.keys()` function to get the keys (words) in the dictionary, DataFrame variables have some special functions specific to them.  One of these is called `.head()`, which prints out a snippet of the data file."
   ]
  },
  {
   "cell_type": "code",
   "execution_count": 4,
   "metadata": {},
   "outputs": [
    {
     "data": {
      "text/html": [
       "<div>\n",
       "<style scoped>\n",
       "    .dataframe tbody tr th:only-of-type {\n",
       "        vertical-align: middle;\n",
       "    }\n",
       "\n",
       "    .dataframe tbody tr th {\n",
       "        vertical-align: top;\n",
       "    }\n",
       "\n",
       "    .dataframe thead th {\n",
       "        text-align: right;\n",
       "    }\n",
       "</style>\n",
       "<table border=\"1\" class=\"dataframe\">\n",
       "  <thead>\n",
       "    <tr style=\"text-align: right;\">\n",
       "      <th></th>\n",
       "      <th>date</th>\n",
       "      <th>open</th>\n",
       "      <th>high</th>\n",
       "      <th>low</th>\n",
       "      <th>close</th>\n",
       "      <th>volume</th>\n",
       "      <th>Name</th>\n",
       "      <th>ret</th>\n",
       "      <th>Mkt</th>\n",
       "      <th>SMB</th>\n",
       "      <th>HML</th>\n",
       "      <th>RMW</th>\n",
       "      <th>CMA</th>\n",
       "      <th>RF</th>\n",
       "    </tr>\n",
       "  </thead>\n",
       "  <tbody>\n",
       "    <tr>\n",
       "      <th>0</th>\n",
       "      <td>2013-02-08</td>\n",
       "      <td>45.07</td>\n",
       "      <td>45.35</td>\n",
       "      <td>45.00</td>\n",
       "      <td>45.08</td>\n",
       "      <td>1824755</td>\n",
       "      <td>A</td>\n",
       "      <td>NaN</td>\n",
       "      <td>0.58</td>\n",
       "      <td>0.03</td>\n",
       "      <td>-0.21</td>\n",
       "      <td>0.12</td>\n",
       "      <td>-0.45</td>\n",
       "      <td>0.0</td>\n",
       "    </tr>\n",
       "    <tr>\n",
       "      <th>1</th>\n",
       "      <td>2013-02-11</td>\n",
       "      <td>45.17</td>\n",
       "      <td>45.18</td>\n",
       "      <td>44.45</td>\n",
       "      <td>44.60</td>\n",
       "      <td>2915405</td>\n",
       "      <td>A</td>\n",
       "      <td>-0.010648</td>\n",
       "      <td>-0.08</td>\n",
       "      <td>-0.03</td>\n",
       "      <td>0.39</td>\n",
       "      <td>-0.18</td>\n",
       "      <td>0.28</td>\n",
       "      <td>0.0</td>\n",
       "    </tr>\n",
       "    <tr>\n",
       "      <th>2</th>\n",
       "      <td>2013-02-12</td>\n",
       "      <td>44.81</td>\n",
       "      <td>44.95</td>\n",
       "      <td>44.50</td>\n",
       "      <td>44.62</td>\n",
       "      <td>2373731</td>\n",
       "      <td>A</td>\n",
       "      <td>0.000448</td>\n",
       "      <td>0.16</td>\n",
       "      <td>0.26</td>\n",
       "      <td>0.71</td>\n",
       "      <td>-0.54</td>\n",
       "      <td>0.45</td>\n",
       "      <td>0.0</td>\n",
       "    </tr>\n",
       "    <tr>\n",
       "      <th>3</th>\n",
       "      <td>2013-02-13</td>\n",
       "      <td>44.81</td>\n",
       "      <td>45.24</td>\n",
       "      <td>44.68</td>\n",
       "      <td>44.75</td>\n",
       "      <td>2052338</td>\n",
       "      <td>A</td>\n",
       "      <td>0.002913</td>\n",
       "      <td>0.14</td>\n",
       "      <td>0.08</td>\n",
       "      <td>-0.01</td>\n",
       "      <td>-0.01</td>\n",
       "      <td>-0.04</td>\n",
       "      <td>0.0</td>\n",
       "    </tr>\n",
       "    <tr>\n",
       "      <th>4</th>\n",
       "      <td>2013-02-14</td>\n",
       "      <td>44.72</td>\n",
       "      <td>44.78</td>\n",
       "      <td>44.36</td>\n",
       "      <td>44.58</td>\n",
       "      <td>3826245</td>\n",
       "      <td>A</td>\n",
       "      <td>-0.003799</td>\n",
       "      <td>0.11</td>\n",
       "      <td>0.32</td>\n",
       "      <td>0.12</td>\n",
       "      <td>-0.30</td>\n",
       "      <td>-0.21</td>\n",
       "      <td>0.0</td>\n",
       "    </tr>\n",
       "  </tbody>\n",
       "</table>\n",
       "</div>"
      ],
      "text/plain": [
       "         date   open   high    low  close   volume Name       ret   Mkt   SMB  \\\n",
       "0  2013-02-08  45.07  45.35  45.00  45.08  1824755    A       NaN  0.58  0.03   \n",
       "1  2013-02-11  45.17  45.18  44.45  44.60  2915405    A -0.010648 -0.08 -0.03   \n",
       "2  2013-02-12  44.81  44.95  44.50  44.62  2373731    A  0.000448  0.16  0.26   \n",
       "3  2013-02-13  44.81  45.24  44.68  44.75  2052338    A  0.002913  0.14  0.08   \n",
       "4  2013-02-14  44.72  44.78  44.36  44.58  3826245    A -0.003799  0.11  0.32   \n",
       "\n",
       "    HML   RMW   CMA   RF  \n",
       "0 -0.21  0.12 -0.45  0.0  \n",
       "1  0.39 -0.18  0.28  0.0  \n",
       "2  0.71 -0.54  0.45  0.0  \n",
       "3 -0.01 -0.01 -0.04  0.0  \n",
       "4  0.12 -0.30 -0.21  0.0  "
      ]
     },
     "execution_count": 4,
     "metadata": {},
     "output_type": "execute_result"
    }
   ],
   "source": [
    "data.head()"
   ]
  },
  {
   "cell_type": "markdown",
   "metadata": {},
   "source": [
    "In the printout, names are marked in bold font.  The csv file has column headers `['date', 'open', 'high', 'low', 'close', 'volume', 'Name', 'ret', 'Mkt', 'SMB', 'HML', 'RMW', 'CMA', 'RF']` in the first row of the file (this would be row 1 if we opened the csv file in Excel).  The pandas function `read_csv()` by default will take this first row to be the names of the columns.  This allows us to reference the column of data:"
   ]
  },
  {
   "cell_type": "code",
   "execution_count": 5,
   "metadata": {},
   "outputs": [
    {
     "data": {
      "text/plain": [
       "0         45.08\n",
       "1         44.60\n",
       "2         44.62\n",
       "3         44.75\n",
       "4         44.58\n",
       "          ...  \n",
       "619035    77.82\n",
       "619036    76.78\n",
       "619037    73.83\n",
       "619038    73.27\n",
       "619039    73.86\n",
       "Name: close, Length: 619040, dtype: float64"
      ]
     },
     "execution_count": 5,
     "metadata": {},
     "output_type": "execute_result"
    }
   ],
   "source": [
    "data['close']"
   ]
  },
  {
   "cell_type": "markdown",
   "metadata": {},
   "source": [
    "Here, Python smartly prints out only a small subset of the `'close'` column of data.  The first five rows (row numbers 0-5) are printed, as well as the last five rows (row numbers 619035-619039).\n",
    "\n",
    "Be careful, names are given as strings.  Python is fine with `data['close']`, but if you type `data[close]` then Python will think you're trying to use a variable `close` to store the column name.  For example if one were to type\n",
    "```python3\n",
    "close = 'open'\n",
    "data[close]\n",
    "```\n",
    "then Python would give back the data in column `'open'`.\n",
    "\n",
    "Note that there are bold numbers 0-4 running down the left hand side of the `.head()` printout.  This is because the first row of data (row 2, in Excel) is read in an by default given the name `0` by Python (because Python starts counting at zero).  Hence, we could refer to a row based on this name, just like we do with a column name.  Note that if you type `data[0]`, Python will get confused.  The name inside square brackets is, according to pandas' rules for DataFrame variables, expected to be a column name and not a row name.  For the moment, let's skip over how to refer to the first row of data by using the name `0` printed on the left hand side of the printout above.\n",
    "\n",
    "A very typical use case with DataFrames is to look up a row (or set of rows) based on a value stored in one of the columns of the DataFrame.  For example, we can select a row based on the value for `date`.  This would be achieved by entering:"
   ]
  },
  {
   "cell_type": "code",
   "execution_count": 6,
   "metadata": {},
   "outputs": [
    {
     "data": {
      "text/html": [
       "<div>\n",
       "<style scoped>\n",
       "    .dataframe tbody tr th:only-of-type {\n",
       "        vertical-align: middle;\n",
       "    }\n",
       "\n",
       "    .dataframe tbody tr th {\n",
       "        vertical-align: top;\n",
       "    }\n",
       "\n",
       "    .dataframe thead th {\n",
       "        text-align: right;\n",
       "    }\n",
       "</style>\n",
       "<table border=\"1\" class=\"dataframe\">\n",
       "  <thead>\n",
       "    <tr style=\"text-align: right;\">\n",
       "      <th></th>\n",
       "      <th>date</th>\n",
       "      <th>open</th>\n",
       "      <th>high</th>\n",
       "      <th>low</th>\n",
       "      <th>close</th>\n",
       "      <th>volume</th>\n",
       "      <th>Name</th>\n",
       "      <th>ret</th>\n",
       "      <th>Mkt</th>\n",
       "      <th>SMB</th>\n",
       "      <th>HML</th>\n",
       "      <th>RMW</th>\n",
       "      <th>CMA</th>\n",
       "      <th>RF</th>\n",
       "    </tr>\n",
       "  </thead>\n",
       "  <tbody>\n",
       "    <tr>\n",
       "      <th>4</th>\n",
       "      <td>2013-02-14</td>\n",
       "      <td>44.7200</td>\n",
       "      <td>44.7800</td>\n",
       "      <td>44.3600</td>\n",
       "      <td>44.5800</td>\n",
       "      <td>3826245</td>\n",
       "      <td>A</td>\n",
       "      <td>-0.003799</td>\n",
       "      <td>0.11</td>\n",
       "      <td>0.32</td>\n",
       "      <td>0.12</td>\n",
       "      <td>-0.3</td>\n",
       "      <td>-0.21</td>\n",
       "      <td>0.0</td>\n",
       "    </tr>\n",
       "    <tr>\n",
       "      <th>1263</th>\n",
       "      <td>2013-02-14</td>\n",
       "      <td>14.9400</td>\n",
       "      <td>14.9600</td>\n",
       "      <td>13.1600</td>\n",
       "      <td>13.9900</td>\n",
       "      <td>31879900</td>\n",
       "      <td>AAL</td>\n",
       "      <td>-0.045703</td>\n",
       "      <td>0.11</td>\n",
       "      <td>0.32</td>\n",
       "      <td>0.12</td>\n",
       "      <td>-0.3</td>\n",
       "      <td>-0.21</td>\n",
       "      <td>0.0</td>\n",
       "    </tr>\n",
       "    <tr>\n",
       "      <th>2522</th>\n",
       "      <td>2013-02-14</td>\n",
       "      <td>78.6600</td>\n",
       "      <td>79.7200</td>\n",
       "      <td>78.5850</td>\n",
       "      <td>78.8400</td>\n",
       "      <td>1005376</td>\n",
       "      <td>AAP</td>\n",
       "      <td>-0.001646</td>\n",
       "      <td>0.11</td>\n",
       "      <td>0.32</td>\n",
       "      <td>0.12</td>\n",
       "      <td>-0.3</td>\n",
       "      <td>-0.21</td>\n",
       "      <td>0.0</td>\n",
       "    </tr>\n",
       "    <tr>\n",
       "      <th>3781</th>\n",
       "      <td>2013-02-14</td>\n",
       "      <td>66.3599</td>\n",
       "      <td>67.3771</td>\n",
       "      <td>66.2885</td>\n",
       "      <td>66.6556</td>\n",
       "      <td>88809154</td>\n",
       "      <td>AAPL</td>\n",
       "      <td>-0.000899</td>\n",
       "      <td>0.11</td>\n",
       "      <td>0.32</td>\n",
       "      <td>0.12</td>\n",
       "      <td>-0.3</td>\n",
       "      <td>-0.21</td>\n",
       "      <td>0.0</td>\n",
       "    </tr>\n",
       "    <tr>\n",
       "      <th>5040</th>\n",
       "      <td>2013-02-14</td>\n",
       "      <td>35.0500</td>\n",
       "      <td>36.7300</td>\n",
       "      <td>35.0100</td>\n",
       "      <td>36.5700</td>\n",
       "      <td>7570052</td>\n",
       "      <td>ABBV</td>\n",
       "      <td>0.036859</td>\n",
       "      <td>0.11</td>\n",
       "      <td>0.32</td>\n",
       "      <td>0.12</td>\n",
       "      <td>-0.3</td>\n",
       "      <td>-0.21</td>\n",
       "      <td>0.0</td>\n",
       "    </tr>\n",
       "    <tr>\n",
       "      <th>...</th>\n",
       "      <td>...</td>\n",
       "      <td>...</td>\n",
       "      <td>...</td>\n",
       "      <td>...</td>\n",
       "      <td>...</td>\n",
       "      <td>...</td>\n",
       "      <td>...</td>\n",
       "      <td>...</td>\n",
       "      <td>...</td>\n",
       "      <td>...</td>\n",
       "      <td>...</td>\n",
       "      <td>...</td>\n",
       "      <td>...</td>\n",
       "      <td>...</td>\n",
       "    </tr>\n",
       "    <tr>\n",
       "      <th>612749</th>\n",
       "      <td>2013-02-14</td>\n",
       "      <td>28.2200</td>\n",
       "      <td>28.6150</td>\n",
       "      <td>28.2050</td>\n",
       "      <td>28.4700</td>\n",
       "      <td>927050</td>\n",
       "      <td>XYL</td>\n",
       "      <td>0.007431</td>\n",
       "      <td>0.11</td>\n",
       "      <td>0.32</td>\n",
       "      <td>0.12</td>\n",
       "      <td>-0.3</td>\n",
       "      <td>-0.21</td>\n",
       "      <td>0.0</td>\n",
       "    </tr>\n",
       "    <tr>\n",
       "      <th>614008</th>\n",
       "      <td>2013-02-14</td>\n",
       "      <td>64.2700</td>\n",
       "      <td>64.5360</td>\n",
       "      <td>63.7700</td>\n",
       "      <td>63.8900</td>\n",
       "      <td>3949356</td>\n",
       "      <td>YUM</td>\n",
       "      <td>-0.008073</td>\n",
       "      <td>0.11</td>\n",
       "      <td>0.32</td>\n",
       "      <td>0.12</td>\n",
       "      <td>-0.3</td>\n",
       "      <td>-0.21</td>\n",
       "      <td>0.0</td>\n",
       "    </tr>\n",
       "    <tr>\n",
       "      <th>615267</th>\n",
       "      <td>2013-02-14</td>\n",
       "      <td>75.8600</td>\n",
       "      <td>76.4000</td>\n",
       "      <td>75.7500</td>\n",
       "      <td>76.3400</td>\n",
       "      <td>860104</td>\n",
       "      <td>ZBH</td>\n",
       "      <td>0.004474</td>\n",
       "      <td>0.11</td>\n",
       "      <td>0.32</td>\n",
       "      <td>0.12</td>\n",
       "      <td>-0.3</td>\n",
       "      <td>-0.21</td>\n",
       "      <td>0.0</td>\n",
       "    </tr>\n",
       "    <tr>\n",
       "      <th>616526</th>\n",
       "      <td>2013-02-14</td>\n",
       "      <td>24.6800</td>\n",
       "      <td>24.7850</td>\n",
       "      <td>24.5100</td>\n",
       "      <td>24.6300</td>\n",
       "      <td>2789414</td>\n",
       "      <td>ZION</td>\n",
       "      <td>-0.004446</td>\n",
       "      <td>0.11</td>\n",
       "      <td>0.32</td>\n",
       "      <td>0.12</td>\n",
       "      <td>-0.3</td>\n",
       "      <td>-0.21</td>\n",
       "      <td>0.0</td>\n",
       "    </tr>\n",
       "    <tr>\n",
       "      <th>617785</th>\n",
       "      <td>2013-02-14</td>\n",
       "      <td>33.3900</td>\n",
       "      <td>33.4500</td>\n",
       "      <td>32.7700</td>\n",
       "      <td>33.2700</td>\n",
       "      <td>2954324</td>\n",
       "      <td>ZTS</td>\n",
       "      <td>-0.008346</td>\n",
       "      <td>0.11</td>\n",
       "      <td>0.32</td>\n",
       "      <td>0.12</td>\n",
       "      <td>-0.3</td>\n",
       "      <td>-0.21</td>\n",
       "      <td>0.0</td>\n",
       "    </tr>\n",
       "  </tbody>\n",
       "</table>\n",
       "<p>476 rows × 14 columns</p>\n",
       "</div>"
      ],
      "text/plain": [
       "              date     open     high      low    close    volume  Name  \\\n",
       "4       2013-02-14  44.7200  44.7800  44.3600  44.5800   3826245     A   \n",
       "1263    2013-02-14  14.9400  14.9600  13.1600  13.9900  31879900   AAL   \n",
       "2522    2013-02-14  78.6600  79.7200  78.5850  78.8400   1005376   AAP   \n",
       "3781    2013-02-14  66.3599  67.3771  66.2885  66.6556  88809154  AAPL   \n",
       "5040    2013-02-14  35.0500  36.7300  35.0100  36.5700   7570052  ABBV   \n",
       "...            ...      ...      ...      ...      ...       ...   ...   \n",
       "612749  2013-02-14  28.2200  28.6150  28.2050  28.4700    927050   XYL   \n",
       "614008  2013-02-14  64.2700  64.5360  63.7700  63.8900   3949356   YUM   \n",
       "615267  2013-02-14  75.8600  76.4000  75.7500  76.3400    860104   ZBH   \n",
       "616526  2013-02-14  24.6800  24.7850  24.5100  24.6300   2789414  ZION   \n",
       "617785  2013-02-14  33.3900  33.4500  32.7700  33.2700   2954324   ZTS   \n",
       "\n",
       "             ret   Mkt   SMB   HML  RMW   CMA   RF  \n",
       "4      -0.003799  0.11  0.32  0.12 -0.3 -0.21  0.0  \n",
       "1263   -0.045703  0.11  0.32  0.12 -0.3 -0.21  0.0  \n",
       "2522   -0.001646  0.11  0.32  0.12 -0.3 -0.21  0.0  \n",
       "3781   -0.000899  0.11  0.32  0.12 -0.3 -0.21  0.0  \n",
       "5040    0.036859  0.11  0.32  0.12 -0.3 -0.21  0.0  \n",
       "...          ...   ...   ...   ...  ...   ...  ...  \n",
       "612749  0.007431  0.11  0.32  0.12 -0.3 -0.21  0.0  \n",
       "614008 -0.008073  0.11  0.32  0.12 -0.3 -0.21  0.0  \n",
       "615267  0.004474  0.11  0.32  0.12 -0.3 -0.21  0.0  \n",
       "616526 -0.004446  0.11  0.32  0.12 -0.3 -0.21  0.0  \n",
       "617785 -0.008346  0.11  0.32  0.12 -0.3 -0.21  0.0  \n",
       "\n",
       "[476 rows x 14 columns]"
      ]
     },
     "execution_count": 6,
     "metadata": {},
     "output_type": "execute_result"
    }
   ],
   "source": [
    "data[ data['date'] == '2013-02-14' ]"
   ]
  },
  {
   "cell_type": "markdown",
   "metadata": {},
   "source": [
    "At the bottom of this truncated prinout, Python informs us that there are 474 rows of data.  That is, we have 474 different stocks with return data for February 14, 2013.\n",
    "\n",
    "Let's break down what the line of code does:\n",
    "\n",
    "$\\color{red}{\\texttt{data[}}\\color{blue}{\\texttt{data['date']}}\\color{black}{\\textbf{==}\\texttt{'2013-02-14'}}\\color{red}{\\texttt{]}}$\n",
    "\n",
    "Work from the inside (stuff inside the red text) out.\n",
    "- $\\color{blue}{\\texttt{data['date']}}$: look up column of data named `date`\n",
    "- $\\textbf{==}\\texttt{'2013-02-14'}$: check whether each row in the column named `date` equals `'2013-02-14'`\n",
    "\n",
    "Thus, $\\color{blue}{\\texttt{data['date']}}\\color{black}{==\\texttt{'2013-02-14'}}$ compares each row in `date` to the value `'2013-02-14'`.  Rows whether the value in `date` match this string are marked `True`, while rows that do not match this string are marked `False`.  Suppose that this list of rows looks like $\\texttt{[True, False, False, True, ...]}$.\n",
    "\n",
    "Then, $\\color{red}{\\texttt{data[}}\\color{black}{\\texttt{[True, False, False, True, ...]}}\\color{red}{\\texttt{]}}$ would select the rows that are marked `True` and ignore the rows marked `False`."
   ]
  },
  {
   "cell_type": "markdown",
   "metadata": {},
   "source": [
    "As we saw in earlier, we can test for whether the date in a given row matches our day of interest with the python statement: `==`.  Recall:\n",
    "\n",
    "```\n",
    "x = 1\n",
    "y = 2\n",
    "```\n",
    "if we want to test whether `x` is equal to `y`, we should *not* use\n",
    "```\n",
    "x = y\n",
    "```\n",
    "because Python will interpret this as setting `x` *equal to* whatever value `y` is.  We should instead use\n",
    "```\n",
    "x == y\n",
    "```\n",
    "which in this case will return `False`, because `x` is currently set equal to 1 and `y` is set equal to 2.\n",
    "\n",
    "Therefore, if we issue the command:\n",
    "```\n",
    "data['date'] == '2013-02-14'\n",
    "```\n",
    "what Python will do is check each row for whether the `date` in that row is equal to the value `'2013-02-14'`.  Again, be careful about quotations!\n",
    "* `data['date'] == '2013-02-14'` : Python checks for whether `date` is equal to the *string* value `'2013-02-14'`\n",
    "* `data['date'] == 2013-02-14` : Python checks for whether `date` is equal to some *integer* $2013-02-14$, and ends up confused because `02` is not a number and thus not something can can be subtracted from 2013."
   ]
  },
  {
   "cell_type": "code",
   "execution_count": 7,
   "metadata": {},
   "outputs": [
    {
     "data": {
      "text/plain": [
       "0         False\n",
       "1         False\n",
       "2         False\n",
       "3         False\n",
       "4          True\n",
       "          ...  \n",
       "619035    False\n",
       "619036    False\n",
       "619037    False\n",
       "619038    False\n",
       "619039    False\n",
       "Name: date, Length: 619040, dtype: bool"
      ]
     },
     "execution_count": 7,
     "metadata": {},
     "output_type": "execute_result"
    }
   ],
   "source": [
    "data['date'] == '2013-02-14'"
   ]
  },
  {
   "cell_type": "markdown",
   "metadata": {},
   "source": [
    "Given this list of `True`s and `False`s, we select from `data` those marked `True`.  If we take our DataFrame $\\color{red}{\\texttt{data}}$ and give it a list of rows inside square brackets $\\color{red}{\\textbf{[}\\text{ }\\textbf{]}}$, Python will only use rows marked `True` and it will exclude rows marked `False`.\n",
    "\n",
    "Properties of the DataFrame variable type will be introduced as they become necessary.  For now, return to the problem of calculating an excess return and a market risk premium.  Recall that the nested dictionary solution to this problem was tedious.  In contrast, the DataFrame solution is to simply type:"
   ]
  },
  {
   "cell_type": "code",
   "execution_count": 8,
   "metadata": {},
   "outputs": [],
   "source": [
    "data['r_excess'] = data['ret'] - data['RF']"
   ]
  },
  {
   "cell_type": "markdown",
   "metadata": {},
   "source": [
    "Short, simple, and easily readible.  To verify that the solution is correct, print the data:"
   ]
  },
  {
   "cell_type": "code",
   "execution_count": 9,
   "metadata": {},
   "outputs": [
    {
     "data": {
      "text/html": [
       "<div>\n",
       "<style scoped>\n",
       "    .dataframe tbody tr th:only-of-type {\n",
       "        vertical-align: middle;\n",
       "    }\n",
       "\n",
       "    .dataframe tbody tr th {\n",
       "        vertical-align: top;\n",
       "    }\n",
       "\n",
       "    .dataframe thead th {\n",
       "        text-align: right;\n",
       "    }\n",
       "</style>\n",
       "<table border=\"1\" class=\"dataframe\">\n",
       "  <thead>\n",
       "    <tr style=\"text-align: right;\">\n",
       "      <th></th>\n",
       "      <th>date</th>\n",
       "      <th>open</th>\n",
       "      <th>high</th>\n",
       "      <th>low</th>\n",
       "      <th>close</th>\n",
       "      <th>volume</th>\n",
       "      <th>Name</th>\n",
       "      <th>ret</th>\n",
       "      <th>Mkt</th>\n",
       "      <th>SMB</th>\n",
       "      <th>HML</th>\n",
       "      <th>RMW</th>\n",
       "      <th>CMA</th>\n",
       "      <th>RF</th>\n",
       "      <th>r_excess</th>\n",
       "    </tr>\n",
       "  </thead>\n",
       "  <tbody>\n",
       "    <tr>\n",
       "      <th>0</th>\n",
       "      <td>2013-02-08</td>\n",
       "      <td>45.07</td>\n",
       "      <td>45.35</td>\n",
       "      <td>45.00</td>\n",
       "      <td>45.08</td>\n",
       "      <td>1824755</td>\n",
       "      <td>A</td>\n",
       "      <td>NaN</td>\n",
       "      <td>0.58</td>\n",
       "      <td>0.03</td>\n",
       "      <td>-0.21</td>\n",
       "      <td>0.12</td>\n",
       "      <td>-0.45</td>\n",
       "      <td>0.0</td>\n",
       "      <td>NaN</td>\n",
       "    </tr>\n",
       "    <tr>\n",
       "      <th>1</th>\n",
       "      <td>2013-02-11</td>\n",
       "      <td>45.17</td>\n",
       "      <td>45.18</td>\n",
       "      <td>44.45</td>\n",
       "      <td>44.60</td>\n",
       "      <td>2915405</td>\n",
       "      <td>A</td>\n",
       "      <td>-0.010648</td>\n",
       "      <td>-0.08</td>\n",
       "      <td>-0.03</td>\n",
       "      <td>0.39</td>\n",
       "      <td>-0.18</td>\n",
       "      <td>0.28</td>\n",
       "      <td>0.0</td>\n",
       "      <td>-0.010648</td>\n",
       "    </tr>\n",
       "    <tr>\n",
       "      <th>2</th>\n",
       "      <td>2013-02-12</td>\n",
       "      <td>44.81</td>\n",
       "      <td>44.95</td>\n",
       "      <td>44.50</td>\n",
       "      <td>44.62</td>\n",
       "      <td>2373731</td>\n",
       "      <td>A</td>\n",
       "      <td>0.000448</td>\n",
       "      <td>0.16</td>\n",
       "      <td>0.26</td>\n",
       "      <td>0.71</td>\n",
       "      <td>-0.54</td>\n",
       "      <td>0.45</td>\n",
       "      <td>0.0</td>\n",
       "      <td>0.000448</td>\n",
       "    </tr>\n",
       "    <tr>\n",
       "      <th>3</th>\n",
       "      <td>2013-02-13</td>\n",
       "      <td>44.81</td>\n",
       "      <td>45.24</td>\n",
       "      <td>44.68</td>\n",
       "      <td>44.75</td>\n",
       "      <td>2052338</td>\n",
       "      <td>A</td>\n",
       "      <td>0.002913</td>\n",
       "      <td>0.14</td>\n",
       "      <td>0.08</td>\n",
       "      <td>-0.01</td>\n",
       "      <td>-0.01</td>\n",
       "      <td>-0.04</td>\n",
       "      <td>0.0</td>\n",
       "      <td>0.002913</td>\n",
       "    </tr>\n",
       "    <tr>\n",
       "      <th>4</th>\n",
       "      <td>2013-02-14</td>\n",
       "      <td>44.72</td>\n",
       "      <td>44.78</td>\n",
       "      <td>44.36</td>\n",
       "      <td>44.58</td>\n",
       "      <td>3826245</td>\n",
       "      <td>A</td>\n",
       "      <td>-0.003799</td>\n",
       "      <td>0.11</td>\n",
       "      <td>0.32</td>\n",
       "      <td>0.12</td>\n",
       "      <td>-0.30</td>\n",
       "      <td>-0.21</td>\n",
       "      <td>0.0</td>\n",
       "      <td>-0.003799</td>\n",
       "    </tr>\n",
       "  </tbody>\n",
       "</table>\n",
       "</div>"
      ],
      "text/plain": [
       "         date   open   high    low  close   volume Name       ret   Mkt   SMB  \\\n",
       "0  2013-02-08  45.07  45.35  45.00  45.08  1824755    A       NaN  0.58  0.03   \n",
       "1  2013-02-11  45.17  45.18  44.45  44.60  2915405    A -0.010648 -0.08 -0.03   \n",
       "2  2013-02-12  44.81  44.95  44.50  44.62  2373731    A  0.000448  0.16  0.26   \n",
       "3  2013-02-13  44.81  45.24  44.68  44.75  2052338    A  0.002913  0.14  0.08   \n",
       "4  2013-02-14  44.72  44.78  44.36  44.58  3826245    A -0.003799  0.11  0.32   \n",
       "\n",
       "    HML   RMW   CMA   RF  r_excess  \n",
       "0 -0.21  0.12 -0.45  0.0       NaN  \n",
       "1  0.39 -0.18  0.28  0.0 -0.010648  \n",
       "2  0.71 -0.54  0.45  0.0  0.000448  \n",
       "3 -0.01 -0.01 -0.04  0.0  0.002913  \n",
       "4  0.12 -0.30 -0.21  0.0 -0.003799  "
      ]
     },
     "execution_count": 9,
     "metadata": {},
     "output_type": "execute_result"
    }
   ],
   "source": [
    "data.head()"
   ]
  },
  {
   "cell_type": "markdown",
   "metadata": {},
   "source": [
    "### Selecting Pieces of DataFrames\n",
    "\n",
    "As stated above, a very common use case with DataFrames is to select a row or subset of rows that satisfy a propery, as we did with `data[data['date'] == '2013-02-14'`.\n",
    "\n",
    "There are two other ways to refer to a piece of a DataFrame.\n",
    "\n",
    "**Option 1**: refer to rows and columns by their *numbering*\n",
    "\n",
    "For example, `data.iloc[0]` gives you the 0th row:"
   ]
  },
  {
   "cell_type": "code",
   "execution_count": 10,
   "metadata": {},
   "outputs": [
    {
     "data": {
      "text/plain": [
       "date        2013-02-08\n",
       "open             45.07\n",
       "high             45.35\n",
       "low                 45\n",
       "close            45.08\n",
       "volume         1824755\n",
       "Name                 A\n",
       "ret                NaN\n",
       "Mkt               0.58\n",
       "SMB               0.03\n",
       "HML              -0.21\n",
       "RMW               0.12\n",
       "CMA              -0.45\n",
       "RF                   0\n",
       "r_excess           NaN\n",
       "Name: 0, dtype: object"
      ]
     },
     "execution_count": 10,
     "metadata": {},
     "output_type": "execute_result"
    }
   ],
   "source": [
    "data.iloc[0]"
   ]
  },
  {
   "cell_type": "markdown",
   "metadata": {},
   "source": [
    "And likewise `data.iloc[0:2]` gives you rows 0 and 1."
   ]
  },
  {
   "cell_type": "code",
   "execution_count": 16,
   "metadata": {},
   "outputs": [
    {
     "data": {
      "text/html": [
       "<div>\n",
       "<style scoped>\n",
       "    .dataframe tbody tr th:only-of-type {\n",
       "        vertical-align: middle;\n",
       "    }\n",
       "\n",
       "    .dataframe tbody tr th {\n",
       "        vertical-align: top;\n",
       "    }\n",
       "\n",
       "    .dataframe thead th {\n",
       "        text-align: right;\n",
       "    }\n",
       "</style>\n",
       "<table border=\"1\" class=\"dataframe\">\n",
       "  <thead>\n",
       "    <tr style=\"text-align: right;\">\n",
       "      <th></th>\n",
       "      <th>date</th>\n",
       "      <th>open</th>\n",
       "      <th>high</th>\n",
       "      <th>low</th>\n",
       "      <th>close</th>\n",
       "      <th>volume</th>\n",
       "      <th>Name</th>\n",
       "      <th>ret</th>\n",
       "      <th>Mkt</th>\n",
       "      <th>SMB</th>\n",
       "      <th>HML</th>\n",
       "      <th>RMW</th>\n",
       "      <th>CMA</th>\n",
       "      <th>RF</th>\n",
       "      <th>r_excess</th>\n",
       "    </tr>\n",
       "  </thead>\n",
       "  <tbody>\n",
       "    <tr>\n",
       "      <th>0</th>\n",
       "      <td>2013-02-08</td>\n",
       "      <td>45.07</td>\n",
       "      <td>45.35</td>\n",
       "      <td>45.00</td>\n",
       "      <td>45.08</td>\n",
       "      <td>1824755</td>\n",
       "      <td>A</td>\n",
       "      <td>NaN</td>\n",
       "      <td>0.58</td>\n",
       "      <td>0.03</td>\n",
       "      <td>-0.21</td>\n",
       "      <td>0.12</td>\n",
       "      <td>-0.45</td>\n",
       "      <td>0.0</td>\n",
       "      <td>NaN</td>\n",
       "    </tr>\n",
       "    <tr>\n",
       "      <th>1</th>\n",
       "      <td>2013-02-11</td>\n",
       "      <td>45.17</td>\n",
       "      <td>45.18</td>\n",
       "      <td>44.45</td>\n",
       "      <td>44.60</td>\n",
       "      <td>2915405</td>\n",
       "      <td>A</td>\n",
       "      <td>-0.010648</td>\n",
       "      <td>-0.08</td>\n",
       "      <td>-0.03</td>\n",
       "      <td>0.39</td>\n",
       "      <td>-0.18</td>\n",
       "      <td>0.28</td>\n",
       "      <td>0.0</td>\n",
       "      <td>-0.010648</td>\n",
       "    </tr>\n",
       "  </tbody>\n",
       "</table>\n",
       "</div>"
      ],
      "text/plain": [
       "         date   open   high    low  close   volume Name       ret   Mkt   SMB  \\\n",
       "0  2013-02-08  45.07  45.35  45.00  45.08  1824755    A       NaN  0.58  0.03   \n",
       "1  2013-02-11  45.17  45.18  44.45  44.60  2915405    A -0.010648 -0.08 -0.03   \n",
       "\n",
       "    HML   RMW   CMA   RF  r_excess  \n",
       "0 -0.21  0.12 -0.45  0.0       NaN  \n",
       "1  0.39 -0.18  0.28  0.0 -0.010648  "
      ]
     },
     "execution_count": 16,
     "metadata": {},
     "output_type": "execute_result"
    }
   ],
   "source": [
    "data.iloc[0:2]"
   ]
  },
  {
   "cell_type": "markdown",
   "metadata": {},
   "source": [
    "Here we see an example of a quirk like what we experienced with `range(k,n)` earlier.  Recall that `range(k,n)` will give you the numbers: k, k+1, k+2, ..., n-1.  For example `range(0,2)` gives you: 0, 1 (but not 2!).  Likewise, if we want to refer to a range of numbers within a list, set of rows in a dataframe, etc. we can use the `k:n` to get elements k through n-1.  For example, suppose that we have a shopping list:\n",
    "```\n",
    "shopping_list = ['apples', 'bananas', 'peas']\n",
    "```\n",
    "and, since everybody hates peas, we want to exclude that from our list:\n",
    "```\n",
    "shopping_list[0:2]\n",
    "```\n",
    "would select only the fruits.\n",
    "\n",
    "To get refer to *column* indicies rather than row numbers, we need to use the fact that DataFrames have a *[row,column]* organization to them.  So if you want to get row 0, column 2, you would type"
   ]
  },
  {
   "cell_type": "code",
   "execution_count": 17,
   "metadata": {},
   "outputs": [
    {
     "data": {
      "text/plain": [
       "0    1824755\n",
       "1    2915405\n",
       "Name: volume, dtype: int64"
      ]
     },
     "execution_count": 17,
     "metadata": {},
     "output_type": "execute_result"
    }
   ],
   "source": [
    "data.iloc[0:2,5]"
   ]
  },
  {
   "cell_type": "markdown",
   "metadata": {},
   "source": [
    "Note that if we want to select *every* column of row 0, using the command\n",
    "```\n",
    "data.iloc[0]\n",
    "```\n",
    "works because Python understand that the 0 refers to the row number, and by default it assumes that you would want all the columns.  If instead you want to select *every* row of column 0, we need to do\n",
    "```\n",
    "data.iloc[:,0]\n",
    "```\n",
    "Here, in the row-specification, the statement `:` is a shortcut for saying \"all the rows\".  That is, if instead of writing `k:n` you instead just write `:`, Python understands this to mean that `k` should be 0 and `n` should be the biggest possible number that would make sense (i.e. the number of rows).\n",
    "\n",
    "**Option 2**: refer to rows and columns by their *names*\n",
    "\n",
    "Return once again to the first snapshot of this data:"
   ]
  },
  {
   "cell_type": "code",
   "execution_count": 18,
   "metadata": {},
   "outputs": [
    {
     "data": {
      "text/html": [
       "<div>\n",
       "<style scoped>\n",
       "    .dataframe tbody tr th:only-of-type {\n",
       "        vertical-align: middle;\n",
       "    }\n",
       "\n",
       "    .dataframe tbody tr th {\n",
       "        vertical-align: top;\n",
       "    }\n",
       "\n",
       "    .dataframe thead th {\n",
       "        text-align: right;\n",
       "    }\n",
       "</style>\n",
       "<table border=\"1\" class=\"dataframe\">\n",
       "  <thead>\n",
       "    <tr style=\"text-align: right;\">\n",
       "      <th></th>\n",
       "      <th>date</th>\n",
       "      <th>open</th>\n",
       "      <th>high</th>\n",
       "      <th>low</th>\n",
       "      <th>close</th>\n",
       "      <th>volume</th>\n",
       "      <th>Name</th>\n",
       "      <th>ret</th>\n",
       "      <th>Mkt</th>\n",
       "      <th>SMB</th>\n",
       "      <th>HML</th>\n",
       "      <th>RMW</th>\n",
       "      <th>CMA</th>\n",
       "      <th>RF</th>\n",
       "      <th>r_excess</th>\n",
       "    </tr>\n",
       "  </thead>\n",
       "  <tbody>\n",
       "    <tr>\n",
       "      <th>0</th>\n",
       "      <td>2013-02-08</td>\n",
       "      <td>45.07</td>\n",
       "      <td>45.35</td>\n",
       "      <td>45.00</td>\n",
       "      <td>45.08</td>\n",
       "      <td>1824755</td>\n",
       "      <td>A</td>\n",
       "      <td>NaN</td>\n",
       "      <td>0.58</td>\n",
       "      <td>0.03</td>\n",
       "      <td>-0.21</td>\n",
       "      <td>0.12</td>\n",
       "      <td>-0.45</td>\n",
       "      <td>0.0</td>\n",
       "      <td>NaN</td>\n",
       "    </tr>\n",
       "    <tr>\n",
       "      <th>1</th>\n",
       "      <td>2013-02-11</td>\n",
       "      <td>45.17</td>\n",
       "      <td>45.18</td>\n",
       "      <td>44.45</td>\n",
       "      <td>44.60</td>\n",
       "      <td>2915405</td>\n",
       "      <td>A</td>\n",
       "      <td>-0.010648</td>\n",
       "      <td>-0.08</td>\n",
       "      <td>-0.03</td>\n",
       "      <td>0.39</td>\n",
       "      <td>-0.18</td>\n",
       "      <td>0.28</td>\n",
       "      <td>0.0</td>\n",
       "      <td>-0.010648</td>\n",
       "    </tr>\n",
       "    <tr>\n",
       "      <th>2</th>\n",
       "      <td>2013-02-12</td>\n",
       "      <td>44.81</td>\n",
       "      <td>44.95</td>\n",
       "      <td>44.50</td>\n",
       "      <td>44.62</td>\n",
       "      <td>2373731</td>\n",
       "      <td>A</td>\n",
       "      <td>0.000448</td>\n",
       "      <td>0.16</td>\n",
       "      <td>0.26</td>\n",
       "      <td>0.71</td>\n",
       "      <td>-0.54</td>\n",
       "      <td>0.45</td>\n",
       "      <td>0.0</td>\n",
       "      <td>0.000448</td>\n",
       "    </tr>\n",
       "    <tr>\n",
       "      <th>3</th>\n",
       "      <td>2013-02-13</td>\n",
       "      <td>44.81</td>\n",
       "      <td>45.24</td>\n",
       "      <td>44.68</td>\n",
       "      <td>44.75</td>\n",
       "      <td>2052338</td>\n",
       "      <td>A</td>\n",
       "      <td>0.002913</td>\n",
       "      <td>0.14</td>\n",
       "      <td>0.08</td>\n",
       "      <td>-0.01</td>\n",
       "      <td>-0.01</td>\n",
       "      <td>-0.04</td>\n",
       "      <td>0.0</td>\n",
       "      <td>0.002913</td>\n",
       "    </tr>\n",
       "    <tr>\n",
       "      <th>4</th>\n",
       "      <td>2013-02-14</td>\n",
       "      <td>44.72</td>\n",
       "      <td>44.78</td>\n",
       "      <td>44.36</td>\n",
       "      <td>44.58</td>\n",
       "      <td>3826245</td>\n",
       "      <td>A</td>\n",
       "      <td>-0.003799</td>\n",
       "      <td>0.11</td>\n",
       "      <td>0.32</td>\n",
       "      <td>0.12</td>\n",
       "      <td>-0.30</td>\n",
       "      <td>-0.21</td>\n",
       "      <td>0.0</td>\n",
       "      <td>-0.003799</td>\n",
       "    </tr>\n",
       "  </tbody>\n",
       "</table>\n",
       "</div>"
      ],
      "text/plain": [
       "         date   open   high    low  close   volume Name       ret   Mkt   SMB  \\\n",
       "0  2013-02-08  45.07  45.35  45.00  45.08  1824755    A       NaN  0.58  0.03   \n",
       "1  2013-02-11  45.17  45.18  44.45  44.60  2915405    A -0.010648 -0.08 -0.03   \n",
       "2  2013-02-12  44.81  44.95  44.50  44.62  2373731    A  0.000448  0.16  0.26   \n",
       "3  2013-02-13  44.81  45.24  44.68  44.75  2052338    A  0.002913  0.14  0.08   \n",
       "4  2013-02-14  44.72  44.78  44.36  44.58  3826245    A -0.003799  0.11  0.32   \n",
       "\n",
       "    HML   RMW   CMA   RF  r_excess  \n",
       "0 -0.21  0.12 -0.45  0.0       NaN  \n",
       "1  0.39 -0.18  0.28  0.0 -0.010648  \n",
       "2  0.71 -0.54  0.45  0.0  0.000448  \n",
       "3 -0.01 -0.01 -0.04  0.0  0.002913  \n",
       "4  0.12 -0.30 -0.21  0.0 -0.003799  "
      ]
     },
     "execution_count": 18,
     "metadata": {},
     "output_type": "execute_result"
    }
   ],
   "source": [
    "data.head()"
   ]
  },
  {
   "cell_type": "markdown",
   "metadata": {},
   "source": [
    "and observe that the columns have names: `date`, `open`, `high`, `low`, `close`, `volume`, and `Name`.  Note that these names are case sensitive so that the last column can be accessed by typing `ret['Name']` but not `ret['name']`.  This dataset that we loaded does not have row names, so by default Pandas will give each row a name equal to its row numer: 0, 1, 2, etc.\n",
    "\n",
    "Whereas `ret.iloc[:,0]` gave you all the data in column 0, we could instead get all the data from column `date` with `ret.loc[:,'date']`.  The shortcut for this, since it is the usual way we slice data, is to type `ret['date']`.\n",
    "\n",
    "The first date in the dataset can be accesed with row name `0` and column name `date` by typing:"
   ]
  },
  {
   "cell_type": "code",
   "execution_count": 20,
   "metadata": {},
   "outputs": [
    {
     "data": {
      "text/plain": [
       "1824755"
      ]
     },
     "execution_count": 20,
     "metadata": {},
     "output_type": "execute_result"
    }
   ],
   "source": [
    "data.loc[0, 'volume']"
   ]
  },
  {
   "cell_type": "markdown",
   "metadata": {},
   "source": [
    "### Dates\n",
    "\n",
    "If you see the string `'2013-02-14'`, your brain automatically reads this as \"February 14, 2013\".  Python doesn't have a brain.  If we want Python to translate a string that represents a date into something that it can recognize as a date, we need give it some specific instructions.\n",
    "\n",
    "What does it mean for a variable to be recognized as a date in Python?  Well, consider the date `'2013-01-31'`.  People with brains know that if we increment the date by one, the following date is `'2013-02-01'`.  Brainless Python doesn't understand something like `'2013-01-31'+1`.\n",
    "\n",
    "Just like a `pandas` *DataFrame* special variable type is the most useful way to store data in Python, the best way to work with dates is using the `datetime` module's *datetime* special variable type.  The `datetime` module's *datetime* variable has built-in features that enable Python to do things like add on a day (e.g. add a day to $1/31/2013$ to get $2/1/2013$).\n",
    "\n",
    "**Remember**: our goal is not to make things easy today, our goal is to be smart enough to make things easy for the rest of our lives!\n",
    "\n",
    "Begin by importing the `datetime` module"
   ]
  },
  {
   "cell_type": "code",
   "execution_count": 21,
   "metadata": {},
   "outputs": [],
   "source": [
    "import datetime"
   ]
  },
  {
   "cell_type": "markdown",
   "metadata": {},
   "source": [
    "The `date` column in our `pandas` DataFrame is not a `datetime` variable.  We will create a new column, `dt`, that is.\n",
    "\n",
    "The `datetime` module has a function `datetime.datetime.strptime()` that takes a date and converts it into a special `datetime` variable.  Similarly the function `datetime.datetime.timedelta(days=1)` is how we could add $1$ day to our date."
   ]
  },
  {
   "cell_type": "code",
   "execution_count": 23,
   "metadata": {},
   "outputs": [
    {
     "name": "stdout",
     "output_type": "stream",
     "text": [
      "20110131\n",
      "2011-01-31 00:00:00\n",
      "20110132\n",
      "2011-02-01 00:00:00\n"
     ]
    }
   ],
   "source": [
    "x = 20110131\n",
    "x_dt = datetime.datetime.strptime( str(x), '%Y%m%d' )\n",
    "print(x)\n",
    "print(x_dt)\n",
    "print(x+1)\n",
    "print(x_dt + datetime.timedelta(days=1))"
   ]
  },
  {
   "cell_type": "markdown",
   "metadata": {},
   "source": [
    "Let's break down what happens in `x_dt = datetime.datetime.strptime(str(x), '%Y%m%d')`\n",
    "\n",
    "* `x_dt =` : define a new variable `x_dt` equal to...\n",
    "* `datetime.datetime.strptime()` : the `datetime` function capable of converting integer or string dates into `datetime` variables\n",
    "* `str(x)` : we happened to define x as an *integer*, so `str()` is the function we use to convert it to a *string*\n",
    "  * Remember, *integers* are variables where we can ask Python to do `x/2` and it understands what to do\n",
    "  * In contrast, a string like `y = 'dog'` does not have mathematical properties, and Python will freak out if you ask it to do `y/2`\n",
    "  * It just so happens that the `strptime()` function expects *string* arguments and not *integers*\n",
    "* `'%Y%m%d'` : this is how we tell the `strptime()` function what the string date is formatted like -- lookup the codes [here](http://strftime.org/)\n",
    "  * '20110131' is of type '%Y%m%d'\n",
    "  * '11Jan31' is of type '%y%b%d'\n",
    "  * '31January2011' is of type '%d%B%Y'\n",
    "  \n",
    "To add a new column to `data`, all we need to do is put `data['dt'] = ` and then tell Python what this column should be equal to.  For example:"
   ]
  },
  {
   "cell_type": "code",
   "execution_count": 24,
   "metadata": {},
   "outputs": [
    {
     "data": {
      "text/html": [
       "<div>\n",
       "<style scoped>\n",
       "    .dataframe tbody tr th:only-of-type {\n",
       "        vertical-align: middle;\n",
       "    }\n",
       "\n",
       "    .dataframe tbody tr th {\n",
       "        vertical-align: top;\n",
       "    }\n",
       "\n",
       "    .dataframe thead th {\n",
       "        text-align: right;\n",
       "    }\n",
       "</style>\n",
       "<table border=\"1\" class=\"dataframe\">\n",
       "  <thead>\n",
       "    <tr style=\"text-align: right;\">\n",
       "      <th></th>\n",
       "      <th>date</th>\n",
       "      <th>open</th>\n",
       "      <th>high</th>\n",
       "      <th>low</th>\n",
       "      <th>close</th>\n",
       "      <th>volume</th>\n",
       "      <th>Name</th>\n",
       "      <th>ret</th>\n",
       "      <th>Mkt</th>\n",
       "      <th>SMB</th>\n",
       "      <th>HML</th>\n",
       "      <th>RMW</th>\n",
       "      <th>CMA</th>\n",
       "      <th>RF</th>\n",
       "      <th>r_excess</th>\n",
       "      <th>dt</th>\n",
       "    </tr>\n",
       "  </thead>\n",
       "  <tbody>\n",
       "    <tr>\n",
       "      <th>0</th>\n",
       "      <td>2013-02-08</td>\n",
       "      <td>45.07</td>\n",
       "      <td>45.35</td>\n",
       "      <td>45.00</td>\n",
       "      <td>45.08</td>\n",
       "      <td>1824755</td>\n",
       "      <td>A</td>\n",
       "      <td>NaN</td>\n",
       "      <td>0.58</td>\n",
       "      <td>0.03</td>\n",
       "      <td>-0.21</td>\n",
       "      <td>0.12</td>\n",
       "      <td>-0.45</td>\n",
       "      <td>0.0</td>\n",
       "      <td>NaN</td>\n",
       "      <td>1</td>\n",
       "    </tr>\n",
       "    <tr>\n",
       "      <th>1</th>\n",
       "      <td>2013-02-11</td>\n",
       "      <td>45.17</td>\n",
       "      <td>45.18</td>\n",
       "      <td>44.45</td>\n",
       "      <td>44.60</td>\n",
       "      <td>2915405</td>\n",
       "      <td>A</td>\n",
       "      <td>-0.010648</td>\n",
       "      <td>-0.08</td>\n",
       "      <td>-0.03</td>\n",
       "      <td>0.39</td>\n",
       "      <td>-0.18</td>\n",
       "      <td>0.28</td>\n",
       "      <td>0.0</td>\n",
       "      <td>-0.010648</td>\n",
       "      <td>1</td>\n",
       "    </tr>\n",
       "    <tr>\n",
       "      <th>2</th>\n",
       "      <td>2013-02-12</td>\n",
       "      <td>44.81</td>\n",
       "      <td>44.95</td>\n",
       "      <td>44.50</td>\n",
       "      <td>44.62</td>\n",
       "      <td>2373731</td>\n",
       "      <td>A</td>\n",
       "      <td>0.000448</td>\n",
       "      <td>0.16</td>\n",
       "      <td>0.26</td>\n",
       "      <td>0.71</td>\n",
       "      <td>-0.54</td>\n",
       "      <td>0.45</td>\n",
       "      <td>0.0</td>\n",
       "      <td>0.000448</td>\n",
       "      <td>1</td>\n",
       "    </tr>\n",
       "    <tr>\n",
       "      <th>3</th>\n",
       "      <td>2013-02-13</td>\n",
       "      <td>44.81</td>\n",
       "      <td>45.24</td>\n",
       "      <td>44.68</td>\n",
       "      <td>44.75</td>\n",
       "      <td>2052338</td>\n",
       "      <td>A</td>\n",
       "      <td>0.002913</td>\n",
       "      <td>0.14</td>\n",
       "      <td>0.08</td>\n",
       "      <td>-0.01</td>\n",
       "      <td>-0.01</td>\n",
       "      <td>-0.04</td>\n",
       "      <td>0.0</td>\n",
       "      <td>0.002913</td>\n",
       "      <td>1</td>\n",
       "    </tr>\n",
       "    <tr>\n",
       "      <th>4</th>\n",
       "      <td>2013-02-14</td>\n",
       "      <td>44.72</td>\n",
       "      <td>44.78</td>\n",
       "      <td>44.36</td>\n",
       "      <td>44.58</td>\n",
       "      <td>3826245</td>\n",
       "      <td>A</td>\n",
       "      <td>-0.003799</td>\n",
       "      <td>0.11</td>\n",
       "      <td>0.32</td>\n",
       "      <td>0.12</td>\n",
       "      <td>-0.30</td>\n",
       "      <td>-0.21</td>\n",
       "      <td>0.0</td>\n",
       "      <td>-0.003799</td>\n",
       "      <td>1</td>\n",
       "    </tr>\n",
       "  </tbody>\n",
       "</table>\n",
       "</div>"
      ],
      "text/plain": [
       "         date   open   high    low  close   volume Name       ret   Mkt   SMB  \\\n",
       "0  2013-02-08  45.07  45.35  45.00  45.08  1824755    A       NaN  0.58  0.03   \n",
       "1  2013-02-11  45.17  45.18  44.45  44.60  2915405    A -0.010648 -0.08 -0.03   \n",
       "2  2013-02-12  44.81  44.95  44.50  44.62  2373731    A  0.000448  0.16  0.26   \n",
       "3  2013-02-13  44.81  45.24  44.68  44.75  2052338    A  0.002913  0.14  0.08   \n",
       "4  2013-02-14  44.72  44.78  44.36  44.58  3826245    A -0.003799  0.11  0.32   \n",
       "\n",
       "    HML   RMW   CMA   RF  r_excess  dt  \n",
       "0 -0.21  0.12 -0.45  0.0       NaN   1  \n",
       "1  0.39 -0.18  0.28  0.0 -0.010648   1  \n",
       "2  0.71 -0.54  0.45  0.0  0.000448   1  \n",
       "3 -0.01 -0.01 -0.04  0.0  0.002913   1  \n",
       "4  0.12 -0.30 -0.21  0.0 -0.003799   1  "
      ]
     },
     "execution_count": 24,
     "metadata": {},
     "output_type": "execute_result"
    }
   ],
   "source": [
    "data['dt'] = 1\n",
    "data.head()"
   ]
  },
  {
   "cell_type": "markdown",
   "metadata": {},
   "source": [
    "`data['dt'] = 1` creates a new column `dt` equal to all 1s.\n",
    "\n",
    "We want to take the column `date` and use the `strptime()` function to make a column `dt`\n",
    "\n",
    "Fortunately, `pandas` has a function `to_datetime()` that works like the `strptime()` function but it can convert and entire column all at once"
   ]
  },
  {
   "cell_type": "code",
   "execution_count": 25,
   "metadata": {},
   "outputs": [
    {
     "data": {
      "text/html": [
       "<div>\n",
       "<style scoped>\n",
       "    .dataframe tbody tr th:only-of-type {\n",
       "        vertical-align: middle;\n",
       "    }\n",
       "\n",
       "    .dataframe tbody tr th {\n",
       "        vertical-align: top;\n",
       "    }\n",
       "\n",
       "    .dataframe thead th {\n",
       "        text-align: right;\n",
       "    }\n",
       "</style>\n",
       "<table border=\"1\" class=\"dataframe\">\n",
       "  <thead>\n",
       "    <tr style=\"text-align: right;\">\n",
       "      <th></th>\n",
       "      <th>date</th>\n",
       "      <th>open</th>\n",
       "      <th>high</th>\n",
       "      <th>low</th>\n",
       "      <th>close</th>\n",
       "      <th>volume</th>\n",
       "      <th>Name</th>\n",
       "      <th>ret</th>\n",
       "      <th>Mkt</th>\n",
       "      <th>SMB</th>\n",
       "      <th>HML</th>\n",
       "      <th>RMW</th>\n",
       "      <th>CMA</th>\n",
       "      <th>RF</th>\n",
       "      <th>r_excess</th>\n",
       "      <th>dt</th>\n",
       "    </tr>\n",
       "  </thead>\n",
       "  <tbody>\n",
       "    <tr>\n",
       "      <th>0</th>\n",
       "      <td>2013-02-08</td>\n",
       "      <td>45.07</td>\n",
       "      <td>45.35</td>\n",
       "      <td>45.00</td>\n",
       "      <td>45.08</td>\n",
       "      <td>1824755</td>\n",
       "      <td>A</td>\n",
       "      <td>NaN</td>\n",
       "      <td>0.58</td>\n",
       "      <td>0.03</td>\n",
       "      <td>-0.21</td>\n",
       "      <td>0.12</td>\n",
       "      <td>-0.45</td>\n",
       "      <td>0.0</td>\n",
       "      <td>NaN</td>\n",
       "      <td>2013-02-08</td>\n",
       "    </tr>\n",
       "    <tr>\n",
       "      <th>1</th>\n",
       "      <td>2013-02-11</td>\n",
       "      <td>45.17</td>\n",
       "      <td>45.18</td>\n",
       "      <td>44.45</td>\n",
       "      <td>44.60</td>\n",
       "      <td>2915405</td>\n",
       "      <td>A</td>\n",
       "      <td>-0.010648</td>\n",
       "      <td>-0.08</td>\n",
       "      <td>-0.03</td>\n",
       "      <td>0.39</td>\n",
       "      <td>-0.18</td>\n",
       "      <td>0.28</td>\n",
       "      <td>0.0</td>\n",
       "      <td>-0.010648</td>\n",
       "      <td>2013-02-11</td>\n",
       "    </tr>\n",
       "    <tr>\n",
       "      <th>2</th>\n",
       "      <td>2013-02-12</td>\n",
       "      <td>44.81</td>\n",
       "      <td>44.95</td>\n",
       "      <td>44.50</td>\n",
       "      <td>44.62</td>\n",
       "      <td>2373731</td>\n",
       "      <td>A</td>\n",
       "      <td>0.000448</td>\n",
       "      <td>0.16</td>\n",
       "      <td>0.26</td>\n",
       "      <td>0.71</td>\n",
       "      <td>-0.54</td>\n",
       "      <td>0.45</td>\n",
       "      <td>0.0</td>\n",
       "      <td>0.000448</td>\n",
       "      <td>2013-02-12</td>\n",
       "    </tr>\n",
       "    <tr>\n",
       "      <th>3</th>\n",
       "      <td>2013-02-13</td>\n",
       "      <td>44.81</td>\n",
       "      <td>45.24</td>\n",
       "      <td>44.68</td>\n",
       "      <td>44.75</td>\n",
       "      <td>2052338</td>\n",
       "      <td>A</td>\n",
       "      <td>0.002913</td>\n",
       "      <td>0.14</td>\n",
       "      <td>0.08</td>\n",
       "      <td>-0.01</td>\n",
       "      <td>-0.01</td>\n",
       "      <td>-0.04</td>\n",
       "      <td>0.0</td>\n",
       "      <td>0.002913</td>\n",
       "      <td>2013-02-13</td>\n",
       "    </tr>\n",
       "    <tr>\n",
       "      <th>4</th>\n",
       "      <td>2013-02-14</td>\n",
       "      <td>44.72</td>\n",
       "      <td>44.78</td>\n",
       "      <td>44.36</td>\n",
       "      <td>44.58</td>\n",
       "      <td>3826245</td>\n",
       "      <td>A</td>\n",
       "      <td>-0.003799</td>\n",
       "      <td>0.11</td>\n",
       "      <td>0.32</td>\n",
       "      <td>0.12</td>\n",
       "      <td>-0.30</td>\n",
       "      <td>-0.21</td>\n",
       "      <td>0.0</td>\n",
       "      <td>-0.003799</td>\n",
       "      <td>2013-02-14</td>\n",
       "    </tr>\n",
       "  </tbody>\n",
       "</table>\n",
       "</div>"
      ],
      "text/plain": [
       "         date   open   high    low  close   volume Name       ret   Mkt   SMB  \\\n",
       "0  2013-02-08  45.07  45.35  45.00  45.08  1824755    A       NaN  0.58  0.03   \n",
       "1  2013-02-11  45.17  45.18  44.45  44.60  2915405    A -0.010648 -0.08 -0.03   \n",
       "2  2013-02-12  44.81  44.95  44.50  44.62  2373731    A  0.000448  0.16  0.26   \n",
       "3  2013-02-13  44.81  45.24  44.68  44.75  2052338    A  0.002913  0.14  0.08   \n",
       "4  2013-02-14  44.72  44.78  44.36  44.58  3826245    A -0.003799  0.11  0.32   \n",
       "\n",
       "    HML   RMW   CMA   RF  r_excess         dt  \n",
       "0 -0.21  0.12 -0.45  0.0       NaN 2013-02-08  \n",
       "1  0.39 -0.18  0.28  0.0 -0.010648 2013-02-11  \n",
       "2  0.71 -0.54  0.45  0.0  0.000448 2013-02-12  \n",
       "3 -0.01 -0.01 -0.04  0.0  0.002913 2013-02-13  \n",
       "4  0.12 -0.30 -0.21  0.0 -0.003799 2013-02-14  "
      ]
     },
     "execution_count": 25,
     "metadata": {},
     "output_type": "execute_result"
    }
   ],
   "source": [
    "data['dt'] = pd.to_datetime(data['date'], format='%Y-%m-%d')\n",
    "data.head()"
   ]
  },
  {
   "cell_type": "markdown",
   "metadata": {},
   "source": [
    "To the human eye, the columns `date` and `dt` look identical.  That's because `datetime` dates still print out nicely as formatted strings.\n",
    "\n",
    "We can use the `.dtypes` function that is built-in to `pandas` DataFrame objects to confirm that `dt` is indeed a `datetime` variable."
   ]
  },
  {
   "cell_type": "code",
   "execution_count": 26,
   "metadata": {},
   "outputs": [
    {
     "data": {
      "text/plain": [
       "date                object\n",
       "open               float64\n",
       "high               float64\n",
       "low                float64\n",
       "close              float64\n",
       "volume               int64\n",
       "Name                object\n",
       "ret                float64\n",
       "Mkt                float64\n",
       "SMB                float64\n",
       "HML                float64\n",
       "RMW                float64\n",
       "CMA                float64\n",
       "RF                 float64\n",
       "r_excess           float64\n",
       "dt          datetime64[ns]\n",
       "dtype: object"
      ]
     },
     "execution_count": 26,
     "metadata": {},
     "output_type": "execute_result"
    }
   ],
   "source": [
    "data.dtypes"
   ]
  },
  {
   "cell_type": "markdown",
   "metadata": {},
   "source": [
    "String columns will be reported as `object` types in pandas."
   ]
  },
  {
   "cell_type": "markdown",
   "metadata": {
    "collapsed": true
   },
   "source": [
    "## Homework Assignment\n",
    "\n",
    "### Project Valuation: NPV vs. IRR\n",
    "\n",
    "In finance, we value a stream of future cash flows by discounting these to the present period.  For example, suppose a division manager at a firm wishes to determine whether a new investment project is worth purusing.  How should the manager make this decision?  One method to do this is with net present value (NPV).  Another is with internal rate of return (IRR).  You should have heard of both of these before, and will probably remember that NPV is the preferred approach.  As your first Python exercise, you'll get to prove to/remind yourself why one should *not* use IRR.\n",
    "\n",
    "For your convenience, both the NPV and IRR decision rules are reviewed here.\n",
    "\n",
    "#### Net Present Value\n",
    "\n",
    "A project with cash outflow at time $0$, future cash flows $C_1, C_2, ...$, and discount rate $r$ is undertaken if:\n",
    "$$\n",
    "-C_0 + \\sum_{t=1}^T \\frac{CF_t}{(1+r)^t} > 0\n",
    "$$\n",
    "where $T$ is the number of years that the project lasts.\n",
    "\n",
    "##### Internal Rate of Return\n",
    "\n",
    "A project with cash outflow at time $0$, future cash flows $C_1, C_2, ...$, and required rate of return $h$ is undertaken if:\n",
    "$$\n",
    "r > h\n",
    "$$\n",
    "where $r$ solves\n",
    "$$\n",
    "-C_0 + \\sum_{t=1}^T \\frac{CF_t}{(1+r)^t} = 0.\n",
    "$$\n",
    "We usually refer to $h$ as the hurdle rate.\n",
    "\n",
    "#### Homework Format\n",
    "\n",
    "When homework assignments are presented as Jupyter notebooks (as is the case here), you will be expected to edit some of the Python code to complete a problem.  Not all of the code requires editing.  The parts of the Python code that need to be completed by you are marked in comments blocks.\n",
    "\n",
    "For example, suppose that you are asked to complete the following function:\n",
    "```python\n",
    "def leverage_ratio(D,E):\n",
    "    ### start code here (~ 1 line)\n",
    "    ratio = \n",
    "    ### end code here\n",
    "    return ratio\n",
    "```\n",
    "\n",
    "That is, you are asked to complete the function named `leverage_ratio()` so that when a user provides values for `D` and `E` to the function, the function returns the leverage ratio based on these values.  The code that you are expected to modify is nested within the lines `### start code here` and `### end code here`.  Do not change any code outside of these blocks.  The correct answer to this hypothetical problem would, of course, be:\n",
    "```python\n",
    "def leverage_ratio(D,E):\n",
    "    ### start code here (~ 1 line)\n",
    "    ratio = D / (D+E)\n",
    "    ### end code here\n",
    "    return ratio\n",
    "```"
   ]
  },
  {
   "cell_type": "markdown",
   "metadata": {},
   "source": [
    "#### Tutorial: NPV and IRR with Numpy\n",
    "\n",
    "For your homework, you will calculate the NPV and IRR of various possible scenarios.  The exceptionally popular *numpy* module includes functions that make calculating NPV and IRR simple.\n",
    "\n",
    "Begin by running the following block of code to import the numpy module."
   ]
  },
  {
   "cell_type": "code",
   "execution_count": 1,
   "metadata": {},
   "outputs": [],
   "source": [
    "import numpy as np\n",
    "import warnings\n",
    "warnings.filterwarnings(\"ignore\", category=DeprecationWarning) # ignore this"
   ]
  },
  {
   "cell_type": "markdown",
   "metadata": {},
   "source": [
    "For a project that requires a cash outlay of $\\$100$ today, and cash inflows of $\\$23$ for the next five years, the npv of the project is calculated in Python by:\n",
    "```\n",
    "np.npv(rate=0.05,values=[-100,23,23,23,23,23])\n",
    "```\n",
    "assuming a discount rate of $5\\%$.  To calculate the IRR of the project, we run:\n",
    "```\n",
    "np.irr(values=[-100,23,23,23,23,23])\n",
    "```\n",
    "The following block of code runs and prints these two calculations."
   ]
  },
  {
   "cell_type": "code",
   "execution_count": 2,
   "metadata": {},
   "outputs": [
    {
     "name": "stdout",
     "output_type": "stream",
     "text": [
      "-0.42203657549117324 0.04847191052053912\n"
     ]
    }
   ],
   "source": [
    "project_npv = np.npv(rate=0.05,values=[-100,23,23,23,23,23])\n",
    "project_irr = np.irr(values=[-100,23,23,23,23,23])\n",
    "print(project_npv,project_irr)"
   ]
  },
  {
   "cell_type": "markdown",
   "metadata": {},
   "source": [
    "You should notice that the NPV of the stream of cash flows is negative, suggesting that this isn't a project that you'd want to take on.  Note too that the IRR is less than the discount rate, which is another sign that this is a bad project.  In the following exercises, you'll see that NPV and IRR can give you inconsistent implications about project quality."
   ]
  },
  {
   "cell_type": "markdown",
   "metadata": {},
   "source": [
    "**Question 1 -- Delayed Investment**\n",
    "\n",
    "Suppose that have just retired as the CEO of a successful company.  A major publisher has offered you a book deal. The publisher will pay you $\\$1$ million upfront if you agree to write a book about your experiences. You estimate that it will take three years to write the book. The time you spend writing will cause you to give up speaking engagements amounting to $\\$500,000$ per year. You estimate your opportunity cost to be $10\\%$.\n",
    "\n",
    "Calculate the NPV of the deal."
   ]
  },
  {
   "cell_type": "code",
   "execution_count": null,
   "metadata": {},
   "outputs": [],
   "source": [
    "### start code here (~ 1 line)\n",
    "\n",
    "### end code here"
   ]
  },
  {
   "cell_type": "markdown",
   "metadata": {},
   "source": [
    "The expected output is (check your code if the prinout does not match this number):\n",
    "```\n",
    "-243425.99549211108\n",
    "```\n",
    "\n",
    "Next, calculate the IRR of the deal."
   ]
  },
  {
   "cell_type": "code",
   "execution_count": null,
   "metadata": {},
   "outputs": [],
   "source": [
    "### start code here (~ 1 line)\n",
    "\n",
    "### end code here"
   ]
  },
  {
   "cell_type": "markdown",
   "metadata": {},
   "source": [
    "The expected output is:\n",
    "```python\n",
    "0.23375192852825855\n",
    "```"
   ]
  },
  {
   "cell_type": "markdown",
   "metadata": {},
   "source": [
    "**Question 2 -- Multiple IRRs**\n",
    "\n",
    "Suppose that instead of receiving $\\$1$ million up front, the publisher offers $\\$550,000$ advance and $\\$1$ million in four years when the book is published.\n",
    "\n",
    "Calculate the NPV of the deal."
   ]
  },
  {
   "cell_type": "code",
   "execution_count": null,
   "metadata": {},
   "outputs": [],
   "source": [
    "### start code here (~ 1 line)\n",
    "\n",
    "### end code here"
   ]
  },
  {
   "cell_type": "markdown",
   "metadata": {},
   "source": [
    "Now calculate the IRR of the deal."
   ]
  },
  {
   "cell_type": "code",
   "execution_count": null,
   "metadata": {},
   "outputs": [],
   "source": [
    "### start code here (~ 1 line)\n",
    "\n",
    "### end code here"
   ]
  },
  {
   "cell_type": "markdown",
   "metadata": {},
   "source": [
    "You should find that the NPV is negative, but the IRR is positive.  To see what's going wrong here, recall tha the IRR is the discount rate that sets the cash flow stream to zero net present value.  In the `np.irr()` call above, Python returned an IRR to you.  But it's not the only possible IRR for this problem!  Mathematically, certain cash flow streams can have *multiple* IRRs that would set the cash flow stream to zero net present value.  To see this happen, plot the NPV for this cash flow stream over a range of possible discount rates (you'll find two that set the NPV to zero, one was the answer that `np.irr()` gave you above).  For this problem, you should include discount rates over the range $[0.01,0.51]$.\n",
    "\n",
    "Hint: to loop over rates between $[0.01,0.51]$, one can use the `np.arange()` function with a third argument:\n",
    "```\n",
    "for r in np.arange(0.01,0.53,0.02):\n",
    "    ... # things inside the for loop happen here\n",
    "```\n",
    "and $r$ will take values $[0.01,0.03,0.05,...,.0.49,0.051]$. The third argument controls the *step size*, which is how much the loop increments each time (the default is to go up by $1$).  The function `range()` which we used in class cannot use decimal numbers."
   ]
  },
  {
   "cell_type": "code",
   "execution_count": null,
   "metadata": {},
   "outputs": [],
   "source": [
    "# leave these four lines as is, they are needed to get the plot function working\n",
    "%matplotlib inline\n",
    "import matplotlib\n",
    "import numpy as np\n",
    "import matplotlib.pyplot as plt\n",
    "\n",
    "# define any empty lists you need here\n",
    "### start code here (~ 2 lines)\n",
    "rate_list =\n",
    "npv_list =\n",
    "### end code here\n",
    "\n",
    "# loop over rates from 0.01 to 0.51, incrementing by 0.02 each time\n",
    "### start code here (~ 3 lines)\n",
    "for\n",
    "    # inside the loop, calculate the NPV.  Update any lists that may need updating\n",
    "    npv_list.append()\n",
    "    rate_list.append()\n",
    "    \n",
    "### end code here\n",
    "\n",
    "# plot the NPV for each rate you considered here\n",
    "plt.plot(rate_list, npv_list)\n",
    "plt.show()"
   ]
  },
  {
   "cell_type": "markdown",
   "metadata": {},
   "source": [
    "You should observe a U-shaped curve that appears to cross the line somewhere below 0.1 as well as somewhere above 0.3.  These are two valid IRRs for the question."
   ]
  }
 ],
 "metadata": {
  "kernelspec": {
   "display_name": "Python 3",
   "language": "python",
   "name": "python3"
  },
  "language_info": {
   "codemirror_mode": {
    "name": "ipython",
    "version": 3
   },
   "file_extension": ".py",
   "mimetype": "text/x-python",
   "name": "python",
   "nbconvert_exporter": "python",
   "pygments_lexer": "ipython3",
   "version": "3.8.3"
  }
 },
 "nbformat": 4,
 "nbformat_minor": 4
}
